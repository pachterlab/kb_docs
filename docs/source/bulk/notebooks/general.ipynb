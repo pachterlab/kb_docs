{
  "cells": [
    {
      "cell_type": "markdown",
      "metadata": {
        "id": "view-in-github",
        "colab_type": "text"
      },
      "source": [
        "<a href=\"https://colab.research.google.com/github/pachterlab/kb_docs/blob/main/docs/source/bulk/notebooks/general.ipynb\" target=\"_parent\"><img src=\"https://colab.research.google.com/assets/colab-badge.svg\" alt=\"Open In Colab\"/></a>"
      ]
    },
    {
      "cell_type": "markdown",
      "id": "e7ceb4ee",
      "metadata": {
        "id": "e7ceb4ee"
      },
      "source": [
        "# Bulk RNA-seq (with differential transcript expression)"
      ]
    },
    {
      "cell_type": "markdown",
      "id": "bdc274d6",
      "metadata": {
        "id": "bdc274d6"
      },
      "source": [
        "Notebook authored by Delaney K. Sullivan.\n",
        "\n",
        "Please cite the following publications which describe the tools used in the notebook, as well as specific methods they run (these are cited inline in the notebook):\n",
        "\n",
        "* Bray NL, Pimentel H, Melsted P, Pachter, L. Near-optimal probabilistic RNA-seq quantification. Nat biotechnol., 2016;34(5):525-527.\n",
        "\n",
        "* Sullivan DK, Min KH (Joseph), Hjörleifsson KE, Luebbert L, Holley G, Moses L, et al. kallisto, bustools, and kb-python for quantifying bulk, single-cell, and single-nucleus RNA-seq. Nat Protoc. 2025;20:587–607.\n",
        "\n",
        "\n",
        "\n"
      ]
    },
    {
      "cell_type": "markdown",
      "id": "55ceb854",
      "metadata": {
        "id": "55ceb854"
      },
      "source": [
        "## Install kb-python"
      ]
    },
    {
      "cell_type": "code",
      "execution_count": 1,
      "id": "8a9312ee",
      "metadata": {
        "id": "8a9312ee",
        "outputId": "f88aa667-7857-4345-a0e6-6a21f95f5835",
        "colab": {
          "base_uri": "https://localhost:8080/"
        }
      },
      "outputs": [
        {
          "output_type": "stream",
          "name": "stdout",
          "text": [
            "Collecting kb_python\n",
            "  Downloading kb_python-0.29.5-py3-none-any.whl.metadata (11 kB)\n",
            "Collecting anndata>=0.9.2 (from kb_python)\n",
            "  Downloading anndata-0.11.4-py3-none-any.whl.metadata (9.3 kB)\n",
            "Requirement already satisfied: h5py>=2.10.0 in /usr/local/lib/python3.11/dist-packages (from kb_python) (3.14.0)\n",
            "Requirement already satisfied: Jinja2>2.10.1 in /usr/local/lib/python3.11/dist-packages (from kb_python) (3.1.6)\n",
            "Collecting loompy>=3.0.6 (from kb_python)\n",
            "  Downloading loompy-3.0.8.tar.gz (49 kB)\n",
            "\u001b[2K     \u001b[90m━━━━━━━━━━━━━━━━━━━━━━━━━━━━━━━━━━━━━━━━\u001b[0m \u001b[32m49.6/49.6 kB\u001b[0m \u001b[31m1.9 MB/s\u001b[0m eta \u001b[36m0:00:00\u001b[0m\n",
            "\u001b[?25h  Preparing metadata (setup.py) ... \u001b[?25l\u001b[?25hdone\n",
            "Requirement already satisfied: nbconvert>=5.6.0 in /usr/local/lib/python3.11/dist-packages (from kb_python) (7.16.6)\n",
            "Requirement already satisfied: nbformat>=4.4.0 in /usr/local/lib/python3.11/dist-packages (from kb_python) (5.10.4)\n",
            "Collecting ngs-tools>=1.8.6 (from kb_python)\n",
            "  Downloading ngs_tools-1.8.6-py3-none-any.whl.metadata (2.0 kB)\n",
            "Requirement already satisfied: numpy>=1.17.2 in /usr/local/lib/python3.11/dist-packages (from kb_python) (2.0.2)\n",
            "Requirement already satisfied: pandas>=1.5.3 in /usr/local/lib/python3.11/dist-packages (from kb_python) (2.2.2)\n",
            "Requirement already satisfied: plotly>=4.5.0 in /usr/local/lib/python3.11/dist-packages (from kb_python) (5.24.1)\n",
            "Requirement already satisfied: requests>=2.22.0 in /usr/local/lib/python3.11/dist-packages (from kb_python) (2.32.3)\n",
            "Collecting scanpy>=1.4.4.post1 (from kb_python)\n",
            "  Downloading scanpy-1.11.2-py3-none-any.whl.metadata (9.1 kB)\n",
            "Requirement already satisfied: scikit-learn>=0.21.3 in /usr/local/lib/python3.11/dist-packages (from kb_python) (1.6.1)\n",
            "Requirement already satisfied: typing-extensions>=3.7.4 in /usr/local/lib/python3.11/dist-packages (from kb_python) (4.14.0)\n",
            "Collecting biopython>=1.8 (from kb_python)\n",
            "  Downloading biopython-1.85-cp311-cp311-manylinux_2_17_x86_64.manylinux2014_x86_64.whl.metadata (13 kB)\n",
            "Collecting array-api-compat!=1.5,>1.4 (from anndata>=0.9.2->kb_python)\n",
            "  Downloading array_api_compat-1.12.0-py3-none-any.whl.metadata (2.5 kB)\n",
            "Requirement already satisfied: natsort in /usr/local/lib/python3.11/dist-packages (from anndata>=0.9.2->kb_python) (8.4.0)\n",
            "Requirement already satisfied: packaging>=24.2 in /usr/local/lib/python3.11/dist-packages (from anndata>=0.9.2->kb_python) (24.2)\n",
            "Requirement already satisfied: scipy>1.8 in /usr/local/lib/python3.11/dist-packages (from anndata>=0.9.2->kb_python) (1.15.3)\n",
            "Requirement already satisfied: MarkupSafe>=2.0 in /usr/local/lib/python3.11/dist-packages (from Jinja2>2.10.1->kb_python) (3.0.2)\n",
            "Requirement already satisfied: setuptools in /usr/local/lib/python3.11/dist-packages (from loompy>=3.0.6->kb_python) (75.2.0)\n",
            "Requirement already satisfied: numba in /usr/local/lib/python3.11/dist-packages (from loompy>=3.0.6->kb_python) (0.60.0)\n",
            "Requirement already satisfied: click in /usr/local/lib/python3.11/dist-packages (from loompy>=3.0.6->kb_python) (8.2.1)\n",
            "Collecting numpy-groupies (from loompy>=3.0.6->kb_python)\n",
            "  Downloading numpy_groupies-0.11.3-py3-none-any.whl.metadata (18 kB)\n",
            "Requirement already satisfied: beautifulsoup4 in /usr/local/lib/python3.11/dist-packages (from nbconvert>=5.6.0->kb_python) (4.13.4)\n",
            "Requirement already satisfied: bleach!=5.0.0 in /usr/local/lib/python3.11/dist-packages (from bleach[css]!=5.0.0->nbconvert>=5.6.0->kb_python) (6.2.0)\n",
            "Requirement already satisfied: defusedxml in /usr/local/lib/python3.11/dist-packages (from nbconvert>=5.6.0->kb_python) (0.7.1)\n",
            "Requirement already satisfied: jupyter-core>=4.7 in /usr/local/lib/python3.11/dist-packages (from nbconvert>=5.6.0->kb_python) (5.8.1)\n",
            "Requirement already satisfied: jupyterlab-pygments in /usr/local/lib/python3.11/dist-packages (from nbconvert>=5.6.0->kb_python) (0.3.0)\n",
            "Requirement already satisfied: mistune<4,>=2.0.3 in /usr/local/lib/python3.11/dist-packages (from nbconvert>=5.6.0->kb_python) (3.1.3)\n",
            "Requirement already satisfied: nbclient>=0.5.0 in /usr/local/lib/python3.11/dist-packages (from nbconvert>=5.6.0->kb_python) (0.10.2)\n",
            "Requirement already satisfied: pandocfilters>=1.4.1 in /usr/local/lib/python3.11/dist-packages (from nbconvert>=5.6.0->kb_python) (1.5.1)\n",
            "Requirement already satisfied: pygments>=2.4.1 in /usr/local/lib/python3.11/dist-packages (from nbconvert>=5.6.0->kb_python) (2.19.1)\n",
            "Requirement already satisfied: traitlets>=5.1 in /usr/local/lib/python3.11/dist-packages (from nbconvert>=5.6.0->kb_python) (5.7.1)\n",
            "Requirement already satisfied: fastjsonschema>=2.15 in /usr/local/lib/python3.11/dist-packages (from nbformat>=4.4.0->kb_python) (2.21.1)\n",
            "Requirement already satisfied: jsonschema>=2.6 in /usr/local/lib/python3.11/dist-packages (from nbformat>=4.4.0->kb_python) (4.24.0)\n",
            "Requirement already satisfied: joblib>=1.0.1 in /usr/local/lib/python3.11/dist-packages (from ngs-tools>=1.8.6->kb_python) (1.5.1)\n",
            "Collecting pysam>=0.16.0.1 (from ngs-tools>=1.8.6->kb_python)\n",
            "  Downloading pysam-0.23.3-cp311-cp311-manylinux_2_28_x86_64.whl.metadata (1.7 kB)\n",
            "Collecting shortuuid>=1.0.1 (from ngs-tools>=1.8.6->kb_python)\n",
            "  Downloading shortuuid-1.0.13-py3-none-any.whl.metadata (5.8 kB)\n",
            "Requirement already satisfied: tqdm>=4.50.0 in /usr/local/lib/python3.11/dist-packages (from ngs-tools>=1.8.6->kb_python) (4.67.1)\n",
            "Requirement already satisfied: python-dateutil>=2.8.2 in /usr/local/lib/python3.11/dist-packages (from pandas>=1.5.3->kb_python) (2.9.0.post0)\n",
            "Requirement already satisfied: pytz>=2020.1 in /usr/local/lib/python3.11/dist-packages (from pandas>=1.5.3->kb_python) (2025.2)\n",
            "Requirement already satisfied: tzdata>=2022.7 in /usr/local/lib/python3.11/dist-packages (from pandas>=1.5.3->kb_python) (2025.2)\n",
            "Requirement already satisfied: tenacity>=6.2.0 in /usr/local/lib/python3.11/dist-packages (from plotly>=4.5.0->kb_python) (9.1.2)\n",
            "Requirement already satisfied: charset-normalizer<4,>=2 in /usr/local/lib/python3.11/dist-packages (from requests>=2.22.0->kb_python) (3.4.2)\n",
            "Requirement already satisfied: idna<4,>=2.5 in /usr/local/lib/python3.11/dist-packages (from requests>=2.22.0->kb_python) (3.10)\n",
            "Requirement already satisfied: urllib3<3,>=1.21.1 in /usr/local/lib/python3.11/dist-packages (from requests>=2.22.0->kb_python) (2.4.0)\n",
            "Requirement already satisfied: certifi>=2017.4.17 in /usr/local/lib/python3.11/dist-packages (from requests>=2.22.0->kb_python) (2025.6.15)\n",
            "Collecting legacy-api-wrap>=1.4.1 (from scanpy>=1.4.4.post1->kb_python)\n",
            "  Downloading legacy_api_wrap-1.4.1-py3-none-any.whl.metadata (2.1 kB)\n",
            "Requirement already satisfied: matplotlib>=3.7.5 in /usr/local/lib/python3.11/dist-packages (from scanpy>=1.4.4.post1->kb_python) (3.10.0)\n",
            "Requirement already satisfied: networkx>=2.7.1 in /usr/local/lib/python3.11/dist-packages (from scanpy>=1.4.4.post1->kb_python) (3.5)\n",
            "Requirement already satisfied: patsy!=1.0.0 in /usr/local/lib/python3.11/dist-packages (from scanpy>=1.4.4.post1->kb_python) (1.0.1)\n",
            "Requirement already satisfied: pynndescent>=0.5.13 in /usr/local/lib/python3.11/dist-packages (from scanpy>=1.4.4.post1->kb_python) (0.5.13)\n",
            "Requirement already satisfied: seaborn>=0.13.2 in /usr/local/lib/python3.11/dist-packages (from scanpy>=1.4.4.post1->kb_python) (0.13.2)\n",
            "Collecting session-info2 (from scanpy>=1.4.4.post1->kb_python)\n",
            "  Downloading session_info2-0.1.2-py3-none-any.whl.metadata (2.5 kB)\n",
            "Requirement already satisfied: statsmodels>=0.14.4 in /usr/local/lib/python3.11/dist-packages (from scanpy>=1.4.4.post1->kb_python) (0.14.4)\n",
            "Requirement already satisfied: umap-learn>=0.5.6 in /usr/local/lib/python3.11/dist-packages (from scanpy>=1.4.4.post1->kb_python) (0.5.7)\n",
            "Requirement already satisfied: threadpoolctl>=3.1.0 in /usr/local/lib/python3.11/dist-packages (from scikit-learn>=0.21.3->kb_python) (3.6.0)\n",
            "Requirement already satisfied: webencodings in /usr/local/lib/python3.11/dist-packages (from bleach!=5.0.0->bleach[css]!=5.0.0->nbconvert>=5.6.0->kb_python) (0.5.1)\n",
            "Requirement already satisfied: tinycss2<1.5,>=1.1.0 in /usr/local/lib/python3.11/dist-packages (from bleach[css]!=5.0.0->nbconvert>=5.6.0->kb_python) (1.4.0)\n",
            "Requirement already satisfied: attrs>=22.2.0 in /usr/local/lib/python3.11/dist-packages (from jsonschema>=2.6->nbformat>=4.4.0->kb_python) (25.3.0)\n",
            "Requirement already satisfied: jsonschema-specifications>=2023.03.6 in /usr/local/lib/python3.11/dist-packages (from jsonschema>=2.6->nbformat>=4.4.0->kb_python) (2025.4.1)\n",
            "Requirement already satisfied: referencing>=0.28.4 in /usr/local/lib/python3.11/dist-packages (from jsonschema>=2.6->nbformat>=4.4.0->kb_python) (0.36.2)\n",
            "Requirement already satisfied: rpds-py>=0.7.1 in /usr/local/lib/python3.11/dist-packages (from jsonschema>=2.6->nbformat>=4.4.0->kb_python) (0.25.1)\n",
            "Requirement already satisfied: platformdirs>=2.5 in /usr/local/lib/python3.11/dist-packages (from jupyter-core>=4.7->nbconvert>=5.6.0->kb_python) (4.3.8)\n",
            "Requirement already satisfied: contourpy>=1.0.1 in /usr/local/lib/python3.11/dist-packages (from matplotlib>=3.7.5->scanpy>=1.4.4.post1->kb_python) (1.3.2)\n",
            "Requirement already satisfied: cycler>=0.10 in /usr/local/lib/python3.11/dist-packages (from matplotlib>=3.7.5->scanpy>=1.4.4.post1->kb_python) (0.12.1)\n",
            "Requirement already satisfied: fonttools>=4.22.0 in /usr/local/lib/python3.11/dist-packages (from matplotlib>=3.7.5->scanpy>=1.4.4.post1->kb_python) (4.58.4)\n",
            "Requirement already satisfied: kiwisolver>=1.3.1 in /usr/local/lib/python3.11/dist-packages (from matplotlib>=3.7.5->scanpy>=1.4.4.post1->kb_python) (1.4.8)\n",
            "Requirement already satisfied: pillow>=8 in /usr/local/lib/python3.11/dist-packages (from matplotlib>=3.7.5->scanpy>=1.4.4.post1->kb_python) (11.2.1)\n",
            "Requirement already satisfied: pyparsing>=2.3.1 in /usr/local/lib/python3.11/dist-packages (from matplotlib>=3.7.5->scanpy>=1.4.4.post1->kb_python) (3.2.3)\n",
            "Requirement already satisfied: jupyter-client>=6.1.12 in /usr/local/lib/python3.11/dist-packages (from nbclient>=0.5.0->nbconvert>=5.6.0->kb_python) (6.1.12)\n",
            "Requirement already satisfied: llvmlite<0.44,>=0.43.0dev0 in /usr/local/lib/python3.11/dist-packages (from numba->loompy>=3.0.6->kb_python) (0.43.0)\n",
            "Requirement already satisfied: six>=1.5 in /usr/local/lib/python3.11/dist-packages (from python-dateutil>=2.8.2->pandas>=1.5.3->kb_python) (1.17.0)\n",
            "Requirement already satisfied: soupsieve>1.2 in /usr/local/lib/python3.11/dist-packages (from beautifulsoup4->nbconvert>=5.6.0->kb_python) (2.7)\n",
            "Requirement already satisfied: pyzmq>=13 in /usr/local/lib/python3.11/dist-packages (from jupyter-client>=6.1.12->nbclient>=0.5.0->nbconvert>=5.6.0->kb_python) (24.0.1)\n",
            "Requirement already satisfied: tornado>=4.1 in /usr/local/lib/python3.11/dist-packages (from jupyter-client>=6.1.12->nbclient>=0.5.0->nbconvert>=5.6.0->kb_python) (6.4.2)\n",
            "Downloading kb_python-0.29.5-py3-none-any.whl (36.5 MB)\n",
            "\u001b[2K   \u001b[90m━━━━━━━━━━━━━━━━━━━━━━━━━━━━━━━━━━━━━━━━\u001b[0m \u001b[32m36.5/36.5 MB\u001b[0m \u001b[31m20.3 MB/s\u001b[0m eta \u001b[36m0:00:00\u001b[0m\n",
            "\u001b[?25hDownloading anndata-0.11.4-py3-none-any.whl (144 kB)\n",
            "\u001b[2K   \u001b[90m━━━━━━━━━━━━━━━━━━━━━━━━━━━━━━━━━━━━━━━━\u001b[0m \u001b[32m144.5/144.5 kB\u001b[0m \u001b[31m6.9 MB/s\u001b[0m eta \u001b[36m0:00:00\u001b[0m\n",
            "\u001b[?25hDownloading biopython-1.85-cp311-cp311-manylinux_2_17_x86_64.manylinux2014_x86_64.whl (3.3 MB)\n",
            "\u001b[2K   \u001b[90m━━━━━━━━━━━━━━━━━━━━━━━━━━━━━━━━━━━━━━━━\u001b[0m \u001b[32m3.3/3.3 MB\u001b[0m \u001b[31m69.2 MB/s\u001b[0m eta \u001b[36m0:00:00\u001b[0m\n",
            "\u001b[?25hDownloading ngs_tools-1.8.6-py3-none-any.whl (50.9 MB)\n",
            "\u001b[2K   \u001b[90m━━━━━━━━━━━━━━━━━━━━━━━━━━━━━━━━━━━━━━━━\u001b[0m \u001b[32m50.9/50.9 MB\u001b[0m \u001b[31m12.7 MB/s\u001b[0m eta \u001b[36m0:00:00\u001b[0m\n",
            "\u001b[?25hDownloading scanpy-1.11.2-py3-none-any.whl (2.1 MB)\n",
            "\u001b[2K   \u001b[90m━━━━━━━━━━━━━━━━━━━━━━━━━━━━━━━━━━━━━━━━\u001b[0m \u001b[32m2.1/2.1 MB\u001b[0m \u001b[31m18.2 MB/s\u001b[0m eta \u001b[36m0:00:00\u001b[0m\n",
            "\u001b[?25hDownloading array_api_compat-1.12.0-py3-none-any.whl (58 kB)\n",
            "\u001b[2K   \u001b[90m━━━━━━━━━━━━━━━━━━━━━━━━━━━━━━━━━━━━━━━━\u001b[0m \u001b[32m58.2/58.2 kB\u001b[0m \u001b[31m4.3 MB/s\u001b[0m eta \u001b[36m0:00:00\u001b[0m\n",
            "\u001b[?25hDownloading legacy_api_wrap-1.4.1-py3-none-any.whl (10.0 kB)\n",
            "Downloading pysam-0.23.3-cp311-cp311-manylinux_2_28_x86_64.whl (26.5 MB)\n",
            "\u001b[2K   \u001b[90m━━━━━━━━━━━━━━━━━━━━━━━━━━━━━━━━━━━━━━━━\u001b[0m \u001b[32m26.5/26.5 MB\u001b[0m \u001b[31m52.0 MB/s\u001b[0m eta \u001b[36m0:00:00\u001b[0m\n",
            "\u001b[?25hDownloading shortuuid-1.0.13-py3-none-any.whl (10 kB)\n",
            "Downloading numpy_groupies-0.11.3-py3-none-any.whl (40 kB)\n",
            "\u001b[2K   \u001b[90m━━━━━━━━━━━━━━━━━━━━━━━━━━━━━━━━━━━━━━━━\u001b[0m \u001b[32m40.8/40.8 kB\u001b[0m \u001b[31m2.5 MB/s\u001b[0m eta \u001b[36m0:00:00\u001b[0m\n",
            "\u001b[?25hDownloading session_info2-0.1.2-py3-none-any.whl (14 kB)\n",
            "Building wheels for collected packages: loompy\n",
            "  Building wheel for loompy (setup.py) ... \u001b[?25l\u001b[?25hdone\n",
            "  Created wheel for loompy: filename=loompy-3.0.8-py3-none-any.whl size=54012 sha256=8ecdd255dc8928c091b369b81fefc150a84b5cfd88f83c0e6359fa2371d8f709\n",
            "  Stored in directory: /root/.cache/pip/wheels/0a/65/00/30ea772562c1e326e9a076e6a526216abc6c5456852cc2e0e4\n",
            "Successfully built loompy\n",
            "Installing collected packages: shortuuid, session-info2, pysam, numpy-groupies, legacy-api-wrap, biopython, array-api-compat, ngs-tools, loompy, anndata, scanpy, kb_python\n",
            "Successfully installed anndata-0.11.4 array-api-compat-1.12.0 biopython-1.85 kb_python-0.29.5 legacy-api-wrap-1.4.1 loompy-3.0.8 ngs-tools-1.8.6 numpy-groupies-0.11.3 pysam-0.23.3 scanpy-1.11.2 session-info2-0.1.2 shortuuid-1.0.13\n"
          ]
        }
      ],
      "source": [
        "!pip install kb_python"
      ]
    },
    {
      "cell_type": "markdown",
      "id": "f3ac5aef",
      "metadata": {
        "id": "f3ac5aef"
      },
      "source": [
        "## Download datasets\n",
        "\n",
        "Differential analysis of gene regulation at transcript resolution with RNA-seq by Cole Trapnell, David G Henderickson, Martin Savageau, Loyal Goff, John L Rinn and Lior Pachter, Nature Biotechnology 31, 46–53 (2013).\n",
        "\n",
        "The control (C) and knockdown (KD) fibroblast samples were subsetted to 1 million reads each."
      ]
    },
    {
      "cell_type": "markdown",
      "id": "94a45ff0",
      "metadata": {
        "id": "94a45ff0"
      },
      "source": [
        "### Control (n=3)"
      ]
    },
    {
      "cell_type": "code",
      "execution_count": 2,
      "id": "4b6c810d",
      "metadata": {
        "id": "4b6c810d"
      },
      "outputs": [],
      "source": [
        "!wget -q https://github.com/pachterlab/data/releases/download/v1/C_1_R1.fastq.gz\n",
        "!wget -q https://github.com/pachterlab/data/releases/download/v1/C_1_R2.fastq.gz\n",
        "!wget -q https://github.com/pachterlab/data/releases/download/v1/C_2_R1.fastq.gz\n",
        "!wget -q https://github.com/pachterlab/data/releases/download/v1/C_2_R2.fastq.gz\n",
        "!wget -q https://github.com/pachterlab/data/releases/download/v1/C_3_R1.fastq.gz\n",
        "!wget -q https://github.com/pachterlab/data/releases/download/v1/C_3_R2.fastq.gz\n"
      ]
    },
    {
      "cell_type": "markdown",
      "id": "6c1604a6",
      "metadata": {
        "id": "6c1604a6"
      },
      "source": [
        "### Knockdown (n=3)"
      ]
    },
    {
      "cell_type": "code",
      "execution_count": 3,
      "id": "c705c820",
      "metadata": {
        "id": "c705c820"
      },
      "outputs": [],
      "source": [
        "!wget -q https://github.com/pachterlab/data/releases/download/v1/KD_1_R1.fastq.gz\n",
        "!wget -q https://github.com/pachterlab/data/releases/download/v1/KD_1_R2.fastq.gz\n",
        "!wget -q https://github.com/pachterlab/data/releases/download/v1/KD_2_R1.fastq.gz\n",
        "!wget -q https://github.com/pachterlab/data/releases/download/v1/KD_2_R2.fastq.gz\n",
        "!wget -q https://github.com/pachterlab/data/releases/download/v1/KD_3_R1.fastq.gz\n",
        "!wget -q https://github.com/pachterlab/data/releases/download/v1/KD_3_R2.fastq.gz"
      ]
    },
    {
      "cell_type": "markdown",
      "id": "102f15c0",
      "metadata": {
        "id": "102f15c0"
      },
      "source": [
        "## Download kallisto human index"
      ]
    },
    {
      "cell_type": "code",
      "execution_count": 4,
      "id": "5477e9cd",
      "metadata": {
        "id": "5477e9cd",
        "outputId": "e2d2440f-d05c-4abd-a726-6aebc6209a69",
        "colab": {
          "base_uri": "https://localhost:8080/"
        }
      },
      "outputs": [
        {
          "output_type": "stream",
          "name": "stdout",
          "text": [
            "[2025-06-19 02:40:51,007]    INFO [download] Downloading files for human (standard workflow) from https://github.com/pachterlab/kallisto-transcriptome-indices/releases/download/v1/human_index_standard.tar.xz to tmp/human_index_standard.tar.xz\n",
            "100% 138M/138M [00:01<00:00, 134MB/s]\n",
            "[2025-06-19 02:40:52,095]    INFO [download] Extracting files from tmp/human_index_standard.tar.xz\n"
          ]
        }
      ],
      "source": [
        "!kb ref -d human -i human_index.idx -g human_t2g.txt"
      ]
    },
    {
      "cell_type": "markdown",
      "id": "91976579",
      "metadata": {
        "id": "91976579"
      },
      "source": [
        "## Map reads to index"
      ]
    },
    {
      "cell_type": "markdown",
      "id": "7fe9da13",
      "metadata": {
        "id": "7fe9da13"
      },
      "source": [
        "Below, we quantify RNA-seq reads using kallisto (via `kb count`) with bootstrapping (via `--bootstraps`) to obtain estimates of quantification uncertainty. Here, we set the number of bootstraps to 10.\n",
        "\n",
        "For the input to `kb count`, we supply all FASTQ files on the command-line (and the order in which the files are supplied determines the sample identities after read quantification).\n",
        "\n",
        "Alternately, we could have created a batch.txt file containing the following:\n",
        "\n",
        "```\n",
        "Control_1   C_1_R1.fastq.gz  C_1_R2.fastq.gz\n",
        "Control_2   C_2_R1.fastq.gz  C_2_R2.fastq.gz\n",
        "Control_3   C_3_R1.fastq.gz  C_3_R2.fastq.gz\n",
        "Knockdown_1 KD_1_R1.fastq.gz KD_1_R2.fastq.gz\n",
        "Knockdown_2 KD_2_R1.fastq.gz KD_2_R2.fastq.gz\n",
        "Knockdown_3 KD_3_R1.fastq.gz KD_3_R2.fastq.gz\n",
        "```\n",
        "\n",
        "\n",
        "And then supply that batch.txt file directly to the command in lieu of the individual FASTQ files."
      ]
    },
    {
      "cell_type": "code",
      "execution_count": 5,
      "id": "d6952bf7",
      "metadata": {
        "id": "d6952bf7",
        "outputId": "03036e95-44c1-49a6-82e3-83e757c8b377",
        "colab": {
          "base_uri": "https://localhost:8080/"
        }
      },
      "outputs": [
        {
          "output_type": "stream",
          "name": "stdout",
          "text": [
            "[2025-06-19 02:41:28,558]   DEBUG [main] Printing verbose output\n",
            "[2025-06-19 02:41:30,761]   DEBUG [main] kallisto binary located at /usr/local/lib/python3.11/dist-packages/kb_python/bins/linux/kallisto/kallisto\n",
            "[2025-06-19 02:41:30,761]   DEBUG [main] bustools binary located at /usr/local/lib/python3.11/dist-packages/kb_python/bins/linux/bustools/bustools\n",
            "[2025-06-19 02:41:30,761]   DEBUG [main] Creating `output_dir/tmp` directory\n",
            "[2025-06-19 02:41:30,762]   DEBUG [main] Namespace(list=False, command='count', tmp=None, keep_tmp=False, verbose=True, i='human_index.idx', g='human_t2g.txt', x='BULK', o='output_dir', num=False, w=None, exact_barcodes=False, r=None, t=2, m='2G', strand=None, inleaved=False, genomebam=False, aa=False, gtf=None, chromosomes=None, workflow='standard', em=False, mm=False, tcc=True, filter=None, filter_threshold=None, c1=None, c2=None, overwrite=True, dry_run=False, batch_barcodes=False, loom=False, h5ad=False, loom_names='barcode,target_name', sum='none', cellranger=False, gene_names=False, N=None, report=False, no_inspect=False, long=False, threshold=0.8, error_rate=None, platform='ONT', kallisto='/usr/local/lib/python3.11/dist-packages/kb_python/bins/linux/kallisto/kallisto', bustools='/usr/local/lib/python3.11/dist-packages/kb_python/bins/linux/bustools/bustools', opt_off=False, k=31, no_validate=False, no_fragment=False, union=False, no_jump=False, quant_umis=False, keep_flags=False, parity='paired', fragment_l=None, fragment_s=None, bootstraps=5, matrix_to_files=False, matrix_to_directories=True, fastqs=['C_1_R1.fastq.gz', 'C_1_R2.fastq.gz', 'C_2_R1.fastq.gz', 'C_2_R2.fastq.gz', 'C_3_R1.fastq.gz', 'C_3_R2.fastq.gz', 'KD_1_R1.fastq.gz', 'KD_1_R2.fastq.gz', 'KD_2_R1.fastq.gz', 'KD_2_R2.fastq.gz', 'KD_3_R1.fastq.gz', 'KD_3_R2.fastq.gz'])\n",
            "[2025-06-19 02:41:33,929]    INFO [count] Using index human_index.idx to generate BUS file to output_dir from\n",
            "[2025-06-19 02:41:33,929]    INFO [count]         C_1_R1.fastq.gz\n",
            "[2025-06-19 02:41:33,929]    INFO [count]         C_1_R2.fastq.gz\n",
            "[2025-06-19 02:41:33,929]    INFO [count]         C_2_R1.fastq.gz\n",
            "[2025-06-19 02:41:33,929]    INFO [count]         C_2_R2.fastq.gz\n",
            "[2025-06-19 02:41:33,929]    INFO [count]         C_3_R1.fastq.gz\n",
            "[2025-06-19 02:41:33,929]    INFO [count]         C_3_R2.fastq.gz\n",
            "[2025-06-19 02:41:33,929]    INFO [count]         KD_1_R1.fastq.gz\n",
            "[2025-06-19 02:41:33,929]    INFO [count]         KD_1_R2.fastq.gz\n",
            "[2025-06-19 02:41:33,929]    INFO [count]         KD_2_R1.fastq.gz\n",
            "[2025-06-19 02:41:33,929]    INFO [count]         KD_2_R2.fastq.gz\n",
            "[2025-06-19 02:41:33,929]    INFO [count]         KD_3_R1.fastq.gz\n",
            "[2025-06-19 02:41:33,929]    INFO [count]         KD_3_R2.fastq.gz\n",
            "[2025-06-19 02:41:33,929]   DEBUG [count] kallisto bus -i human_index.idx -o output_dir -x BULK -t 2 --paired C_1_R1.fastq.gz C_1_R2.fastq.gz C_2_R1.fastq.gz C_2_R2.fastq.gz C_3_R1.fastq.gz C_3_R2.fastq.gz KD_1_R1.fastq.gz KD_1_R2.fastq.gz KD_2_R1.fastq.gz KD_2_R2.fastq.gz KD_3_R1.fastq.gz KD_3_R2.fastq.gz\n",
            "[2025-06-19 02:41:33,933]   DEBUG [count] \n",
            "[2025-06-19 02:41:50,491]   DEBUG [count] [index] k-mer length: 31\n",
            "[2025-06-19 02:41:58,110]   DEBUG [count] [index] number of targets: 227,665\n",
            "[2025-06-19 02:41:58,110]   DEBUG [count] [index] number of k-mers: 139,900,295\n",
            "[2025-06-19 02:41:58,110]   DEBUG [count] [index] number of D-list k-mers: 5,477,475\n",
            "[2025-06-19 02:41:58,210]   DEBUG [count] [quant] running in paired-end mode\n",
            "[2025-06-19 02:41:58,210]   DEBUG [count] [quant] will process pair 1: C_1_R1.fastq.gz\n",
            "[2025-06-19 02:41:58,210]   DEBUG [count] C_1_R2.fastq.gz\n",
            "[2025-06-19 02:41:58,210]   DEBUG [count] [quant] will process pair 1: C_2_R1.fastq.gz\n",
            "[2025-06-19 02:41:58,210]   DEBUG [count] C_2_R2.fastq.gz\n",
            "[2025-06-19 02:41:58,210]   DEBUG [count] [quant] will process pair 1: C_3_R1.fastq.gz\n",
            "[2025-06-19 02:41:58,210]   DEBUG [count] C_3_R2.fastq.gz\n",
            "[2025-06-19 02:41:58,210]   DEBUG [count] [quant] will process pair 1: KD_1_R1.fastq.gz\n",
            "[2025-06-19 02:41:58,210]   DEBUG [count] KD_1_R2.fastq.gz\n",
            "[2025-06-19 02:41:58,211]   DEBUG [count] [quant] will process pair 1: KD_2_R1.fastq.gz\n",
            "[2025-06-19 02:41:58,211]   DEBUG [count] KD_2_R2.fastq.gz\n",
            "[2025-06-19 02:41:58,211]   DEBUG [count] [quant] will process pair 1: KD_3_R1.fastq.gz\n",
            "[2025-06-19 02:41:58,211]   DEBUG [count] KD_3_R2.fastq.gz\n",
            "[2025-06-19 02:42:36,516]   DEBUG [count] [quant] finding pseudoalignments for all files ...\n",
            "[2025-06-19 02:43:12,851]   DEBUG [count] [progress] 1M reads processed (92.9% mapped)\n",
            "[2025-06-19 02:43:47,534]   DEBUG [count] [progress] 2M reads processed (92.9% mapped)\n",
            "[2025-06-19 02:44:23,935]   DEBUG [count] [progress] 3M reads processed (92.6% mapped)\n",
            "[2025-06-19 02:45:01,667]   DEBUG [count] [progress] 4M reads processed (92.4% mapped)\n",
            "[2025-06-19 02:45:31,676]   DEBUG [count] [progress] 5M reads processed (92.4% mapped)              done\n",
            "[2025-06-19 02:45:31,676]   DEBUG [count] [quant] processed 6,000,000 reads, 5,541,414 reads pseudoaligned\n",
            "[2025-06-19 02:45:32,177]   DEBUG [count] \n",
            "[2025-06-19 02:45:34,181]    INFO [count] Sorting BUS file output_dir/output.bus to output_dir/tmp/output.s.bus\n",
            "[2025-06-19 02:45:34,181]   DEBUG [count] bustools sort -o output_dir/tmp/output.s.bus -T output_dir/tmp -t 2 -m 2G output_dir/output.bus\n",
            "[2025-06-19 02:45:35,887]   DEBUG [count] partition time: 0.034993s\n",
            "[2025-06-19 02:45:36,995]   DEBUG [count] all fits in buffer\n",
            "[2025-06-19 02:45:38,196]   DEBUG [count] Read in 5541414 BUS records\n",
            "[2025-06-19 02:45:38,196]   DEBUG [count] reading time 0.05138s\n",
            "[2025-06-19 02:45:38,196]   DEBUG [count] sorting time 1.35408s\n",
            "[2025-06-19 02:45:38,196]   DEBUG [count] writing time 0.057799s\n",
            "[2025-06-19 02:45:38,196]    INFO [count] Inspecting BUS file output_dir/tmp/output.s.bus\n",
            "[2025-06-19 02:45:38,196]   DEBUG [count] bustools inspect -o output_dir/inspect.json output_dir/tmp/output.s.bus\n",
            "[2025-06-19 02:45:39,298]    INFO [count] Generating count matrix output_dir/counts_unfiltered/cells_x_tcc from BUS file output_dir/tmp/output.s.bus\n",
            "[2025-06-19 02:45:39,298]   DEBUG [count] bustools count -o output_dir/counts_unfiltered/cells_x_tcc -g human_t2g.txt -e output_dir/matrix.ec -t output_dir/transcripts.txt --multimapping --cm output_dir/tmp/output.s.bus\n",
            "[2025-06-19 02:45:42,276]   DEBUG [count] output_dir/counts_unfiltered/cells_x_tcc.mtx passed validation\n",
            "[2025-06-19 02:45:42,276]    INFO [count] Quantifying transcript abundances to output_dir/quant_unfiltered from mtx file output_dir/counts_unfiltered/cells_x_tcc.mtx\n",
            "[2025-06-19 02:45:42,276]   DEBUG [count] kallisto quant-tcc -o output_dir/quant_unfiltered -i human_index.idx -e output_dir/counts_unfiltered/cells_x_tcc.ec.txt -g human_t2g.txt -t 2 -f output_dir/flens.txt -b 5 --matrix-to-directories output_dir/counts_unfiltered/cells_x_tcc.mtx\n",
            "[2025-06-19 02:45:42,377]   DEBUG [count] \n",
            "[2025-06-19 02:45:58,624]   DEBUG [count] [index] k-mer length: 31\n",
            "[2025-06-19 02:46:07,976]   DEBUG [count] [index] number of targets: 227,665\n",
            "[2025-06-19 02:46:07,976]   DEBUG [count] [index] number of k-mers: 139,900,295\n",
            "[2025-06-19 02:46:07,976]   DEBUG [count] [index] number of D-list k-mers: 5,477,475\n",
            "[2025-06-19 02:46:09,979]   DEBUG [count] [index] number of equivalence classes loaded from file: 404,862\n",
            "[2025-06-19 02:46:09,979]   DEBUG [count] [index] not using the D-list k-mers\n",
            "[2025-06-19 02:46:09,979]   DEBUG [count] [tcc] Parsing transcript-compatibility counts (TCC) file as a matrix file\n",
            "[2025-06-19 02:46:09,979]   DEBUG [count] [tcc] Matrix dimensions: 6 x 404,862\n",
            "[2025-06-19 02:46:09,979]   DEBUG [count] [tcc] Bootstrapping will be performed and outputted as HDF5\n",
            "[2025-06-19 02:46:10,881]   DEBUG [count] [quant] Running EM algorithm...\n",
            "[2025-06-19 02:46:10,881]   DEBUG [count] [quant] Processing sample/cell 0\n",
            "[2025-06-19 02:46:10,881]   DEBUG [count] [quant] Processing sample/cell 1\n",
            "[2025-06-19 02:59:55,076]   DEBUG [count] [quant] Processing sample/cell 2\n",
            "[2025-06-19 02:59:55,076]   DEBUG [count] [quant] Processing sample/cell 3\n",
            "[2025-06-19 03:14:38,980]   DEBUG [count] [quant] Processing sample/cell formed and outputted as HDF5 a [quant] Processing sample/cell formed and outputted as HDF5 a 5\n",
            "[2025-06-19 03:14:38,980]   DEBUG [count] 4\n",
            "[2025-06-19 03:28:33,037]   DEBUG [count] done\n",
            "[2025-06-19 03:28:33,038]   DEBUG [count] \n",
            "[2025-06-19 03:28:36,457]   DEBUG [count] output_dir/quant_unfiltered/matrix.abundance.gene.mtx passed validation\n",
            "[2025-06-19 03:28:36,468]   DEBUG [count] output_dir/quant_unfiltered/matrix.abundance.gene.tpm.mtx passed validation\n",
            "[2025-06-19 03:28:36,495]   DEBUG [count] output_dir/quant_unfiltered/matrix.abundance.mtx passed validation\n",
            "[2025-06-19 03:28:36,521]   DEBUG [count] output_dir/quant_unfiltered/matrix.abundance.tpm.mtx passed validation\n",
            "[2025-06-19 03:28:36,523]   DEBUG [main] Removing `output_dir/tmp` directory\n"
          ]
        }
      ],
      "source": [
        "!kb count -x BULK -i human_index.idx -g human_t2g.txt --parity=paired --tcc --matrix-to-directories -o output_dir \\\n",
        "--bootstraps=5 -t 2 --overwrite --verbose \\\n",
        "C_1_R1.fastq.gz C_1_R2.fastq.gz C_2_R1.fastq.gz C_2_R2.fastq.gz C_3_R1.fastq.gz C_3_R2.fastq.gz \\\n",
        "KD_1_R1.fastq.gz KD_1_R2.fastq.gz KD_2_R1.fastq.gz KD_2_R2.fastq.gz KD_3_R1.fastq.gz KD_3_R2.fastq.gz"
      ]
    },
    {
      "cell_type": "markdown",
      "id": "33502280",
      "metadata": {
        "id": "33502280"
      },
      "source": [
        "### Now inspect the output"
      ]
    },
    {
      "cell_type": "markdown",
      "id": "8002ea02",
      "metadata": {
        "id": "8002ea02"
      },
      "source": [
        "There are several \"abundance\" directories that contain our quantifications. The numbers correspond to the order with which we supplied the FASTQ files to the `kb count` command (i.e. abundance_1, abundance_2, and abundance_3 are the control samples and abundance_4, abundance_5, and abundance_6 are the knockdown samples)"
      ]
    },
    {
      "cell_type": "code",
      "execution_count": 6,
      "id": "c9be0ca2",
      "metadata": {
        "id": "c9be0ca2",
        "outputId": "71197af9-3528-4823-fb63-ea100ee5c57c",
        "colab": {
          "base_uri": "https://localhost:8080/"
        }
      },
      "outputs": [
        {
          "output_type": "stream",
          "name": "stdout",
          "text": [
            "abundance_1  abundance_6\t\t    matrix.abundance.tpm.mtx\n",
            "abundance_2  genes.txt\t\t\t    matrix.efflens.mtx\n",
            "abundance_3  matrix.abundance.gene.mtx\t    matrix.fld.tsv\n",
            "abundance_4  matrix.abundance.gene.tpm.mtx  transcript_lengths.txt\n",
            "abundance_5  matrix.abundance.mtx\t    transcripts.txt\n"
          ]
        }
      ],
      "source": [
        "!ls output_dir/quant_unfiltered"
      ]
    },
    {
      "cell_type": "markdown",
      "id": "5e701d4f",
      "metadata": {
        "id": "5e701d4f"
      },
      "source": [
        "## Differential expression of transcripts"
      ]
    },
    {
      "cell_type": "markdown",
      "id": "187de7f7",
      "metadata": {
        "id": "187de7f7"
      },
      "source": [
        "### Set up R environment and edgeR"
      ]
    },
    {
      "cell_type": "code",
      "execution_count": 7,
      "id": "08f1eaac",
      "metadata": {
        "id": "08f1eaac"
      },
      "outputs": [],
      "source": [
        "%load_ext rpy2.ipython"
      ]
    },
    {
      "cell_type": "code",
      "execution_count": 8,
      "id": "8b47d1f2",
      "metadata": {
        "id": "8b47d1f2",
        "outputId": "e2204dbf-2986-4136-9efa-2f873c0d8066",
        "colab": {
          "base_uri": "https://localhost:8080/",
          "height": 499
        }
      },
      "outputs": [
        {
          "output_type": "display_data",
          "data": {
            "text/plain": [
              "Installing package into ‘/usr/local/lib/R/site-library’\n",
              "(as ‘lib’ is unspecified)\n",
              "trying URL 'https://cran.rstudio.com/src/contrib/BiocManager_1.30.26.tar.gz'\n",
              "Content type 'application/x-gzip' length 594489 bytes (580 KB)\n",
              "==================================================\n",
              "downloaded 580 KB\n",
              "\n",
              "\n",
              "The downloaded source packages are in\n",
              "\t‘/tmp/RtmplaovhL/downloaded_packages’\n",
              "'getOption(\"repos\")' replaces Bioconductor standard repositories, see\n",
              "'help(\"repositories\", package = \"BiocManager\")' for details.\n",
              "Replacement repositories:\n",
              "    CRAN: https://cran.rstudio.com\n",
              "Bioconductor version 3.21 (BiocManager 1.30.26), R 4.5.1 (2025-06-13)\n",
              "Installing package(s) 'BiocVersion', 'edgeR'\n",
              "also installing the dependencies ‘statmod’, ‘limma’, ‘locfit’\n",
              "\n",
              "Old packages: 'data.table', 'evaluate'\n",
              "'getOption(\"repos\")' replaces Bioconductor standard repositories, see\n",
              "'help(\"repositories\", package = \"BiocManager\")' for details.\n",
              "Replacement repositories:\n",
              "    CRAN: https://cran.rstudio.com\n",
              "Bioconductor version 3.21 (BiocManager 1.30.26), R 4.5.1 (2025-06-13)\n",
              "Installing package(s) 'rhdf5'\n",
              "also installing the dependencies ‘Rhdf5lib’, ‘rhdf5filters’\n",
              "\n"
            ]
          },
          "metadata": {}
        }
      ],
      "source": [
        "%%R\n",
        "if (!require(\"BiocManager\", quietly = TRUE))\n",
        "    install.packages(\"BiocManager\")\n",
        "BiocManager::install(\"edgeR\", ask=FALSE, quiet=TRUE)\n",
        "BiocManager::install(\"rhdf5\", ask=FALSE, quiet=TRUE)"
      ]
    },
    {
      "cell_type": "markdown",
      "id": "dd0f3b4c",
      "metadata": {
        "id": "dd0f3b4c"
      },
      "source": [
        "## Use edgeR for differential transcript expression analysis"
      ]
    },
    {
      "cell_type": "markdown",
      "id": "7076f112",
      "metadata": {
        "id": "7076f112"
      },
      "source": [
        "We list the paths to the abundance directories and then run edgeR on them via `catchKallisto`. See the follow publication for details on edgeR:\n",
        "\n",
        "Chen, Y., Chen, L., Lun, A. T., Baldoni, P. L., & Smyth, G. K. (2025). edgeR v4: powerful differential analysis of sequencing data with expanded functionality and improved support for small counts and larger datasets. Nucleic Acids Research, 53(2), gkaf018.\n"
      ]
    },
    {
      "cell_type": "code",
      "execution_count": 9,
      "id": "39dcab0f",
      "metadata": {
        "scrolled": true,
        "id": "39dcab0f",
        "outputId": "8e3deb87-b1a3-4c0b-e92e-792865361a01",
        "colab": {
          "base_uri": "https://localhost:8080/",
          "height": 160
        }
      },
      "outputs": [
        {
          "output_type": "stream",
          "name": "stdout",
          "text": [
            "Reading output_dir/quant_unfiltered/abundance_1, 227665 transcripts, 5 bootstraps\n",
            "Reading output_dir/quant_unfiltered/abundance_2, 227665 transcripts, 5 bootstraps\n",
            "Reading output_dir/quant_unfiltered/abundance_3, 227665 transcripts, 5 bootstraps\n",
            "Reading output_dir/quant_unfiltered/abundance_4, 227665 transcripts, 5 bootstraps\n",
            "Reading output_dir/quant_unfiltered/abundance_5, 227665 transcripts, 5 bootstraps\n",
            "Reading output_dir/quant_unfiltered/abundance_6, 227665 transcripts, 5 bootstraps\n"
          ]
        },
        {
          "output_type": "display_data",
          "data": {
            "text/plain": [
              "Loading required package: edgeR\n",
              "Loading required package: limma\n"
            ]
          },
          "metadata": {}
        }
      ],
      "source": [
        "%%R\n",
        "require(edgeR)\n",
        "paths <- c(\"output_dir/quant_unfiltered/abundance_1\",\n",
        "           \"output_dir/quant_unfiltered/abundance_2\",\n",
        "           \"output_dir/quant_unfiltered/abundance_3\",\n",
        "           \"output_dir/quant_unfiltered/abundance_4\",\n",
        "           \"output_dir/quant_unfiltered/abundance_5\",\n",
        "           \"output_dir/quant_unfiltered/abundance_6\")\n",
        "results <- catchKallisto(paths)"
      ]
    },
    {
      "cell_type": "code",
      "execution_count": 10,
      "id": "ed673d82",
      "metadata": {
        "id": "ed673d82",
        "outputId": "254eb68a-0dec-4110-ccdf-5c04fad5e082",
        "colab": {
          "base_uri": "https://localhost:8080/"
        }
      },
      "outputs": [
        {
          "output_type": "stream",
          "name": "stdout",
          "text": [
            "                  output_dir/quant_unfiltered/abundance_1\n",
            "ENST00000308647.8                               18.119158\n",
            "ENST00000378736.3                                0.000000\n",
            "ENST00000472194.6                                3.606886\n",
            "ENST00000474481.1                                1.487577\n",
            "ENST00000485748.5                                1.878091\n",
            "                  output_dir/quant_unfiltered/abundance_2\n",
            "ENST00000308647.8                              16.3508487\n",
            "ENST00000378736.3                               0.4174387\n",
            "ENST00000472194.6                               2.6497518\n",
            "ENST00000474481.1                               0.0000000\n",
            "ENST00000485748.5                               0.0000000\n",
            "                  output_dir/quant_unfiltered/abundance_3\n",
            "ENST00000308647.8                               17.676045\n",
            "ENST00000378736.3                                2.851005\n",
            "ENST00000472194.6                                0.000000\n",
            "ENST00000474481.1                                0.000000\n",
            "ENST00000485748.5                                0.000000\n",
            "                  output_dir/quant_unfiltered/abundance_4\n",
            "ENST00000308647.8                                9.134442\n",
            "ENST00000378736.3                                2.485286\n",
            "ENST00000472194.6                                9.018708\n",
            "ENST00000474481.1                                0.000000\n",
            "ENST00000485748.5                                0.000000\n",
            "                  output_dir/quant_unfiltered/abundance_5\n",
            "ENST00000308647.8                               13.095408\n",
            "ENST00000378736.3                                0.000000\n",
            "ENST00000472194.6                                1.569073\n",
            "ENST00000474481.1                                1.475829\n",
            "ENST00000485748.5                                1.834814\n",
            "                  output_dir/quant_unfiltered/abundance_6\n",
            "ENST00000308647.8                                5.862184\n",
            "ENST00000378736.3                                1.859032\n",
            "ENST00000472194.6                                2.428891\n",
            "ENST00000474481.1                                0.000000\n",
            "ENST00000485748.5                                0.000000\n",
            "[1] 227665\n"
          ]
        }
      ],
      "source": [
        "%%R\n",
        "print(results$counts[1:5,,drop=F])\n",
        "print(length(results$annotation$Overdispersion))"
      ]
    },
    {
      "cell_type": "code",
      "execution_count": 11,
      "id": "cab01ec7",
      "metadata": {
        "id": "cab01ec7"
      },
      "outputs": [],
      "source": [
        "%%R\n",
        "samples <- c(\"Control_1\", \"Control_2\", \"Control_3\", \"Knockdown_1\", \"Knockdown_2\", \"Knockdown_3\")\n",
        "group <- c(\"C\", \"C\", \"C\", \"K\", \"K\", \"K\") # C = control; K = knockdown"
      ]
    },
    {
      "cell_type": "code",
      "execution_count": 12,
      "id": "498ec273",
      "metadata": {
        "id": "498ec273"
      },
      "outputs": [],
      "source": [
        "%%R\n",
        "colnames(results$counts) <- samples\n",
        "cts.scaled <- results$counts/results$annotation$Overdispersion\n",
        "dge.scaled <- DGEList(counts = cts.scaled, group=group)"
      ]
    },
    {
      "cell_type": "code",
      "execution_count": 13,
      "id": "46a1da93",
      "metadata": {
        "id": "46a1da93"
      },
      "outputs": [],
      "source": [
        "%%R\n",
        "keep <- filterByExpr(dge.scaled)\n",
        "dge.scaled.filtr <- dge.scaled[keep, , keep.lib.sizes = FALSE]\n",
        "dge.scaled.filtr <- calcNormFactors(dge.scaled.filtr)"
      ]
    },
    {
      "cell_type": "code",
      "execution_count": 14,
      "id": "9776ec95",
      "metadata": {
        "id": "9776ec95",
        "outputId": "397d8b2d-f927-4aa0-b1d0-8f091316a560",
        "colab": {
          "base_uri": "https://localhost:8080/",
          "height": 497
        }
      },
      "outputs": [
        {
          "output_type": "display_data",
          "data": {
            "image/png": "[encoded data removed]",
            "text/plain": [
              "<IPython.core.display.Image object>"
            ]
          },
          "metadata": {}
        }
      ],
      "source": [
        "%%R\n",
        "plotMDS(dge.scaled.filtr)"
      ]
    },
    {
      "cell_type": "code",
      "execution_count": 15,
      "id": "7cedc68a",
      "metadata": {
        "id": "7cedc68a",
        "outputId": "b5ae0670-bb36-41bd-c1a0-b9d2f3fe1a2a",
        "colab": {
          "base_uri": "https://localhost:8080/",
          "height": 497
        }
      },
      "outputs": [
        {
          "output_type": "display_data",
          "data": {
            "image/png": "[encoded data removed]",
            "text/plain": [
              "<IPython.core.display.Image object>"
            ]
          },
          "metadata": {}
        }
      ],
      "source": [
        "%%R\n",
        "design <- model.matrix(~group-1,data = dge.scaled.filtr$samples)\n",
        "colnames(design) <- gsub('group','',colnames(design))\n",
        "dge.scaled.filtr <- estimateDisp(dge.scaled.filtr,design)\n",
        "plotBCV(dge.scaled.filtr)"
      ]
    },
    {
      "cell_type": "code",
      "execution_count": 16,
      "id": "3fa0ed30",
      "metadata": {
        "id": "3fa0ed30",
        "outputId": "f469e27a-6cf2-4090-c1d4-d66f743b2748",
        "colab": {
          "base_uri": "https://localhost:8080/",
          "height": 497
        }
      },
      "outputs": [
        {
          "output_type": "display_data",
          "data": {
            "image/png": "[encoded data removed]",
            "text/plain": [
              "<IPython.core.display.Image object>"
            ]
          },
          "metadata": {}
        }
      ],
      "source": [
        "%%R\n",
        "fit <- glmQLFit(dge.scaled.filtr,design)\n",
        "plotQLDisp(fit)"
      ]
    },
    {
      "cell_type": "code",
      "execution_count": 17,
      "id": "6c293fc8",
      "metadata": {
        "id": "6c293fc8",
        "outputId": "ba1a05b3-4b24-4e92-b294-0fb79898e804",
        "colab": {
          "base_uri": "https://localhost:8080/",
          "height": 497
        }
      },
      "outputs": [
        {
          "output_type": "display_data",
          "data": {
            "image/png": "[encoded data removed]",
            "text/plain": [
              "<IPython.core.display.Image object>"
            ]
          },
          "metadata": {}
        }
      ],
      "source": [
        "%%R\n",
        "qlf <- glmQLFTest(fit, contrast = makeContrasts(K-C, levels = design))\n",
        "tt <- topTags(qlf,n = Inf)\n",
        "is.de <- decideTests(qlf)\n",
        "plotMD(qlf, status = is.de, values = c(1, -1), col = c(\"red\",\"blue\"), legend = \"topright\", cex=0.4)"
      ]
    },
    {
      "cell_type": "code",
      "execution_count": 18,
      "id": "7c53cf9c",
      "metadata": {
        "id": "7c53cf9c",
        "outputId": "253dfec5-a781-4e13-ea1c-5839674480d8",
        "colab": {
          "base_uri": "https://localhost:8080/",
          "height": 497
        }
      },
      "outputs": [
        {
          "output_type": "display_data",
          "data": {
            "image/png": "[encoded data removed]",
            "text/plain": [
              "<IPython.core.display.Image object>"
            ]
          },
          "metadata": {}
        }
      ],
      "source": [
        "%%R\n",
        "plot(qlf$table$logFC, -1*log10(qlf$table$PValue), main=\"Volcano plot\", xlab=\"log2FC\", ylab=\"-log10(P-val)\")"
      ]
    },
    {
      "cell_type": "code",
      "execution_count": 19,
      "id": "16ed6fe6",
      "metadata": {
        "id": "16ed6fe6",
        "outputId": "f69e7ef5-981c-40ad-89ee-30420899cea9",
        "colab": {
          "base_uri": "https://localhost:8080/"
        }
      },
      "outputs": [
        {
          "output_type": "stream",
          "name": "stdout",
          "text": [
            "                          logFC   logCPM            F    PValue\n",
            "ENST00000356607.9  -0.001899721 5.303589 0.0000167155 0.9968000\n",
            "ENST00000328089.11  0.321175658 5.765121 1.8001385388 0.2026674\n",
            "ENST00000375592.8  -0.041597613 5.700996 0.0332228001 0.8581821\n",
            "ENST00000346436.11  0.453813269 4.743627 1.0396290301 0.3265557\n",
            "ENST00000378512.5  -0.513499461 4.907051 1.4394727424 0.2516714\n",
            "ENST00000443438.5  -0.109194711 5.451238 0.0663814381 0.8007152\n"
          ]
        }
      ],
      "source": [
        "%%R\n",
        "head(qlf$table)"
      ]
    }
  ],
  "metadata": {
    "kernelspec": {
      "display_name": "Python (myenv)",
      "language": "python",
      "name": "swiftseq_analysis"
    },
    "language_info": {
      "codemirror_mode": {
        "name": "ipython",
        "version": 3
      },
      "file_extension": ".py",
      "mimetype": "text/x-python",
      "name": "python",
      "nbconvert_exporter": "python",
      "pygments_lexer": "ipython3",
      "version": "3.10.16"
    },
    "colab": {
      "provenance": [],
      "include_colab_link": true
    }
  },
  "nbformat": 4,
  "nbformat_minor": 5
}