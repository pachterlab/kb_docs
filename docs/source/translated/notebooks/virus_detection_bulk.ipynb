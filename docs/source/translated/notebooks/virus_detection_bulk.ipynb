{
  "cells": [
    {
      "cell_type": "markdown",
      "metadata": {
        "id": "view-in-github",
        "colab_type": "text"
      },
      "source": [
        "<a href=\"https://colab.research.google.com/github/pachterlab/kb_docs/blob/main/docs/source/translated/notebooks/virus_detection_bulk.ipynb\" target=\"_parent\"><img src=\"https://colab.research.google.com/assets/colab-badge.svg\" alt=\"Open In Colab\"/></a>"
      ]
    },
    {
      "cell_type": "markdown",
      "id": "37a561e5-b013-42ff-b94f-7007bd633bd2",
      "metadata": {
        "id": "37a561e5-b013-42ff-b94f-7007bd633bd2"
      },
      "source": [
        "# Viral proteins in bulk RNA seq data\n",
        "In this tutorial, we will align RNA sequencing data collected from SARS-CoV2 infected human iPSC derived cardiomyocytes to viral RdRP protein sequences. Let's see if we can detect SARS-CoV2 RdRP-like sequences as expected. This is a SMART-seq dataset, but this workflow is the same for bulk RNA sequencing data.\n",
        "\n",
        "References:  \n",
        "RNA seq data: https://www.cell.com/cell-reports-medicine/pdf/S2666-3791(20)30068-9.pdf  \n",
        "PalmDB viral protein reference database:  https://www.nature.com/articles/s41586-021-04332-2  \n",
        "\n",
        "\n",
        "Written by: Laura Luebbert (last updated: 09/19/2024)"
      ]
    },
    {
      "cell_type": "code",
      "source": [
        "# Number of threads to use during alignments\n",
        "threads = 2"
      ],
      "metadata": {
        "id": "4EVJ3SlWvlGj"
      },
      "id": "4EVJ3SlWvlGj",
      "execution_count": 1,
      "outputs": []
    },
    {
      "cell_type": "markdown",
      "source": [
        "## Install software"
      ],
      "metadata": {
        "id": "RNYivNJNu0uY"
      },
      "id": "RNYivNJNu0uY"
    },
    {
      "cell_type": "code",
      "source": [
        "!pip install -q ffq gget kb_python"
      ],
      "metadata": {
        "id": "QrbcPl9Lu0SA",
        "outputId": "8b967efb-fb45-4c42-d7c7-1a24d0355184",
        "colab": {
          "base_uri": "https://localhost:8080/"
        }
      },
      "id": "QrbcPl9Lu0SA",
      "execution_count": 2,
      "outputs": [
        {
          "output_type": "stream",
          "name": "stdout",
          "text": [
            "\u001b[2K     \u001b[90m━━━━━━━━━━━━━━━━━━━━━━━━━━━━━━━━━━━━━━━━\u001b[0m \u001b[32m4.8/4.8 MB\u001b[0m \u001b[31m15.2 MB/s\u001b[0m eta \u001b[36m0:00:00\u001b[0m\n",
            "\u001b[?25h  Preparing metadata (setup.py) ... \u001b[?25l\u001b[?25hdone\n",
            "  Preparing metadata (setup.py) ... \u001b[?25l\u001b[?25hdone\n",
            "\u001b[2K   \u001b[90m━━━━━━━━━━━━━━━━━━━━━━━━━━━━━━━━━━━━━━━━\u001b[0m \u001b[32m43.1/43.1 MB\u001b[0m \u001b[31m15.0 MB/s\u001b[0m eta \u001b[36m0:00:00\u001b[0m\n",
            "\u001b[2K   \u001b[90m━━━━━━━━━━━━━━━━━━━━━━━━━━━━━━━━━━━━━━━━\u001b[0m \u001b[32m13.1/13.1 MB\u001b[0m \u001b[31m62.2 MB/s\u001b[0m eta \u001b[36m0:00:00\u001b[0m\n",
            "\u001b[2K   \u001b[90m━━━━━━━━━━━━━━━━━━━━━━━━━━━━━━━━━━━━━━━━\u001b[0m \u001b[32m129.0/129.0 kB\u001b[0m \u001b[31m8.7 MB/s\u001b[0m eta \u001b[36m0:00:00\u001b[0m\n",
            "\u001b[2K   \u001b[90m━━━━━━━━━━━━━━━━━━━━━━━━━━━━━━━━━━━━━━━━\u001b[0m \u001b[32m25.2/25.2 MB\u001b[0m \u001b[31m21.4 MB/s\u001b[0m eta \u001b[36m0:00:00\u001b[0m\n",
            "\u001b[2K   \u001b[90m━━━━━━━━━━━━━━━━━━━━━━━━━━━━━━━━━━━━━━━━\u001b[0m \u001b[32m45.2/45.2 MB\u001b[0m \u001b[31m12.6 MB/s\u001b[0m eta \u001b[36m0:00:00\u001b[0m\n",
            "\u001b[2K   \u001b[90m━━━━━━━━━━━━━━━━━━━━━━━━━━━━━━━━━━━━━━━━\u001b[0m \u001b[32m12.1/12.1 MB\u001b[0m \u001b[31m64.7 MB/s\u001b[0m eta \u001b[36m0:00:00\u001b[0m\n",
            "\u001b[2K   \u001b[90m━━━━━━━━━━━━━━━━━━━━━━━━━━━━━━━━━━━━━━━━\u001b[0m \u001b[32m2.1/2.1 MB\u001b[0m \u001b[31m63.0 MB/s\u001b[0m eta \u001b[36m0:00:00\u001b[0m\n",
            "\u001b[2K   \u001b[90m━━━━━━━━━━━━━━━━━━━━━━━━━━━━━━━━━━━━━━━━\u001b[0m \u001b[32m56.9/56.9 kB\u001b[0m \u001b[31m1.7 MB/s\u001b[0m eta \u001b[36m0:00:00\u001b[0m\n",
            "\u001b[2K   \u001b[90m━━━━━━━━━━━━━━━━━━━━━━━━━━━━━━━━━━━━━━━━\u001b[0m \u001b[32m22.0/22.0 MB\u001b[0m \u001b[31m51.8 MB/s\u001b[0m eta \u001b[36m0:00:00\u001b[0m\n",
            "\u001b[2K   \u001b[90m━━━━━━━━━━━━━━━━━━━━━━━━━━━━━━━━━━━━━━━━\u001b[0m \u001b[32m85.7/85.7 kB\u001b[0m \u001b[31m5.5 MB/s\u001b[0m eta \u001b[36m0:00:00\u001b[0m\n",
            "\u001b[2K   \u001b[90m━━━━━━━━━━━━━━━━━━━━━━━━━━━━━━━━━━━━━━━━\u001b[0m \u001b[32m40.6/40.6 kB\u001b[0m \u001b[31m2.4 MB/s\u001b[0m eta \u001b[36m0:00:00\u001b[0m\n",
            "\u001b[2K   \u001b[90m━━━━━━━━━━━━━━━━━━━━━━━━━━━━━━━━━━━━━━━━\u001b[0m \u001b[32m79.8/79.8 kB\u001b[0m \u001b[31m5.9 MB/s\u001b[0m eta \u001b[36m0:00:00\u001b[0m\n",
            "\u001b[?25h  Building wheel for loompy (setup.py) ... \u001b[?25l\u001b[?25hdone\n",
            "  Building wheel for session-info (setup.py) ... \u001b[?25l\u001b[?25hdone\n",
            "\u001b[31mERROR: pip's dependency resolver does not currently take into account all the packages that are installed. This behaviour is the source of the following dependency conflicts.\n",
            "cudf-cu12 24.4.1 requires pandas<2.2.2dev0,>=2.0, but you have pandas 1.5.3 which is incompatible.\n",
            "google-colab 1.0.0 requires pandas==2.1.4, but you have pandas 1.5.3 which is incompatible.\n",
            "mizani 0.11.4 requires pandas>=2.1.0, but you have pandas 1.5.3 which is incompatible.\n",
            "plotnine 0.13.6 requires pandas<3.0.0,>=2.1.0, but you have pandas 1.5.3 which is incompatible.\n",
            "xarray 2024.9.0 requires pandas>=2.1, but you have pandas 1.5.3 which is incompatible.\u001b[0m\u001b[31m\n",
            "\u001b[0m"
          ]
        }
      ]
    },
    {
      "cell_type": "markdown",
      "source": [
        "## Download the RNA sequencing data"
      ],
      "metadata": {
        "id": "gn2kXqGtu61V"
      },
      "id": "gn2kXqGtu61V"
    },
    {
      "cell_type": "code",
      "source": [
        "import json\n",
        "import glob\n",
        "\n",
        "# Get ftp download links for raw data with ffq and store results in json file\n",
        "!ffq SRR11777734 SRR11777735 SRR11777736 SRR11777737 SRR11777738 SRR11777739 \\\n",
        "    --ftp \\\n",
        "    -o ffq.json\n",
        "\n",
        "# Load ffq output\n",
        "f = open(\"ffq.json\")\n",
        "data_json = json.load(f)\n",
        "f.close()\n",
        "\n",
        "# Download raw data using FTP links fetched by ffq\n",
        "for dataset in data_json:\n",
        "    url = dataset[\"url\"]\n",
        "    !curl -O $url"
      ],
      "metadata": {
        "id": "4lWqGOymu3mR",
        "outputId": "e40ecf5b-ca58-468e-ecf7-a79677b3f218",
        "colab": {
          "base_uri": "https://localhost:8080/"
        }
      },
      "id": "4lWqGOymu3mR",
      "execution_count": null,
      "outputs": [
        {
          "output_type": "stream",
          "name": "stdout",
          "text": [
            "[2024-09-20 14:26:17,636]    INFO Parsing run SRR11777734\n",
            "[2024-09-20 14:26:19,435]    INFO Parsing run SRR11777735\n",
            "[2024-09-20 14:26:22,169]    INFO Parsing run SRR11777736\n",
            "[2024-09-20 14:26:23,691]    INFO Parsing run SRR11777737\n",
            "[2024-09-20 14:26:25,276]    INFO Parsing run SRR11777738\n",
            "[2024-09-20 14:26:26,857]    INFO Parsing run SRR11777739\n",
            "  % Total    % Received % Xferd  Average Speed   Time    Time     Time  Current\n",
            "                                 Dload  Upload   Total   Spent    Left  Speed\n",
            "100 2962M  100 2962M    0     0  9283k      0  0:05:26  0:05:26 --:--:-- 14.5M\n",
            "  % Total    % Received % Xferd  Average Speed   Time    Time     Time  Current\n",
            "                                 Dload  Upload   Total   Spent    Left  Speed\n",
            "100 2634M  100 2634M    0     0  39.6M      0  0:01:06  0:01:06 --:--:-- 40.7M\n",
            "  % Total    % Received % Xferd  Average Speed   Time    Time     Time  Current\n",
            "                                 Dload  Upload   Total   Spent    Left  Speed\n",
            "100 2484M  100 2484M    0     0  38.8M      0  0:01:03  0:01:03 --:--:-- 40.1M\n",
            "  % Total    % Received % Xferd  Average Speed   Time    Time     Time  Current\n",
            "                                 Dload  Upload   Total   Spent    Left  Speed\n",
            " 14 3018M   14  443M    0     0  32.1M      0  0:01:33  0:00:13  0:01:20 41.6M"
          ]
        }
      ]
    },
    {
      "cell_type": "markdown",
      "source": [
        "## Download the protein reference\n",
        "In this case, we are using an optimized version of the [PalmDB database](https://github.com/ababaian/palmdb). The database was optimized for the detection of viral proteins from RNA sequencing data as described in [this manuscript](https://www.biorxiv.org/content/10.1101/2023.12.11.571168) and the files are stored in the [accompanying repository](https://github.com/pachterlab/LSCHWCP_2023/tree/main)."
      ],
      "metadata": {
        "id": "VEIPg9MCvGks"
      },
      "id": "VEIPg9MCvGks"
    },
    {
      "cell_type": "code",
      "source": [
        "# Download the ID to taxonomy mapping\n",
        "!wget https://raw.githubusercontent.com/pachterlab/LSCHWCP_2023/main/PalmDB/ID_to_taxonomy_mapping.csv\n",
        "# Download the customized transcripts to gene mapping\n",
        "!wget https://raw.githubusercontent.com/pachterlab/LSCHWCP_2023/main/PalmDB/palmdb_clustered_t2g.txt\n",
        "# Download the RdRP amino acid sequences\n",
        "!wget https://raw.githubusercontent.com/pachterlab/LSCHWCP_2023/main/PalmDB/palmdb_rdrp_seqs.fa"
      ],
      "metadata": {
        "id": "UuczUImGvF_N"
      },
      "id": "UuczUImGvF_N",
      "execution_count": null,
      "outputs": []
    },
    {
      "cell_type": "markdown",
      "source": [
        "## Build a reference index from the viral protein sequences and mask host (here, human) sequences\n",
        "\n",
        "In addition to building a reference index from the protein sequences, we also want to mask host (in this case, human) sequences.\n",
        "\n",
        "Here, we are downloading a precomputed PalmDB reference index for use with `kb` in which the human genome and transcriptome were masked. You can find all available precomputed reference indeces [here](https://github.com/pachterlab/LSCHWCP_2023/tree/main/precomputed_refs)."
      ],
      "metadata": {
        "id": "PXTkKN7evR4J"
      },
      "id": "PXTkKN7evR4J"
    },
    {
      "cell_type": "code",
      "source": [
        "# Download precomputed index with masked human genome and transcriptome\n",
        "!wget https://data.caltech.edu/records/sh33z-hrx98/files/palmdb_human_dlist_cdna_dna.idx?download=1\n",
        "!mv palmdb_human_dlist_cdna_dna.idx?download=1 palmdb_human_dlist_cdna_dna.idx"
      ],
      "metadata": {
        "id": "RGt5KCOc905r"
      },
      "id": "RGt5KCOc905r",
      "execution_count": null,
      "outputs": []
    },
    {
      "cell_type": "markdown",
      "source": [
        "**Alternatively, you can compute the PalmDB reference index yourself:**\n",
        "\n",
        "The `--aa` argument tells `kb` that this is an amino acid reference.\n",
        "\n",
        "The `--d-list` argument is the path to the host transcriptome. These sequences will be masked in the index. Here, we are using gget to fetch the human genome and transcriptome from Ensembl (release 110).\n",
        "\n",
        "We are using `--workflow custom` here since we do not have a .gtf file for the PalmDB fasta file.\n",
        "\n",
        "Building the index will take some time (~20 min), since the human genome is quite large."
      ],
      "metadata": {
        "id": "8K_umQBH99M0"
      },
      "id": "8K_umQBH99M0"
    },
    {
      "cell_type": "code",
      "source": [
        "# # Build a PalmDB reference index and mask the human genome and transcriptome from scratch\n",
        "\n",
        "# # Download\n",
        "# !gget ref -r 110 -w cdna,dna -d human\n",
        "\n",
        "# # Concatenate human genome and transcriptome into one file\n",
        "# !cat Homo_sapiens.GRCh38.cdna.all.fa.gz Homo_sapiens.GRCh38.dna.primary_assembly.fa.gz > Homo_sapiens.GRCh38.cdna_dna.fa.gz\n",
        "\n",
        "# %%time\n",
        "# !kb ref \\\n",
        "#   --workflow custom \\\n",
        "#   --aa \\\n",
        "#   --d-list Homo_sapiens.GRCh38.cdna_dna.fa.gz \\\n",
        "#   -t $threads \\\n",
        "#   -i palmdb_human_dlist_cdna_dna.idx \\\n",
        "#   palmdb_rdrp_seqs.fa"
      ],
      "metadata": {
        "id": "jPPHwwU_vWiU"
      },
      "id": "jPPHwwU_vWiU",
      "execution_count": null,
      "outputs": []
    },
    {
      "cell_type": "markdown",
      "id": "ee93f3f8-767e-41f5-81d2-c52869c22aca",
      "metadata": {
        "id": "ee93f3f8-767e-41f5-81d2-c52869c22aca"
      },
      "source": [
        "## Align data using kallisto translated search"
      ]
    },
    {
      "cell_type": "markdown",
      "id": "406cd27a-0447-4ed5-95cd-58501c604744",
      "metadata": {
        "id": "406cd27a-0447-4ed5-95cd-58501c604744"
      },
      "source": [
        "Create a batch file so we can run all fastq files simultaneously (to learn more about batch files, see Box 7 in the [Protocols paper](https://www.biorxiv.org/content/10.1101/2023.11.21.568164v2.full.pdf)):"
      ]
    },
    {
      "cell_type": "code",
      "execution_count": null,
      "id": "72860e01-80a3-48eb-824b-42f4f7371cdf",
      "metadata": {
        "id": "72860e01-80a3-48eb-824b-42f4f7371cdf"
      },
      "outputs": [],
      "source": [
        "with open(\"batch.txt\", \"w\") as batch_file:\n",
        "    for filename in glob.glob(\"*.fastq.gz\"):\n",
        "        sample_name = filename.split(\"/\")[-1].split(\".\")[0]\n",
        "        batch_file.write(sample_name + \"\\t\" +  filename + \"\\n\")"
      ]
    },
    {
      "cell_type": "markdown",
      "id": "1123d76f-7f2d-4f87-a720-b7b9f32737b9",
      "metadata": {
        "id": "1123d76f-7f2d-4f87-a720-b7b9f32737b9"
      },
      "source": [
        "The `--aa` argument tells `kb` that this is an amino acid reference. The `-x` techology tells `kb` where to find the barcode and UMI in the data."
      ]
    },
    {
      "cell_type": "code",
      "execution_count": null,
      "id": "d1595c9f-2d7a-4809-ae2a-94e280999955",
      "metadata": {
        "id": "d1595c9f-2d7a-4809-ae2a-94e280999955"
      },
      "outputs": [],
      "source": [
        "%%time\n",
        "\n",
        "!kb count \\\n",
        "    --aa \\\n",
        "    -t $threads \\\n",
        "    -i palmdb_human_dlist_cdna_dna.idx \\\n",
        "    -g palmdb_clustered_t2g.txt \\\n",
        "    -x bulk \\\n",
        "    --parity single \\\n",
        "    --h5ad \\\n",
        "    -o kb_output \\\n",
        "    batch.txt"
      ]
    },
    {
      "cell_type": "markdown",
      "id": "10b4ea62-8ef4-4395-ab7a-a45bb2e722b6",
      "metadata": {
        "id": "10b4ea62-8ef4-4395-ab7a-a45bb2e722b6"
      },
      "source": [
        "## Load generated count matrix"
      ]
    },
    {
      "cell_type": "code",
      "execution_count": null,
      "id": "b6172eab-f285-45d9-a9e5-d977a9e3f0c7",
      "metadata": {
        "id": "b6172eab-f285-45d9-a9e5-d977a9e3f0c7"
      },
      "outputs": [],
      "source": [
        "!pip install -q kb_python\n",
        "\n",
        "import anndata\n",
        "import numpy as np\n",
        "import pandas as pd\n",
        "import os\n",
        "import matplotlib.pyplot as plt\n",
        "import matplotlib.colors\n",
        "%config InlineBackend.figure_format='retina'\n",
        "\n",
        "def nd(arr):\n",
        "    \"\"\"\n",
        "    Function to transform numpy matrix to nd array.\n",
        "    \"\"\"\n",
        "    return np.asarray(arr).reshape(-1)"
      ]
    },
    {
      "cell_type": "code",
      "execution_count": null,
      "id": "985b66c1-95e6-42a9-93e0-4d3a6130a54f",
      "metadata": {
        "id": "985b66c1-95e6-42a9-93e0-4d3a6130a54f"
      },
      "outputs": [],
      "source": [
        "u_tax_csv = \"ID_to_taxonomy_mapping.csv\""
      ]
    },
    {
      "cell_type": "code",
      "source": [
        "# Open count matrix (AnnData object in h5ad format)\n",
        "adata = anndata.read_h5ad(\"kb_output/counts_unfiltered/adata.h5ad\")\n",
        "adata"
      ],
      "metadata": {
        "id": "QgONUhqxVtgX"
      },
      "id": "QgONUhqxVtgX",
      "execution_count": null,
      "outputs": []
    },
    {
      "cell_type": "markdown",
      "source": [
        "## Plot counts for SARS-CoV in each sample"
      ],
      "metadata": {
        "id": "n52R9ghEVtnD"
      },
      "id": "n52R9ghEVtnD"
    },
    {
      "cell_type": "code",
      "execution_count": null,
      "id": "9f00404b-713d-4e1c-a34a-555958a07637",
      "metadata": {
        "id": "9f00404b-713d-4e1c-a34a-555958a07637"
      },
      "outputs": [],
      "source": [
        "# Find reference IDs for SARS-CoV proteins\n",
        "tax_df = pd.read_csv(u_tax_csv)\n",
        "tax_df[tax_df[\"species\"].str.contains(\"Severe acute respiratory syndrome\")]"
      ]
    },
    {
      "cell_type": "code",
      "execution_count": null,
      "id": "ee39163d-3f40-41fa-be8c-0b68ed7123b7",
      "metadata": {
        "id": "ee39163d-3f40-41fa-be8c-0b68ed7123b7"
      },
      "outputs": [],
      "source": [
        "fig, ax = plt.subplots(figsize=(6, 7))\n",
        "fontsize = 16\n",
        "width = 0.75\n",
        "\n",
        "x_labels = ['Infected 1', 'Infected 2', 'Infected 3', 'Control 1', 'Control 2', 'Control 3']\n",
        "\n",
        "target_ids = tax_df[tax_df[\"species\"].str.contains(\"Severe acute respiratory syndrome-related coronavirus\")][\"rep_ID\"].unique()\n",
        "\n",
        "counts = []\n",
        "samples = np.sort(adata.obs.index.values)\n",
        "labels = samples\n",
        "for sample in samples:\n",
        "    counts.append(adata.X[adata.obs.index == sample, adata.var.index.isin(target_ids)].sum())\n",
        "\n",
        "x = np.arange(len(labels))\n",
        "\n",
        "ax.bar(x, counts, width=width, color=\"#003049\", edgecolor=\"black\")\n",
        "\n",
        "ax.set_yscale(\"symlog\")\n",
        "ax.set_ylabel(\"kallisto (raw counts for SARS-CoV)\", fontsize=fontsize)\n",
        "# ax.set_xlabel(\"Sample\", fontsize=fontsize)\n",
        "\n",
        "ax.set_xticks(x, x_labels, rotation=45, ha=\"right\")\n",
        "\n",
        "ax.tick_params(axis=\"both\", labelsize=fontsize)\n",
        "ax.set_title(f\"SARS-CoV-2 infected human\\niPSC-derived cardiomyocytes\", fontsize=fontsize+2)\n",
        "\n",
        "ax.grid(True, which=\"both\", color=\"lightgray\", ls=\"--\", lw=1)\n",
        "ax.set_axisbelow(True)\n",
        "\n",
        "# Save figure\n",
        "plt.savefig(\"smartseq_benchmark_PRJNA631969.png\", dpi=300, bbox_inches=\"tight\")\n",
        "\n",
        "fig.show()"
      ]
    },
    {
      "cell_type": "code",
      "execution_count": null,
      "id": "5c641597-84d8-4188-aab9-6e8acec1f886",
      "metadata": {
        "id": "5c641597-84d8-4188-aab9-6e8acec1f886"
      },
      "outputs": [],
      "source": [
        "counts"
      ]
    },
    {
      "cell_type": "code",
      "execution_count": null,
      "id": "416e45a5-03b8-46a2-a66e-8267eb468996",
      "metadata": {
        "id": "416e45a5-03b8-46a2-a66e-8267eb468996"
      },
      "outputs": [],
      "source": []
    }
  ],
  "metadata": {
    "kernelspec": {
      "display_name": "Python 3",
      "name": "python3"
    },
    "language_info": {
      "codemirror_mode": {
        "name": "ipython",
        "version": 3
      },
      "file_extension": ".py",
      "mimetype": "text/x-python",
      "name": "python",
      "nbconvert_exporter": "python",
      "pygments_lexer": "ipython3",
      "version": "3.9.12"
    },
    "colab": {
      "provenance": [],
      "include_colab_link": true
    }
  },
  "nbformat": 4,
  "nbformat_minor": 5
}