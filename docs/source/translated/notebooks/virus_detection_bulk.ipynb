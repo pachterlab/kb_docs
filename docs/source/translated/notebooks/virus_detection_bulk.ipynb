{
  "cells": [
    {
      "cell_type": "markdown",
      "id": "37a561e5-b013-42ff-b94f-7007bd633bd2",
      "metadata": {
        "id": "37a561e5-b013-42ff-b94f-7007bd633bd2"
      },
      "source": [
        "# Viral proteins in bulk RNA seq data\n",
        "\n",
        "[Open in Google Colab](https://colab.research.google.com/github/pachterlab/kb_docs/blob/main/docs/source/translated/notebooks/virus_detection_bulk.ipynb)\n",
        "\n",
        "In this tutorial, we will align RNA sequencing data collected from SARS-CoV2 infected human iPSC derived cardiomyocytes to viral RdRP protein sequences. Let's see if we can detect SARS-CoV2 RdRP-like sequences as expected. This is a SMART-seq dataset, but the workflow is the same for bulk RNA sequencing data.\n",
        "\n",
        "**Data references**:  \n",
        "RNA seq data: https://www.cell.com/cell-reports-medicine/pdf/S2666-3791(20)30068-9.pdf  \n",
        "PalmDB viral protein (RdRP) reference database:  https://www.nature.com/articles/s41586-021-04332-2  \n",
        "\n",
        "\n",
        "Written by: Laura Luebbert (last updated: 12/28/2024)"
      ]
    },
    {
      "cell_type": "code",
      "source": [
        "# SRR numbers of the sequencing dataset(s) to analyze\n",
        "srr_numbers = [\"SRR11777734\", \"SRR11777735\", \"SRR11777736\", \"SRR11777737\", \"SRR11777738\", \"SRR11777739\"]\n",
        "\n",
        "# Here, we will only align a subset of [n_seq_to_keep] sequences from each of these SRRs\n",
        "# to decrease the runtime of this example notebook\n",
        "# Set n_seq_to_keep=False to align the complete dataset\n",
        "n_seq_to_keep = 10000000\n",
        "\n",
        "# Number of threads to use during alignments\n",
        "threads = 2\n",
        "\n",
        "# Increase k for increased specificity (at a potential trade-off with sensitivity)\n",
        "# k should be an odd integer and should be >=31 for translated alignment\n",
        "k = 55"
      ],
      "metadata": {
        "id": "4EVJ3SlWvlGj"
      },
      "id": "4EVJ3SlWvlGj",
      "execution_count": 1,
      "outputs": []
    },
    {
      "cell_type": "markdown",
      "source": [
        "## Install software"
      ],
      "metadata": {
        "id": "RNYivNJNu0uY"
      },
      "id": "RNYivNJNu0uY"
    },
    {
      "cell_type": "code",
      "source": [
        "!pip install -q ffq gget kb_python==0.29.1 anndata==0.10.9"
      ],
      "metadata": {
        "id": "QrbcPl9Lu0SA",
        "outputId": "6df4d550-b2cd-4f0e-c07a-38ae4be63fc2",
        "colab": {
          "base_uri": "https://localhost:8080/"
        }
      },
      "id": "QrbcPl9Lu0SA",
      "execution_count": 2,
      "outputs": [
        {
          "output_type": "stream",
          "name": "stdout",
          "text": [
            "\u001b[?25l     \u001b[90m━━━━━━━━━━━━━━━━━━━━━━━━━━━━━━━━━━━━━━━━\u001b[0m \u001b[32m0.0/4.8 MB\u001b[0m \u001b[31m?\u001b[0m eta \u001b[36m-:--:--\u001b[0m\r\u001b[2K     \u001b[91m━━━━━━━\u001b[0m\u001b[91m╸\u001b[0m\u001b[90m━━━━━━━━━━━━━━━━━━━━━━━━━━━━━━━━\u001b[0m \u001b[32m0.9/4.8 MB\u001b[0m \u001b[31m28.3 MB/s\u001b[0m eta \u001b[36m0:00:01\u001b[0m\r\u001b[2K     \u001b[91m━━━━━━━━━━━━━━━━━━━━━━━━━━━━━━━━━━━━━━\u001b[0m\u001b[91m╸\u001b[0m\u001b[90m━\u001b[0m \u001b[32m4.7/4.8 MB\u001b[0m \u001b[31m65.1 MB/s\u001b[0m eta \u001b[36m0:00:01\u001b[0m\r\u001b[2K     \u001b[91m━━━━━━━━━━━━━━━━━━━━━━━━━━━━━━━━━━━━━━━\u001b[0m\u001b[91m╸\u001b[0m \u001b[32m4.8/4.8 MB\u001b[0m \u001b[31m63.4 MB/s\u001b[0m eta \u001b[36m0:00:01\u001b[0m\r\u001b[2K     \u001b[90m━━━━━━━━━━━━━━━━━━━━━━━━━━━━━━━━━━━━━━━━\u001b[0m \u001b[32m4.8/4.8 MB\u001b[0m \u001b[31m43.4 MB/s\u001b[0m eta \u001b[36m0:00:00\u001b[0m\n",
            "\u001b[?25h  Preparing metadata (setup.py) ... \u001b[?25l\u001b[?25hdone\n",
            "  Preparing metadata (setup.py) ... \u001b[?25l\u001b[?25hdone\n",
            "\u001b[2K   \u001b[90m━━━━━━━━━━━━━━━━━━━━━━━━━━━━━━━━━━━━━━━━\u001b[0m \u001b[32m36.5/36.5 MB\u001b[0m \u001b[31m17.1 MB/s\u001b[0m eta \u001b[36m0:00:00\u001b[0m\n",
            "\u001b[2K   \u001b[90m━━━━━━━━━━━━━━━━━━━━━━━━━━━━━━━━━━━━━━━━\u001b[0m \u001b[32m129.0/129.0 kB\u001b[0m \u001b[31m8.1 MB/s\u001b[0m eta \u001b[36m0:00:00\u001b[0m\n",
            "\u001b[2K   \u001b[90m━━━━━━━━━━━━━━━━━━━━━━━━━━━━━━━━━━━━━━━━\u001b[0m \u001b[32m43.1/43.1 MB\u001b[0m \u001b[31m19.4 MB/s\u001b[0m eta \u001b[36m0:00:00\u001b[0m\n",
            "\u001b[2K   \u001b[90m━━━━━━━━━━━━━━━━━━━━━━━━━━━━━━━━━━━━━━━━\u001b[0m \u001b[32m50.4/50.4 kB\u001b[0m \u001b[31m3.0 MB/s\u001b[0m eta \u001b[36m0:00:00\u001b[0m\n",
            "\u001b[2K   \u001b[90m━━━━━━━━━━━━━━━━━━━━━━━━━━━━━━━━━━━━━━━━\u001b[0m \u001b[32m3.2/3.2 MB\u001b[0m \u001b[31m73.8 MB/s\u001b[0m eta \u001b[36m0:00:00\u001b[0m\n",
            "\u001b[2K   \u001b[90m━━━━━━━━━━━━━━━━━━━━━━━━━━━━━━━━━━━━━━━━\u001b[0m \u001b[32m34.4/34.4 MB\u001b[0m \u001b[31m20.0 MB/s\u001b[0m eta \u001b[36m0:00:00\u001b[0m\n",
            "\u001b[2K   \u001b[90m━━━━━━━━━━━━━━━━━━━━━━━━━━━━━━━━━━━━━━━━\u001b[0m \u001b[32m50.9/50.9 MB\u001b[0m \u001b[31m17.7 MB/s\u001b[0m eta \u001b[36m0:00:00\u001b[0m\n",
            "\u001b[2K   \u001b[90m━━━━━━━━━━━━━━━━━━━━━━━━━━━━━━━━━━━━━━━━\u001b[0m \u001b[32m2.1/2.1 MB\u001b[0m \u001b[31m57.6 MB/s\u001b[0m eta \u001b[36m0:00:00\u001b[0m\n",
            "\u001b[2K   \u001b[90m━━━━━━━━━━━━━━━━━━━━━━━━━━━━━━━━━━━━━━━━\u001b[0m \u001b[32m1.6/1.6 MB\u001b[0m \u001b[31m60.4 MB/s\u001b[0m eta \u001b[36m0:00:00\u001b[0m\n",
            "\u001b[2K   \u001b[90m━━━━━━━━━━━━━━━━━━━━━━━━━━━━━━━━━━━━━━━━\u001b[0m \u001b[32m56.9/56.9 kB\u001b[0m \u001b[31m3.6 MB/s\u001b[0m eta \u001b[36m0:00:00\u001b[0m\n",
            "\u001b[2K   \u001b[90m━━━━━━━━━━━━━━━━━━━━━━━━━━━━━━━━━━━━━━━━\u001b[0m \u001b[32m22.0/22.0 MB\u001b[0m \u001b[31m68.1 MB/s\u001b[0m eta \u001b[36m0:00:00\u001b[0m\n",
            "\u001b[2K   \u001b[90m━━━━━━━━━━━━━━━━━━━━━━━━━━━━━━━━━━━━━━━━\u001b[0m \u001b[32m88.8/88.8 kB\u001b[0m \u001b[31m5.7 MB/s\u001b[0m eta \u001b[36m0:00:00\u001b[0m\n",
            "\u001b[2K   \u001b[90m━━━━━━━━━━━━━━━━━━━━━━━━━━━━━━━━━━━━━━━━\u001b[0m \u001b[32m40.6/40.6 kB\u001b[0m \u001b[31m2.5 MB/s\u001b[0m eta \u001b[36m0:00:00\u001b[0m\n",
            "\u001b[2K   \u001b[90m━━━━━━━━━━━━━━━━━━━━━━━━━━━━━━━━━━━━━━━━\u001b[0m \u001b[32m83.6/83.6 kB\u001b[0m \u001b[31m5.7 MB/s\u001b[0m eta \u001b[36m0:00:00\u001b[0m\n",
            "\u001b[?25h  Building wheel for loompy (setup.py) ... \u001b[?25l\u001b[?25hdone\n",
            "  Building wheel for session-info (setup.py) ... \u001b[?25l\u001b[?25hdone\n"
          ]
        }
      ]
    },
    {
      "cell_type": "code",
      "source": [
        "import json\n",
        "import glob\n",
        "import anndata\n",
        "import pandas as pd\n",
        "import numpy as np\n",
        "import matplotlib.pyplot as plt\n",
        "import matplotlib.colors\n",
        "%config InlineBackend.figure_format='retina'"
      ],
      "metadata": {
        "id": "2I_hO7tFeEww"
      },
      "id": "2I_hO7tFeEww",
      "execution_count": 3,
      "outputs": []
    },
    {
      "cell_type": "markdown",
      "source": [
        "## Download the RNA sequencing data"
      ],
      "metadata": {
        "id": "gn2kXqGtu61V"
      },
      "id": "gn2kXqGtu61V"
    },
    {
      "cell_type": "code",
      "source": [
        "# Get ftp download links for raw data with ffq and store results in json file\n",
        "srr_numbers = \" \".join(srr_numbers)\n",
        "!ffq $srr_numbers \\\n",
        "    --ftp \\\n",
        "    -o ffq.json\n",
        "\n",
        "# Load ffq output\n",
        "f = open(\"ffq.json\")\n",
        "data_json = json.load(f)\n",
        "f.close()\n",
        "\n",
        "# Download raw data using FTP links fetched by ffq\n",
        "for dataset in data_json:\n",
        "    url = dataset[\"url\"]\n",
        "    !curl -O $url"
      ],
      "metadata": {
        "id": "4lWqGOymu3mR",
        "outputId": "2d882165-2c11-4ec1-c93d-40c65eb2c7c1",
        "colab": {
          "base_uri": "https://localhost:8080/"
        }
      },
      "id": "4lWqGOymu3mR",
      "execution_count": 4,
      "outputs": [
        {
          "output_type": "stream",
          "name": "stdout",
          "text": [
            "[2024-12-27 20:53:29,938]    INFO Parsing run SRR11777734\n",
            "[2024-12-27 20:53:32,376]    INFO Parsing run SRR11777735\n",
            "[2024-12-27 20:53:33,946]    INFO Parsing run SRR11777736\n",
            "[2024-12-27 20:53:35,753]    INFO Parsing run SRR11777737\n",
            "[2024-12-27 20:53:37,217]    INFO Parsing run SRR11777738\n",
            "[2024-12-27 20:53:38,754]    INFO Parsing run SRR11777739\n",
            "  % Total    % Received % Xferd  Average Speed   Time    Time     Time  Current\n",
            "                                 Dload  Upload   Total   Spent    Left  Speed\n",
            "100 2962M  100 2962M    0     0  40.5M      0  0:01:13  0:01:13 --:--:-- 41.5M\n",
            "  % Total    % Received % Xferd  Average Speed   Time    Time     Time  Current\n",
            "                                 Dload  Upload   Total   Spent    Left  Speed\n",
            "100 2634M  100 2634M    0     0  40.4M      0  0:01:05  0:01:05 --:--:-- 41.5M\n",
            "  % Total    % Received % Xferd  Average Speed   Time    Time     Time  Current\n",
            "                                 Dload  Upload   Total   Spent    Left  Speed\n",
            "100 2484M  100 2484M    0     0  40.2M      0  0:01:01  0:01:01 --:--:-- 41.6M\n",
            "  % Total    % Received % Xferd  Average Speed   Time    Time     Time  Current\n",
            "                                 Dload  Upload   Total   Spent    Left  Speed\n",
            "100 3018M  100 3018M    0     0  40.7M      0  0:01:14  0:01:14 --:--:-- 41.8M\n",
            "  % Total    % Received % Xferd  Average Speed   Time    Time     Time  Current\n",
            "                                 Dload  Upload   Total   Spent    Left  Speed\n",
            "100 3737M  100 3737M    0     0  40.9M      0  0:01:31  0:01:31 --:--:-- 41.8M\n",
            "  % Total    % Received % Xferd  Average Speed   Time    Time     Time  Current\n",
            "                                 Dload  Upload   Total   Spent    Left  Speed\n",
            "100 3152M  100 3152M    0     0  40.7M      0  0:01:17  0:01:17 --:--:-- 42.0M\n"
          ]
        }
      ]
    },
    {
      "cell_type": "markdown",
      "source": [
        "## Download the protein reference sequences\n",
        "In this case, we are using a version of the [PalmDB database v1](https://github.com/ababaian/palmdb) that was optimized for viral sequence detection with kallisto as described in [this manuscript](https://www.biorxiv.org/content/10.1101/2023.12.11.571168). These files are stored in the [GitHub repository](https://github.com/pachterlab/LSCHWCP_2023/tree/main) accompanying the manuscript."
      ],
      "metadata": {
        "id": "VEIPg9MCvGks"
      },
      "id": "VEIPg9MCvGks"
    },
    {
      "cell_type": "code",
      "source": [
        "# Download the ID to taxonomy mapping\n",
        "!wget https://raw.githubusercontent.com/pachterlab/LSCHWCP_2023/main/PalmDB/ID_to_taxonomy_mapping.csv\n",
        "# Download the customized transcripts to gene mapping\n",
        "!wget https://raw.githubusercontent.com/pachterlab/LSCHWCP_2023/main/PalmDB/palmdb_clustered_t2g.txt\n",
        "# Download the RdRP amino acid sequences\n",
        "!wget https://raw.githubusercontent.com/pachterlab/LSCHWCP_2023/main/PalmDB/palmdb_rdrp_seqs.fa"
      ],
      "metadata": {
        "id": "UuczUImGvF_N",
        "outputId": "645f831c-2cf6-4fd6-dea7-701187de9050",
        "colab": {
          "base_uri": "https://localhost:8080/"
        }
      },
      "id": "UuczUImGvF_N",
      "execution_count": 5,
      "outputs": [
        {
          "output_type": "stream",
          "name": "stdout",
          "text": [
            "--2024-12-27 21:01:04--  https://raw.githubusercontent.com/pachterlab/LSCHWCP_2023/main/PalmDB/ID_to_taxonomy_mapping.csv\n",
            "Resolving raw.githubusercontent.com (raw.githubusercontent.com)... 185.199.108.133, 185.199.109.133, 185.199.110.133, ...\n",
            "Connecting to raw.githubusercontent.com (raw.githubusercontent.com)|185.199.108.133|:443... connected.\n",
            "HTTP request sent, awaiting response... 200 OK\n",
            "Length: 19705497 (19M) [text/plain]\n",
            "Saving to: ‘ID_to_taxonomy_mapping.csv’\n",
            "\n",
            "ID_to_taxonomy_mapp 100%[===================>]  18.79M  --.-KB/s    in 0.1s    \n",
            "\n",
            "2024-12-27 21:01:04 (129 MB/s) - ‘ID_to_taxonomy_mapping.csv’ saved [19705497/19705497]\n",
            "\n",
            "--2024-12-27 21:01:05--  https://raw.githubusercontent.com/pachterlab/LSCHWCP_2023/main/PalmDB/palmdb_clustered_t2g.txt\n",
            "Resolving raw.githubusercontent.com (raw.githubusercontent.com)... 185.199.108.133, 185.199.110.133, 185.199.109.133, ...\n",
            "Connecting to raw.githubusercontent.com (raw.githubusercontent.com)|185.199.108.133|:443... connected.\n",
            "HTTP request sent, awaiting response... 200 OK\n",
            "Length: 4561689 (4.3M) [text/plain]\n",
            "Saving to: ‘palmdb_clustered_t2g.txt’\n",
            "\n",
            "palmdb_clustered_t2 100%[===================>]   4.35M  --.-KB/s    in 0.08s   \n",
            "\n",
            "2024-12-27 21:01:05 (51.9 MB/s) - ‘palmdb_clustered_t2g.txt’ saved [4561689/4561689]\n",
            "\n",
            "--2024-12-27 21:01:05--  https://raw.githubusercontent.com/pachterlab/LSCHWCP_2023/main/PalmDB/palmdb_rdrp_seqs.fa\n",
            "Resolving raw.githubusercontent.com (raw.githubusercontent.com)... 185.199.108.133, 185.199.109.133, 185.199.110.133, ...\n",
            "Connecting to raw.githubusercontent.com (raw.githubusercontent.com)|185.199.108.133|:443... connected.\n",
            "HTTP request sent, awaiting response... 200 OK\n",
            "Length: 35361991 (34M) [text/plain]\n",
            "Saving to: ‘palmdb_rdrp_seqs.fa’\n",
            "\n",
            "palmdb_rdrp_seqs.fa 100%[===================>]  33.72M   174MB/s    in 0.2s    \n",
            "\n",
            "2024-12-27 21:01:06 (174 MB/s) - ‘palmdb_rdrp_seqs.fa’ saved [35361991/35361991]\n",
            "\n"
          ]
        }
      ]
    },
    {
      "cell_type": "markdown",
      "source": [
        "## Build a reference index from the viral protein sequences and mask host (here, human) sequences\n",
        "\n",
        "In addition to building a reference index from the protein sequences, we also want to mask host (in this case, human) sequences."
      ],
      "metadata": {
        "id": "PXTkKN7evR4J"
      },
      "id": "PXTkKN7evR4J"
    },
    {
      "cell_type": "markdown",
      "source": [
        "The [`--aa` argument](https://kallisto.readthedocs.io/en/latest/translated/pseudoalignment.html) tells `kb` that this is an amino acid reference.\n",
        "\n",
        "The [`--d-list` argument](https://kallisto.readthedocs.io/en/latest/index/index_generation.html#the-d-list) is the path to the host genome/transcriptome. These sequences will be masked in the index. Here, we are using gget to fetch the latest human genome and transcriptome from Ensembl.\n",
        "\n",
        "We are using `--workflow custom` here since we do not have a .gtf file for the PalmDB fasta file.\n",
        "\n",
        "Building the index will take some time (runtimes vary from min to hours depending on k and the number of threads used), since the human genome is quite large."
      ],
      "metadata": {
        "id": "8K_umQBH99M0"
      },
      "id": "8K_umQBH99M0"
    },
    {
      "cell_type": "code",
      "source": [
        "# Download the human reference genome and transcriptome from Ensembl\n",
        "# Replace 'homo_sapiens' here and the genome/transcriptome file names below if the host is a different species\n",
        "!gget ref -w cdna,dna -d homo_sapiens\n",
        "\n",
        "# Concatenate human genome and transcriptome into one file\n",
        "!cat Homo_sapiens.GRCh38.cdna.all.fa.gz Homo_sapiens.GRCh38.dna.primary_assembly.fa.gz > Homo_sapiens.GRCh38.cdna_dna.fa.gz"
      ],
      "metadata": {
        "id": "EWf8IuZInhQF",
        "outputId": "30a587b4-ad1f-4422-bf9d-9307ace5c495",
        "colab": {
          "base_uri": "https://localhost:8080/"
        }
      },
      "id": "EWf8IuZInhQF",
      "execution_count": 6,
      "outputs": [
        {
          "output_type": "stream",
          "name": "stdout",
          "text": [
            "21:01:12 - INFO - Fetching reference information for homo_sapiens from Ensembl release: 113.\n",
            "{\n",
            "    \"homo_sapiens\": {\n",
            "        \"transcriptome_cdna\": {\n",
            "            \"ftp\": \"http://ftp.ensembl.org/pub/release-113/fasta/homo_sapiens/cdna/Homo_sapiens.GRCh38.cdna.all.fa.gz\",\n",
            "            \"ensembl_release\": 113,\n",
            "            \"release_date\": \"2024-08-15\",\n",
            "            \"release_time\": \"14:44\",\n",
            "            \"bytes\": \"76M\"\n",
            "        },\n",
            "        \"genome_dna\": {\n",
            "            \"ftp\": \"http://ftp.ensembl.org/pub/release-113/fasta/homo_sapiens/dna/Homo_sapiens.GRCh38.dna.primary_assembly.fa.gz\",\n",
            "            \"ensembl_release\": 113,\n",
            "            \"release_date\": \"2024-08-15\",\n",
            "            \"release_time\": \"20:18\",\n",
            "            \"bytes\": \"841M\"\n",
            "        }\n",
            "    }\n",
            "}\n",
            "  % Total    % Received % Xferd  Average Speed   Time    Time     Time  Current\n",
            "                                 Dload  Upload   Total   Spent    Left  Speed\n",
            "100 75.9M  100 75.9M    0     0   675k      0  0:01:55  0:01:55 --:--:--  678k\n",
            "  % Total    % Received % Xferd  Average Speed   Time    Time     Time  Current\n",
            "                                 Dload  Upload   Total   Spent    Left  Speed\n",
            "100  841M  100  841M    0     0   668k      0  0:21:27  0:21:27 --:--:--  665k\n"
          ]
        }
      ]
    },
    {
      "cell_type": "code",
      "source": [
        "%%time\n",
        "# Generate the reference index using kallisto\n",
        "!kb ref \\\n",
        "  --verbose \\\n",
        "  -t $threads \\\n",
        "  --aa \\\n",
        "  -k $k \\\n",
        "  --workflow custom \\\n",
        "  --d-list Homo_sapiens.GRCh38.cdna_dna.fa.gz \\\n",
        "  -i palmdb_human_dlist_cdna_dna.idx \\\n",
        "  palmdb_rdrp_seqs.fa"
      ],
      "metadata": {
        "id": "jPPHwwU_vWiU",
        "outputId": "6645252c-a4a9-4662-a51a-8d637adb0df7",
        "colab": {
          "base_uri": "https://localhost:8080/"
        }
      },
      "id": "jPPHwwU_vWiU",
      "execution_count": 7,
      "outputs": [
        {
          "output_type": "stream",
          "name": "stdout",
          "text": [
            "[2024-12-27 21:25:03,239]   DEBUG [main] Printing verbose output\n",
            "[2024-12-27 21:25:05,449]   DEBUG [main] kallisto binary located at /usr/local/lib/python3.10/dist-packages/kb_python/bins/linux/kallisto/kallisto_k64\n",
            "[2024-12-27 21:25:05,449]   DEBUG [main] bustools binary located at /usr/local/lib/python3.10/dist-packages/kb_python/bins/linux/bustools/bustools\n",
            "[2024-12-27 21:25:05,450]   DEBUG [main] Creating `tmp` directory\n",
            "[2024-12-27 21:25:05,450]   DEBUG [main] Namespace(list=False, command='ref', tmp=None, keep_tmp=False, verbose=True, i='palmdb_human_dlist_cdna_dna.idx', g=None, f1=None, include_attribute=None, exclude_attribute=None, f2=None, c1=None, c2=None, d=None, k=55, t=2, d_list='Homo_sapiens.GRCh38.cdna_dna.fa.gz', d_list_overhang=1, aa=True, workflow='custom', distinguish=False, make_unique=False, overwrite=False, kallisto='/usr/local/lib/python3.10/dist-packages/kb_python/bins/linux/kallisto/kallisto_k64', bustools='/usr/local/lib/python3.10/dist-packages/kb_python/bins/linux/bustools/bustools', opt_off=False, fasta='palmdb_rdrp_seqs.fa', gtf=None, feature=None, no_mismatches=False, ec_max_size=None, flank=None)\n",
            "[2024-12-27 21:25:05,450] WARNING [ref_custom] Using provided k-mer length 55 instead of optimal length 31\n",
            "[2024-12-27 21:25:05,451]    INFO [ref_custom] Indexing palmdb_rdrp_seqs.fa to palmdb_human_dlist_cdna_dna.idx\n",
            "[2024-12-27 21:25:05,451]   DEBUG [ref_custom] kallisto_k64 index -i palmdb_human_dlist_cdna_dna.idx -k 55 -t 2 -d Homo_sapiens.GRCh38.cdna_dna.fa.gz --aa palmdb_rdrp_seqs.fa\n",
            "[2024-12-27 21:25:05,552]   DEBUG [ref_custom] \n",
            "[2024-12-27 21:25:05,552]   DEBUG [ref_custom] [index] --d-list-overhang was set to 3 (with --aa, the d-list overhang must be >= 3)\n",
            "[2024-12-27 21:25:05,552]   DEBUG [ref_custom] [build] loading fasta file palmdb_rdrp_seqs.fa\n",
            "[2024-12-27 21:25:05,552]   DEBUG [ref_custom] [build] k-mer length: 55\n",
            "[2024-12-27 21:25:08,158]   DEBUG [ref_custom] KmerStream::KmerStream(): Start computing k-mer cardinality estimations (1/2)\n",
            "[2024-12-27 21:25:08,158]   DEBUG [ref_custom] KmerStream::KmerStream(): Start computing k-mer cardinality estimations (1/2)\n",
            "[2024-12-27 21:25:20,498]   DEBUG [ref_custom] KmerStream::KmerStream(): Finished\n",
            "[2024-12-27 21:25:20,900]   DEBUG [ref_custom] CompactedDBG::build(): Estimated number of k-mers occurring at least once: 46065430\n",
            "[2024-12-27 21:25:20,900]   DEBUG [ref_custom] CompactedDBG::build(): Estimated number of minimizer occurring at least once: 11036127\n",
            "[2024-12-27 21:25:35,564]   DEBUG [ref_custom] CompactedDBG::filter(): Processed 80030676 k-mers in 296561 reads\n",
            "[2024-12-27 21:25:35,564]   DEBUG [ref_custom] CompactedDBG::filter(): Found 45966388 unique k-mers\n",
            "[2024-12-27 21:25:35,564]   DEBUG [ref_custom] CompactedDBG::filter(): Number of blocks in Bloom filter is 314902\n",
            "[2024-12-27 21:25:36,166]   DEBUG [ref_custom] CompactedDBG::construct(): Extract approximate unitigs (1/2)\n",
            "[2024-12-27 21:27:26,629]   DEBUG [ref_custom] CompactedDBG::construct(): Extract approximate unitigs (2/2)\n",
            "[2024-12-27 21:27:43,609]   DEBUG [ref_custom] CompactedDBG::construct(): Closed all input files\n",
            "[2024-12-27 21:27:43,609]   DEBUG [ref_custom] \n",
            "[2024-12-27 21:27:43,609]   DEBUG [ref_custom] CompactedDBG::construct(): Splitting unitigs (1/2)\n",
            "[2024-12-27 21:27:43,910]   DEBUG [ref_custom] \n",
            "[2024-12-27 21:27:43,910]   DEBUG [ref_custom] CompactedDBG::construct(): Splitting unitigs (2/2)\n",
            "[2024-12-27 21:27:45,213]   DEBUG [ref_custom] CompactedDBG::construct(): Before split: 1073284 unitigs\n",
            "[2024-12-27 21:27:45,213]   DEBUG [ref_custom] CompactedDBG::construct(): After split (1/1): 1073284 unitigs\n",
            "[2024-12-27 21:27:45,214]   DEBUG [ref_custom] CompactedDBG::construct(): Unitigs split: 4709\n",
            "[2024-12-27 21:27:45,214]   DEBUG [ref_custom] CompactedDBG::construct(): Unitigs deleted: 0\n",
            "[2024-12-27 21:27:45,214]   DEBUG [ref_custom] \n",
            "[2024-12-27 21:27:45,214]   DEBUG [ref_custom] CompactedDBG::construct(): Joining unitigs\n",
            "[2024-12-27 21:27:53,637]   DEBUG [ref_custom] CompactedDBG::construct(): After join: 1049452 unitigs\n",
            "[2024-12-27 21:27:53,638]   DEBUG [ref_custom] CompactedDBG::construct(): Joined 23919 unitigs\n",
            "[2024-12-27 21:27:54,139]   DEBUG [ref_custom] [build] extracting D-list k-mers from \"Homo_sapiens.GRCh38.cdna_dna.fa.gz\"\n",
            "[2024-12-28 00:01:17,905]   DEBUG [ref_custom] [build] identified 236 distinguishing flanking k-mers\n",
            "[2024-12-28 00:01:33,569]   DEBUG [ref_custom] [build] building MPHF\n",
            "[2024-12-28 00:01:48,935]   DEBUG [ref_custom] [build] creating equivalence classes ...\n",
            "[2024-12-28 00:02:24,936]   DEBUG [ref_custom] [build] target de Bruijn graph has k-mer length 55 and minimizer length 47\n",
            "[2024-12-28 00:02:24,937]   DEBUG [ref_custom] [build] target de Bruijn graph has 1049454 contigs and contains 46006217 k-mers\n",
            "[2024-12-28 00:02:34,172]   DEBUG [ref_custom] \n",
            "[2024-12-28 00:02:35,483]    INFO [ref_custom] Finished creating custom index\n",
            "[2024-12-28 00:02:35,484]   DEBUG [main] Removing `tmp` directory\n",
            "CPU times: user 1min 12s, sys: 9.57 s, total: 1min 22s\n",
            "Wall time: 2h 37min 46s\n"
          ]
        }
      ]
    },
    {
      "cell_type": "markdown",
      "source": [
        "Alternatively, you can download a precomputed PalmDB reference index for use with `kb` in which the human (or mouse) genome and transcriptome were masked. You can find links to all available precomputed reference indeces [here](https://github.com/pachterlab/LSCHWCP_2023/tree/main/precomputed_refs).  \n",
        "**Note:** These indeces were computed with `k=31`."
      ],
      "metadata": {
        "id": "VkRzvJEAcA8Q"
      },
      "id": "VkRzvJEAcA8Q"
    },
    {
      "cell_type": "code",
      "source": [
        "# # Download precomputed index with masked human genome and transcriptome\n",
        "# k=31\n",
        "# !wget https://data.caltech.edu/records/sh33z-hrx98/files/palmdb_human_dlist_cdna_dna.idx?download=1\n",
        "# !mv palmdb_human_dlist_cdna_dna.idx?download=1 palmdb_human_dlist_cdna_dna.idx"
      ],
      "metadata": {
        "id": "RGt5KCOc905r"
      },
      "id": "RGt5KCOc905r",
      "execution_count": 8,
      "outputs": []
    },
    {
      "cell_type": "markdown",
      "id": "ee93f3f8-767e-41f5-81d2-c52869c22aca",
      "metadata": {
        "id": "ee93f3f8-767e-41f5-81d2-c52869c22aca"
      },
      "source": [
        "## Align data using kallisto translated search"
      ]
    },
    {
      "cell_type": "markdown",
      "id": "406cd27a-0447-4ed5-95cd-58501c604744",
      "metadata": {
        "id": "406cd27a-0447-4ed5-95cd-58501c604744"
      },
      "source": [
        "Create a batch file so we can run all fastq files simultaneously (to learn more about batch files, see Box 7 in the [Protocols paper](https://www.biorxiv.org/content/10.1101/2023.11.21.568164v2.full.pdf)):"
      ]
    },
    {
      "cell_type": "code",
      "execution_count": 9,
      "id": "72860e01-80a3-48eb-824b-42f4f7371cdf",
      "metadata": {
        "id": "72860e01-80a3-48eb-824b-42f4f7371cdf",
        "outputId": "6d3c1395-50b7-45aa-c4d0-68ad52bcaa70",
        "colab": {
          "base_uri": "https://localhost:8080/"
        }
      },
      "outputs": [
        {
          "output_type": "stream",
          "name": "stdout",
          "text": [
            "Number of reads kept per fastq file: 10,000,000\n"
          ]
        }
      ],
      "source": [
        "if n_seq_to_keep:\n",
        "    # To decrease the runtime of this example tutorial,\n",
        "    # we will only align the top [n_seq_to_keep] sequences in each fastq file\n",
        "    print(f\"Number of reads kept per fastq file: {n_seq_to_keep:,}\")\n",
        "\n",
        "with open(\"batch.txt\", \"w\") as batch_file:\n",
        "  for filename in np.sort(glob.glob(\"*.fastq.gz\")):\n",
        "\n",
        "    if n_seq_to_keep:\n",
        "        # Shorten fastq files (skip this step during a real analysis)\n",
        "        n_rows_to_keep = n_seq_to_keep * 4\n",
        "        filename_short = filename.split(\".fastq.gz\")[0] + \"_short.fastq\"\n",
        "        !zcat $filename | head -$n_rows_to_keep > $filename_short\n",
        "    else:\n",
        "      filename_short = filename\n",
        "\n",
        "    # Write batch file in the following format:\n",
        "    # sample_name \\t fastq_filepath\n",
        "    sample_name = filename.split(\"/\")[-1].split(\".\")[0]\n",
        "    batch_file.write(sample_name + \"\\t\" +  filename_short + \"\\n\")"
      ]
    },
    {
      "cell_type": "markdown",
      "id": "1123d76f-7f2d-4f87-a720-b7b9f32737b9",
      "metadata": {
        "id": "1123d76f-7f2d-4f87-a720-b7b9f32737b9"
      },
      "source": [
        "The `--aa` argument tells `kb` that this is an amino acid reference. The [`-x` argument](https://kallisto.readthedocs.io/en/latest/sc/technologies.html) tells `kb` where to find the barcodes and UMIs in the data.   \n",
        "  \n",
        "NOTE for paired read data: kallisto transalted search currently does not yet support the simultaneous alignment of paired reads, so `parity` should always be set to 'single' (`--parity single`) and the R1 and R2 files obtained using paired read sequencing should be aligned separately. The resulting matrices from the R1 and R2 reads should provide similar viral counts."
      ]
    },
    {
      "cell_type": "code",
      "execution_count": 10,
      "id": "d1595c9f-2d7a-4809-ae2a-94e280999955",
      "metadata": {
        "id": "d1595c9f-2d7a-4809-ae2a-94e280999955",
        "outputId": "1af463e3-da5a-4c84-9de9-c1543129c1d2",
        "colab": {
          "base_uri": "https://localhost:8080/"
        }
      },
      "outputs": [
        {
          "output_type": "stream",
          "name": "stdout",
          "text": [
            "[2024-12-28 00:05:47,502]   DEBUG [main] Printing verbose output\n",
            "[2024-12-28 00:05:49,712]   DEBUG [main] kallisto binary located at /usr/local/lib/python3.10/dist-packages/kb_python/bins/linux/kallisto/kallisto_k64\n",
            "[2024-12-28 00:05:49,712]   DEBUG [main] bustools binary located at /usr/local/lib/python3.10/dist-packages/kb_python/bins/linux/bustools/bustools\n",
            "[2024-12-28 00:05:49,713]   DEBUG [main] Creating `kb_output/tmp` directory\n",
            "[2024-12-28 00:05:49,713]   DEBUG [main] Namespace(list=False, command='count', tmp=None, keep_tmp=False, verbose=True, i='palmdb_human_dlist_cdna_dna.idx', g='palmdb_clustered_t2g.txt', x='bulk', o='kb_output', num=False, w=None, r=None, t=2, m='2G', strand=None, inleaved=False, genomebam=False, aa=True, gtf=None, chromosomes=None, workflow='standard', em=False, mm=False, tcc=False, filter=None, filter_threshold=None, c1=None, c2=None, overwrite=False, dry_run=False, batch_barcodes=False, loom=False, h5ad=True, loom_names='barcode,target_name', sum='none', cellranger=False, gene_names=False, N=None, report=False, no_inspect=False, long=False, threshold=0.8, error_rate=None, platform='ONT', kallisto='/usr/local/lib/python3.10/dist-packages/kb_python/bins/linux/kallisto/kallisto_k64', bustools='/usr/local/lib/python3.10/dist-packages/kb_python/bins/linux/bustools/bustools', opt_off=False, k=55, no_validate=False, no_fragment=False, union=False, no_jump=False, quant_umis=False, keep_flags=False, parity='single', fragment_l=None, fragment_s=None, bootstraps=None, matrix_to_files=False, matrix_to_directories=False, fastqs=['batch.txt'])\n",
            "[2024-12-28 00:05:53,677]    INFO [count] Using index palmdb_human_dlist_cdna_dna.idx to generate BUS file to kb_output from\n",
            "[2024-12-28 00:05:53,677]    INFO [count]         /content/kb_output/tmp/tmp0rn922oe\n",
            "[2024-12-28 00:05:53,677]   DEBUG [count] kallisto_k64 bus -i palmdb_human_dlist_cdna_dna.idx -o kb_output -x BULK -t 2 --aa --batch /content/kb_output/tmp/tmp0rn922oe\n",
            "[2024-12-28 00:05:53,778]   DEBUG [count] \n",
            "[2024-12-28 00:05:53,779]   DEBUG [count] [bus] will try running read files supplied in batch file\n",
            "[2024-12-28 00:06:04,621]   DEBUG [count] [index] k-mer length: 55\n",
            "[2024-12-28 00:06:15,173]   DEBUG [count] [index] number of targets: 296,561\n",
            "[2024-12-28 00:06:15,174]   DEBUG [count] [index] number of k-mers: 46,006,217\n",
            "[2024-12-28 00:06:15,174]   DEBUG [count] [index] number of D-list k-mers: 236\n",
            "[2024-12-28 00:06:15,174]   DEBUG [count] [quant] running in single-end mode\n",
            "[2024-12-28 00:06:15,174]   DEBUG [count] [quant] will process file 1: SRR11777734_short.fastq\n",
            "[2024-12-28 00:06:15,174]   DEBUG [count] [quant] will process file 1: SRR11777735_short.fastq\n",
            "[2024-12-28 00:06:15,174]   DEBUG [count] [quant] will process file 1: SRR11777736_short.fastq\n",
            "[2024-12-28 00:06:15,174]   DEBUG [count] [quant] will process file 1: SRR11777737_short.fastq\n",
            "[2024-12-28 00:06:15,174]   DEBUG [count] [quant] will process file 1: SRR11777738_short.fastq\n",
            "[2024-12-28 00:06:15,174]   DEBUG [count] [quant] will process file 1: SRR11777739_short.fastq\n",
            "[2024-12-28 00:07:34,417]   DEBUG [count] [quant] finding pseudoalignments for all files ...\n",
            "[2024-12-28 00:08:53,335]   DEBUG [count] [progress] 1M reads processed (0.0% mapped)\n",
            "[2024-12-28 00:10:05,907]   DEBUG [count] [progress] 2M reads processed (0.0% mapped)\n",
            "[2024-12-28 00:11:24,401]   DEBUG [count] [progress] 3M reads processed (0.0% mapped)\n",
            "[2024-12-28 00:12:43,675]   DEBUG [count] [progress] 4M reads processed (0.0% mapped)\n",
            "[2024-12-28 00:14:02,291]   DEBUG [count] [progress] 5M reads processed (0.0% mapped)\n",
            "[2024-12-28 00:15:27,458]   DEBUG [count] [progress] 6M reads processed (0.0% mapped)\n",
            "[2024-12-28 00:16:41,356]   DEBUG [count] [progress] 7M reads processed (0.0% mapped)\n",
            "[2024-12-28 00:18:00,559]   DEBUG [count] [progress] 8M reads processed (0.0% mapped)\n",
            "[2024-12-28 00:19:17,965]   DEBUG [count] [progress] 9M reads processed (0.0% mapped)\n",
            "[2024-12-28 00:20:41,014]   DEBUG [count] [progress] 11M reads processed (0.0% mapped)\n",
            "[2024-12-28 00:21:51,305]   DEBUG [count] [progress] 12M reads processed (0.0% mapped)\n",
            "[2024-12-28 00:23:06,074]   DEBUG [count] [progress] 13M reads processed (0.0% mapped)\n",
            "[2024-12-28 00:24:23,846]   DEBUG [count] [progress] 14M reads processed (0.0% mapped)\n",
            "[2024-12-28 00:25:43,766]   DEBUG [count] [progress] 15M reads processed (0.0% mapped)\n",
            "[2024-12-28 00:26:54,042]   DEBUG [count] [progress] 16M reads processed (0.0% mapped)\n",
            "[2024-12-28 00:28:04,441]   DEBUG [count] [progress] 17M reads processed (0.0% mapped)\n",
            "[2024-12-28 00:29:14,206]   DEBUG [count] [progress] 18M reads processed (0.0% mapped)\n",
            "[2024-12-28 00:30:22,408]   DEBUG [count] [progress] 19M reads processed (0.0% mapped)\n",
            "[2024-12-28 00:31:39,287]   DEBUG [count] [progress] 20M reads processed (0.0% mapped)\n",
            "[2024-12-28 00:32:53,106]   DEBUG [count] [progress] 21M reads processed (0.0% mapped)\n",
            "[2024-12-28 00:34:03,298]   DEBUG [count] [progress] 23M reads processed (0.0% mapped)\n",
            "[2024-12-28 00:35:22,345]   DEBUG [count] [progress] 24M reads processed (0.0% mapped)\n",
            "[2024-12-28 00:36:18,392]   DEBUG [count] [progress] 25M reads processed (0.0% mapped)\n",
            "[2024-12-28 00:37:27,890]   DEBUG [count] [progress] 26M reads processed (0.0% mapped)\n",
            "[2024-12-28 00:38:40,753]   DEBUG [count] [progress] 27M reads processed (0.0% mapped)\n",
            "[2024-12-28 00:39:53,488]   DEBUG [count] [progress] 28M reads processed (0.0% mapped)\n",
            "[2024-12-28 00:41:04,500]   DEBUG [count] [progress] 29M reads processed (0.0% mapped)\n",
            "[2024-12-28 00:42:14,039]   DEBUG [count] [progress] 30M reads processed (0.0% mapped)\n",
            "[2024-12-28 00:43:23,492]   DEBUG [count] [progress] 31M reads processed (0.0% mapped)\n",
            "[2024-12-28 00:44:32,009]   DEBUG [count] [progress] 32M reads processed (0.0% mapped)\n",
            "[2024-12-28 00:45:38,808]   DEBUG [count] [progress] 34M reads processed (0.0% mapped)\n",
            "[2024-12-28 00:46:48,500]   DEBUG [count] [progress] 35M reads processed (0.0% mapped)\n",
            "[2024-12-28 00:48:01,611]   DEBUG [count] [progress] 36M reads processed (0.0% mapped)\n",
            "[2024-12-28 00:49:12,940]   DEBUG [count] [progress] 37M reads processed (0.0% mapped)\n",
            "[2024-12-28 00:50:25,235]   DEBUG [count] [progress] 38M reads processed (0.0% mapped)\n",
            "[2024-12-28 00:51:34,245]   DEBUG [count] [progress] 39M reads processed (0.0% mapped)\n",
            "[2024-12-28 00:52:32,005]   DEBUG [count] [progress] 40M reads processed (0.0% mapped)\n",
            "[2024-12-28 00:53:40,999]   DEBUG [count] [progress] 41M reads processed (0.0% mapped)\n",
            "[2024-12-28 00:54:40,074]   DEBUG [count] [progress] 42M reads processed (0.0% mapped)\n",
            "[2024-12-28 00:56:03,295]   DEBUG [count] [progress] 43M reads processed (0.0% mapped)\n",
            "[2024-12-28 00:57:04,210]   DEBUG [count] [progress] 44M reads processed (0.0% mapped)\n",
            "[2024-12-28 00:58:14,673]   DEBUG [count] [progress] 45M reads processed (0.0% mapped)\n",
            "[2024-12-28 00:59:16,211]   DEBUG [count] [progress] 46M reads processed (0.0% mapped)\n",
            "[2024-12-28 01:00:24,575]   DEBUG [count] [progress] 47M reads processed (0.0% mapped)\n",
            "[2024-12-28 01:01:23,186]   DEBUG [count] [progress] 48M reads processed (0.0% mapped)\n",
            "[2024-12-28 01:02:32,362]   DEBUG [count] [progress] 49M reads processed (0.0% mapped)\n",
            "[2024-12-28 01:03:35,532]   DEBUG [count] [progress] 50M reads processed (0.0% mapped)\n",
            "[2024-12-28 01:04:47,108]   DEBUG [count] [progress] 51M reads processed (0.0% mapped)\n",
            "[2024-12-28 01:05:56,613]   DEBUG [count] [progress] 52M reads processed (0.0% mapped)\n",
            "[2024-12-28 01:07:07,098]   DEBUG [count] [progress] 53M reads processed (0.0% mapped)\n",
            "[2024-12-28 01:08:02,796]   DEBUG [count] [progress] 54M reads processed (0.0% mapped)\n",
            "[2024-12-28 01:09:12,488]   DEBUG [count] [progress] 55M reads processed (0.0% mapped)\n",
            "[2024-12-28 01:10:07,466]   DEBUG [count] [progress] 56M reads processed (0.0% mapped)\n",
            "[2024-12-28 01:11:15,514]   DEBUG [count] [progress] 57M reads processed (0.0% mapped)\n",
            "[2024-12-28 01:12:12,103]   DEBUG [count] [progress] 58M reads processed (0.0% mapped)\n",
            "[2024-12-28 01:12:30,993]   DEBUG [count] [progress] 59M reads processed (0.0% mapped)              done\n",
            "[2024-12-28 01:12:30,994]   DEBUG [count] [quant] processed 60,000,000 reads, 5,492 reads pseudoaligned\n",
            "[2024-12-28 01:12:31,595]   DEBUG [count] \n",
            "[2024-12-28 01:12:34,213]    INFO [count] Sorting BUS file kb_output/output.bus to kb_output/tmp/output.s.bus\n",
            "[2024-12-28 01:12:34,214]   DEBUG [count] bustools sort -o kb_output/tmp/output.s.bus -T kb_output/tmp -t 2 -m 2G kb_output/output.bus\n",
            "[2024-12-28 01:12:36,030]   DEBUG [count] all fits in buffer\n",
            "[2024-12-28 01:12:37,231]   DEBUG [count] Read in 5492 BUS records\n",
            "[2024-12-28 01:12:37,231]   DEBUG [count] reading time 0.000135s\n",
            "[2024-12-28 01:12:37,231]   DEBUG [count] sorting time 0.000843s\n",
            "[2024-12-28 01:12:37,231]   DEBUG [count] writing time 0.00019s\n",
            "[2024-12-28 01:12:37,232]    INFO [count] Inspecting BUS file kb_output/tmp/output.s.bus\n",
            "[2024-12-28 01:12:37,232]   DEBUG [count] bustools inspect -o kb_output/inspect.json kb_output/tmp/output.s.bus\n",
            "[2024-12-28 01:12:38,337]    INFO [count] Generating count matrix kb_output/counts_unfiltered/cells_x_genes from BUS file kb_output/tmp/output.s.bus\n",
            "[2024-12-28 01:12:38,338]   DEBUG [count] bustools count -o kb_output/counts_unfiltered/cells_x_genes -g palmdb_clustered_t2g.txt -e kb_output/matrix.ec -t kb_output/transcripts.txt --genecounts --cm kb_output/tmp/output.s.bus\n",
            "[2024-12-28 01:12:41,016]   DEBUG [count] kb_output/counts_unfiltered/cells_x_genes.mtx passed validation\n",
            "[2024-12-28 01:12:41,017]    INFO [count] Writing gene names to file kb_output/counts_unfiltered/cells_x_genes.genes.names.txt\n",
            "[2024-12-28 01:12:41,450] WARNING [count] 99228 gene IDs do not have corresponding valid gene names. These genes will use their gene IDs instead.\n",
            "[2024-12-28 01:12:41,489]    INFO [count] Reading matrix kb_output/counts_unfiltered/cells_x_genes.mtx\n",
            "[2024-12-28 01:12:41,772]    INFO [count] Writing matrix to h5ad kb_output/counts_unfiltered/adata.h5ad\n",
            "[2024-12-28 01:12:41,975]   DEBUG [main] Removing `kb_output/tmp` directory\n",
            "CPU times: user 31.2 s, sys: 4.26 s, total: 35.4 s\n",
            "Wall time: 1h 7min 12s\n"
          ]
        }
      ],
      "source": [
        "%%time\n",
        "\n",
        "!kb count \\\n",
        "    --verbose \\\n",
        "    -t $threads \\\n",
        "    --aa \\\n",
        "    -k $k \\\n",
        "    -i palmdb_human_dlist_cdna_dna.idx \\\n",
        "    -g palmdb_clustered_t2g.txt \\\n",
        "    -x bulk \\\n",
        "    --parity single \\\n",
        "    --h5ad \\\n",
        "    -o kb_output \\\n",
        "    batch.txt"
      ]
    },
    {
      "cell_type": "markdown",
      "id": "10b4ea62-8ef4-4395-ab7a-a45bb2e722b6",
      "metadata": {
        "id": "10b4ea62-8ef4-4395-ab7a-a45bb2e722b6"
      },
      "source": [
        "## Load generated count matrix"
      ]
    },
    {
      "cell_type": "code",
      "source": [
        "# Open count matrix generated by kb (AnnData object in h5ad format)\n",
        "adata = anndata.read_h5ad(\"kb_output/counts_unfiltered/adata.h5ad\")\n",
        "adata"
      ],
      "metadata": {
        "id": "QgONUhqxVtgX",
        "outputId": "39ae81fe-9261-4902-d2f7-526b939091fa",
        "colab": {
          "base_uri": "https://localhost:8080/"
        }
      },
      "id": "QgONUhqxVtgX",
      "execution_count": 11,
      "outputs": [
        {
          "output_type": "execute_result",
          "data": {
            "text/plain": [
              "AnnData object with n_obs × n_vars = 6 × 99228"
            ]
          },
          "metadata": {},
          "execution_count": 11
        }
      ]
    },
    {
      "cell_type": "markdown",
      "source": [
        "## Plot counts for SARS-CoV RdRP sequences in each sample"
      ],
      "metadata": {
        "id": "n52R9ghEVtnD"
      },
      "id": "n52R9ghEVtnD"
    },
    {
      "cell_type": "code",
      "execution_count": 12,
      "id": "9f00404b-713d-4e1c-a34a-555958a07637",
      "metadata": {
        "id": "9f00404b-713d-4e1c-a34a-555958a07637",
        "colab": {
          "base_uri": "https://localhost:8080/",
          "height": 424
        },
        "outputId": "d732006f-b978-40d2-9a21-746eba5d68b1"
      },
      "outputs": [
        {
          "output_type": "execute_result",
          "data": {
            "text/plain": [
              "          ID rep_ID        phylum            class        order  \\\n",
              "0         u1     u1  Pisuviricota  Pisoniviricetes  Nidovirales   \n",
              "1     u10066     u1  Pisuviricota  Pisoniviricetes  Nidovirales   \n",
              "2     u10121     u1  Pisuviricota  Pisoniviricetes  Nidovirales   \n",
              "3     u10124     u1  Pisuviricota  Pisoniviricetes  Nidovirales   \n",
              "4    u102609     u1  Pisuviricota  Pisoniviricetes  Nidovirales   \n",
              "..       ...    ...           ...              ...          ...   \n",
              "404     u889     u1  Pisuviricota  Pisoniviricetes  Nidovirales   \n",
              "405    u9015     u1  Pisuviricota  Pisoniviricetes  Nidovirales   \n",
              "406     u944     u1  Pisuviricota  Pisoniviricetes  Nidovirales   \n",
              "407    u9771     u1  Pisuviricota  Pisoniviricetes  Nidovirales   \n",
              "408     u992     u1  Pisuviricota  Pisoniviricetes  Nidovirales   \n",
              "\n",
              "            family            genus  \\\n",
              "0    Coronaviridae  Betacoronavirus   \n",
              "1    Coronaviridae  Betacoronavirus   \n",
              "2    Coronaviridae  Betacoronavirus   \n",
              "3    Coronaviridae  Betacoronavirus   \n",
              "4    Coronaviridae  Betacoronavirus   \n",
              "..             ...              ...   \n",
              "404  Coronaviridae  Betacoronavirus   \n",
              "405  Coronaviridae  Betacoronavirus   \n",
              "406  Coronaviridae  Betacoronavirus   \n",
              "407  Coronaviridae  Betacoronavirus   \n",
              "408  Coronaviridae  Betacoronavirus   \n",
              "\n",
              "                                               species strandedness  \n",
              "0    Severe acute respiratory syndrome-related coro...       +ssRNA  \n",
              "1    Severe acute respiratory syndrome-related coro...       +ssRNA  \n",
              "2    Severe acute respiratory syndrome-related coro...       +ssRNA  \n",
              "3    Severe acute respiratory syndrome-related coro...       +ssRNA  \n",
              "4    Severe acute respiratory syndrome-related coro...       +ssRNA  \n",
              "..                                                 ...          ...  \n",
              "404  Severe acute respiratory syndrome-related coro...       +ssRNA  \n",
              "405  Severe acute respiratory syndrome-related coro...       +ssRNA  \n",
              "406  Severe acute respiratory syndrome-related coro...       +ssRNA  \n",
              "407  Severe acute respiratory syndrome-related coro...       +ssRNA  \n",
              "408  Severe acute respiratory syndrome-related coro...       +ssRNA  \n",
              "\n",
              "[409 rows x 9 columns]"
            ],
            "text/html": [
              "\n",
              "  <div id=\"df-1700a8ae-4c55-4fd4-b914-45198adf18a2\" class=\"colab-df-container\">\n",
              "    <div>\n",
              "<style scoped>\n",
              "    .dataframe tbody tr th:only-of-type {\n",
              "        vertical-align: middle;\n",
              "    }\n",
              "\n",
              "    .dataframe tbody tr th {\n",
              "        vertical-align: top;\n",
              "    }\n",
              "\n",
              "    .dataframe thead th {\n",
              "        text-align: right;\n",
              "    }\n",
              "</style>\n",
              "<table border=\"1\" class=\"dataframe\">\n",
              "  <thead>\n",
              "    <tr style=\"text-align: right;\">\n",
              "      <th></th>\n",
              "      <th>ID</th>\n",
              "      <th>rep_ID</th>\n",
              "      <th>phylum</th>\n",
              "      <th>class</th>\n",
              "      <th>order</th>\n",
              "      <th>family</th>\n",
              "      <th>genus</th>\n",
              "      <th>species</th>\n",
              "      <th>strandedness</th>\n",
              "    </tr>\n",
              "  </thead>\n",
              "  <tbody>\n",
              "    <tr>\n",
              "      <th>0</th>\n",
              "      <td>u1</td>\n",
              "      <td>u1</td>\n",
              "      <td>Pisuviricota</td>\n",
              "      <td>Pisoniviricetes</td>\n",
              "      <td>Nidovirales</td>\n",
              "      <td>Coronaviridae</td>\n",
              "      <td>Betacoronavirus</td>\n",
              "      <td>Severe acute respiratory syndrome-related coro...</td>\n",
              "      <td>+ssRNA</td>\n",
              "    </tr>\n",
              "    <tr>\n",
              "      <th>1</th>\n",
              "      <td>u10066</td>\n",
              "      <td>u1</td>\n",
              "      <td>Pisuviricota</td>\n",
              "      <td>Pisoniviricetes</td>\n",
              "      <td>Nidovirales</td>\n",
              "      <td>Coronaviridae</td>\n",
              "      <td>Betacoronavirus</td>\n",
              "      <td>Severe acute respiratory syndrome-related coro...</td>\n",
              "      <td>+ssRNA</td>\n",
              "    </tr>\n",
              "    <tr>\n",
              "      <th>2</th>\n",
              "      <td>u10121</td>\n",
              "      <td>u1</td>\n",
              "      <td>Pisuviricota</td>\n",
              "      <td>Pisoniviricetes</td>\n",
              "      <td>Nidovirales</td>\n",
              "      <td>Coronaviridae</td>\n",
              "      <td>Betacoronavirus</td>\n",
              "      <td>Severe acute respiratory syndrome-related coro...</td>\n",
              "      <td>+ssRNA</td>\n",
              "    </tr>\n",
              "    <tr>\n",
              "      <th>3</th>\n",
              "      <td>u10124</td>\n",
              "      <td>u1</td>\n",
              "      <td>Pisuviricota</td>\n",
              "      <td>Pisoniviricetes</td>\n",
              "      <td>Nidovirales</td>\n",
              "      <td>Coronaviridae</td>\n",
              "      <td>Betacoronavirus</td>\n",
              "      <td>Severe acute respiratory syndrome-related coro...</td>\n",
              "      <td>+ssRNA</td>\n",
              "    </tr>\n",
              "    <tr>\n",
              "      <th>4</th>\n",
              "      <td>u102609</td>\n",
              "      <td>u1</td>\n",
              "      <td>Pisuviricota</td>\n",
              "      <td>Pisoniviricetes</td>\n",
              "      <td>Nidovirales</td>\n",
              "      <td>Coronaviridae</td>\n",
              "      <td>Betacoronavirus</td>\n",
              "      <td>Severe acute respiratory syndrome-related coro...</td>\n",
              "      <td>+ssRNA</td>\n",
              "    </tr>\n",
              "    <tr>\n",
              "      <th>...</th>\n",
              "      <td>...</td>\n",
              "      <td>...</td>\n",
              "      <td>...</td>\n",
              "      <td>...</td>\n",
              "      <td>...</td>\n",
              "      <td>...</td>\n",
              "      <td>...</td>\n",
              "      <td>...</td>\n",
              "      <td>...</td>\n",
              "    </tr>\n",
              "    <tr>\n",
              "      <th>404</th>\n",
              "      <td>u889</td>\n",
              "      <td>u1</td>\n",
              "      <td>Pisuviricota</td>\n",
              "      <td>Pisoniviricetes</td>\n",
              "      <td>Nidovirales</td>\n",
              "      <td>Coronaviridae</td>\n",
              "      <td>Betacoronavirus</td>\n",
              "      <td>Severe acute respiratory syndrome-related coro...</td>\n",
              "      <td>+ssRNA</td>\n",
              "    </tr>\n",
              "    <tr>\n",
              "      <th>405</th>\n",
              "      <td>u9015</td>\n",
              "      <td>u1</td>\n",
              "      <td>Pisuviricota</td>\n",
              "      <td>Pisoniviricetes</td>\n",
              "      <td>Nidovirales</td>\n",
              "      <td>Coronaviridae</td>\n",
              "      <td>Betacoronavirus</td>\n",
              "      <td>Severe acute respiratory syndrome-related coro...</td>\n",
              "      <td>+ssRNA</td>\n",
              "    </tr>\n",
              "    <tr>\n",
              "      <th>406</th>\n",
              "      <td>u944</td>\n",
              "      <td>u1</td>\n",
              "      <td>Pisuviricota</td>\n",
              "      <td>Pisoniviricetes</td>\n",
              "      <td>Nidovirales</td>\n",
              "      <td>Coronaviridae</td>\n",
              "      <td>Betacoronavirus</td>\n",
              "      <td>Severe acute respiratory syndrome-related coro...</td>\n",
              "      <td>+ssRNA</td>\n",
              "    </tr>\n",
              "    <tr>\n",
              "      <th>407</th>\n",
              "      <td>u9771</td>\n",
              "      <td>u1</td>\n",
              "      <td>Pisuviricota</td>\n",
              "      <td>Pisoniviricetes</td>\n",
              "      <td>Nidovirales</td>\n",
              "      <td>Coronaviridae</td>\n",
              "      <td>Betacoronavirus</td>\n",
              "      <td>Severe acute respiratory syndrome-related coro...</td>\n",
              "      <td>+ssRNA</td>\n",
              "    </tr>\n",
              "    <tr>\n",
              "      <th>408</th>\n",
              "      <td>u992</td>\n",
              "      <td>u1</td>\n",
              "      <td>Pisuviricota</td>\n",
              "      <td>Pisoniviricetes</td>\n",
              "      <td>Nidovirales</td>\n",
              "      <td>Coronaviridae</td>\n",
              "      <td>Betacoronavirus</td>\n",
              "      <td>Severe acute respiratory syndrome-related coro...</td>\n",
              "      <td>+ssRNA</td>\n",
              "    </tr>\n",
              "  </tbody>\n",
              "</table>\n",
              "<p>409 rows × 9 columns</p>\n",
              "</div>\n",
              "    <div class=\"colab-df-buttons\">\n",
              "\n",
              "  <div class=\"colab-df-container\">\n",
              "    <button class=\"colab-df-convert\" onclick=\"convertToInteractive('df-1700a8ae-4c55-4fd4-b914-45198adf18a2')\"\n",
              "            title=\"Convert this dataframe to an interactive table.\"\n",
              "            style=\"display:none;\">\n",
              "\n",
              "  <svg xmlns=\"http://www.w3.org/2000/svg\" height=\"24px\" viewBox=\"0 -960 960 960\">\n",
              "    <path d=\"M120-120v-720h720v720H120Zm60-500h600v-160H180v160Zm220 220h160v-160H400v160Zm0 220h160v-160H400v160ZM180-400h160v-160H180v160Zm440 0h160v-160H620v160ZM180-180h160v-160H180v160Zm440 0h160v-160H620v160Z\"/>\n",
              "  </svg>\n",
              "    </button>\n",
              "\n",
              "  <style>\n",
              "    .colab-df-container {\n",
              "      display:flex;\n",
              "      gap: 12px;\n",
              "    }\n",
              "\n",
              "    .colab-df-convert {\n",
              "      background-color: #E8F0FE;\n",
              "      border: none;\n",
              "      border-radius: 50%;\n",
              "      cursor: pointer;\n",
              "      display: none;\n",
              "      fill: #1967D2;\n",
              "      height: 32px;\n",
              "      padding: 0 0 0 0;\n",
              "      width: 32px;\n",
              "    }\n",
              "\n",
              "    .colab-df-convert:hover {\n",
              "      background-color: #E2EBFA;\n",
              "      box-shadow: 0px 1px 2px rgba(60, 64, 67, 0.3), 0px 1px 3px 1px rgba(60, 64, 67, 0.15);\n",
              "      fill: #174EA6;\n",
              "    }\n",
              "\n",
              "    .colab-df-buttons div {\n",
              "      margin-bottom: 4px;\n",
              "    }\n",
              "\n",
              "    [theme=dark] .colab-df-convert {\n",
              "      background-color: #3B4455;\n",
              "      fill: #D2E3FC;\n",
              "    }\n",
              "\n",
              "    [theme=dark] .colab-df-convert:hover {\n",
              "      background-color: #434B5C;\n",
              "      box-shadow: 0px 1px 3px 1px rgba(0, 0, 0, 0.15);\n",
              "      filter: drop-shadow(0px 1px 2px rgba(0, 0, 0, 0.3));\n",
              "      fill: #FFFFFF;\n",
              "    }\n",
              "  </style>\n",
              "\n",
              "    <script>\n",
              "      const buttonEl =\n",
              "        document.querySelector('#df-1700a8ae-4c55-4fd4-b914-45198adf18a2 button.colab-df-convert');\n",
              "      buttonEl.style.display =\n",
              "        google.colab.kernel.accessAllowed ? 'block' : 'none';\n",
              "\n",
              "      async function convertToInteractive(key) {\n",
              "        const element = document.querySelector('#df-1700a8ae-4c55-4fd4-b914-45198adf18a2');\n",
              "        const dataTable =\n",
              "          await google.colab.kernel.invokeFunction('convertToInteractive',\n",
              "                                                    [key], {});\n",
              "        if (!dataTable) return;\n",
              "\n",
              "        const docLinkHtml = 'Like what you see? Visit the ' +\n",
              "          '<a target=\"_blank\" href=https://colab.research.google.com/notebooks/data_table.ipynb>data table notebook</a>'\n",
              "          + ' to learn more about interactive tables.';\n",
              "        element.innerHTML = '';\n",
              "        dataTable['output_type'] = 'display_data';\n",
              "        await google.colab.output.renderOutput(dataTable, element);\n",
              "        const docLink = document.createElement('div');\n",
              "        docLink.innerHTML = docLinkHtml;\n",
              "        element.appendChild(docLink);\n",
              "      }\n",
              "    </script>\n",
              "  </div>\n",
              "\n",
              "\n",
              "<div id=\"df-fad343d3-5d5d-4840-a491-c18bd01a264b\">\n",
              "  <button class=\"colab-df-quickchart\" onclick=\"quickchart('df-fad343d3-5d5d-4840-a491-c18bd01a264b')\"\n",
              "            title=\"Suggest charts\"\n",
              "            style=\"display:none;\">\n",
              "\n",
              "<svg xmlns=\"http://www.w3.org/2000/svg\" height=\"24px\"viewBox=\"0 0 24 24\"\n",
              "     width=\"24px\">\n",
              "    <g>\n",
              "        <path d=\"M19 3H5c-1.1 0-2 .9-2 2v14c0 1.1.9 2 2 2h14c1.1 0 2-.9 2-2V5c0-1.1-.9-2-2-2zM9 17H7v-7h2v7zm4 0h-2V7h2v10zm4 0h-2v-4h2v4z\"/>\n",
              "    </g>\n",
              "</svg>\n",
              "  </button>\n",
              "\n",
              "<style>\n",
              "  .colab-df-quickchart {\n",
              "      --bg-color: #E8F0FE;\n",
              "      --fill-color: #1967D2;\n",
              "      --hover-bg-color: #E2EBFA;\n",
              "      --hover-fill-color: #174EA6;\n",
              "      --disabled-fill-color: #AAA;\n",
              "      --disabled-bg-color: #DDD;\n",
              "  }\n",
              "\n",
              "  [theme=dark] .colab-df-quickchart {\n",
              "      --bg-color: #3B4455;\n",
              "      --fill-color: #D2E3FC;\n",
              "      --hover-bg-color: #434B5C;\n",
              "      --hover-fill-color: #FFFFFF;\n",
              "      --disabled-bg-color: #3B4455;\n",
              "      --disabled-fill-color: #666;\n",
              "  }\n",
              "\n",
              "  .colab-df-quickchart {\n",
              "    background-color: var(--bg-color);\n",
              "    border: none;\n",
              "    border-radius: 50%;\n",
              "    cursor: pointer;\n",
              "    display: none;\n",
              "    fill: var(--fill-color);\n",
              "    height: 32px;\n",
              "    padding: 0;\n",
              "    width: 32px;\n",
              "  }\n",
              "\n",
              "  .colab-df-quickchart:hover {\n",
              "    background-color: var(--hover-bg-color);\n",
              "    box-shadow: 0 1px 2px rgba(60, 64, 67, 0.3), 0 1px 3px 1px rgba(60, 64, 67, 0.15);\n",
              "    fill: var(--button-hover-fill-color);\n",
              "  }\n",
              "\n",
              "  .colab-df-quickchart-complete:disabled,\n",
              "  .colab-df-quickchart-complete:disabled:hover {\n",
              "    background-color: var(--disabled-bg-color);\n",
              "    fill: var(--disabled-fill-color);\n",
              "    box-shadow: none;\n",
              "  }\n",
              "\n",
              "  .colab-df-spinner {\n",
              "    border: 2px solid var(--fill-color);\n",
              "    border-color: transparent;\n",
              "    border-bottom-color: var(--fill-color);\n",
              "    animation:\n",
              "      spin 1s steps(1) infinite;\n",
              "  }\n",
              "\n",
              "  @keyframes spin {\n",
              "    0% {\n",
              "      border-color: transparent;\n",
              "      border-bottom-color: var(--fill-color);\n",
              "      border-left-color: var(--fill-color);\n",
              "    }\n",
              "    20% {\n",
              "      border-color: transparent;\n",
              "      border-left-color: var(--fill-color);\n",
              "      border-top-color: var(--fill-color);\n",
              "    }\n",
              "    30% {\n",
              "      border-color: transparent;\n",
              "      border-left-color: var(--fill-color);\n",
              "      border-top-color: var(--fill-color);\n",
              "      border-right-color: var(--fill-color);\n",
              "    }\n",
              "    40% {\n",
              "      border-color: transparent;\n",
              "      border-right-color: var(--fill-color);\n",
              "      border-top-color: var(--fill-color);\n",
              "    }\n",
              "    60% {\n",
              "      border-color: transparent;\n",
              "      border-right-color: var(--fill-color);\n",
              "    }\n",
              "    80% {\n",
              "      border-color: transparent;\n",
              "      border-right-color: var(--fill-color);\n",
              "      border-bottom-color: var(--fill-color);\n",
              "    }\n",
              "    90% {\n",
              "      border-color: transparent;\n",
              "      border-bottom-color: var(--fill-color);\n",
              "    }\n",
              "  }\n",
              "</style>\n",
              "\n",
              "  <script>\n",
              "    async function quickchart(key) {\n",
              "      const quickchartButtonEl =\n",
              "        document.querySelector('#' + key + ' button');\n",
              "      quickchartButtonEl.disabled = true;  // To prevent multiple clicks.\n",
              "      quickchartButtonEl.classList.add('colab-df-spinner');\n",
              "      try {\n",
              "        const charts = await google.colab.kernel.invokeFunction(\n",
              "            'suggestCharts', [key], {});\n",
              "      } catch (error) {\n",
              "        console.error('Error during call to suggestCharts:', error);\n",
              "      }\n",
              "      quickchartButtonEl.classList.remove('colab-df-spinner');\n",
              "      quickchartButtonEl.classList.add('colab-df-quickchart-complete');\n",
              "    }\n",
              "    (() => {\n",
              "      let quickchartButtonEl =\n",
              "        document.querySelector('#df-fad343d3-5d5d-4840-a491-c18bd01a264b button');\n",
              "      quickchartButtonEl.style.display =\n",
              "        google.colab.kernel.accessAllowed ? 'block' : 'none';\n",
              "    })();\n",
              "  </script>\n",
              "</div>\n",
              "\n",
              "    </div>\n",
              "  </div>\n"
            ],
            "application/vnd.google.colaboratory.intrinsic+json": {
              "type": "dataframe",
              "summary": "{\n  \"name\": \"tax_df[tax_df[\\\"species\\\"]\",\n  \"rows\": 409,\n  \"fields\": [\n    {\n      \"column\": \"ID\",\n      \"properties\": {\n        \"dtype\": \"string\",\n        \"num_unique_values\": 409,\n        \"samples\": [\n          \"u29204\",\n          \"u27794\",\n          \"u274796\"\n        ],\n        \"semantic_type\": \"\",\n        \"description\": \"\"\n      }\n    },\n    {\n      \"column\": \"rep_ID\",\n      \"properties\": {\n        \"dtype\": \"category\",\n        \"num_unique_values\": 1,\n        \"samples\": [\n          \"u1\"\n        ],\n        \"semantic_type\": \"\",\n        \"description\": \"\"\n      }\n    },\n    {\n      \"column\": \"phylum\",\n      \"properties\": {\n        \"dtype\": \"category\",\n        \"num_unique_values\": 1,\n        \"samples\": [\n          \"Pisuviricota\"\n        ],\n        \"semantic_type\": \"\",\n        \"description\": \"\"\n      }\n    },\n    {\n      \"column\": \"class\",\n      \"properties\": {\n        \"dtype\": \"category\",\n        \"num_unique_values\": 1,\n        \"samples\": [\n          \"Pisoniviricetes\"\n        ],\n        \"semantic_type\": \"\",\n        \"description\": \"\"\n      }\n    },\n    {\n      \"column\": \"order\",\n      \"properties\": {\n        \"dtype\": \"category\",\n        \"num_unique_values\": 1,\n        \"samples\": [\n          \"Nidovirales\"\n        ],\n        \"semantic_type\": \"\",\n        \"description\": \"\"\n      }\n    },\n    {\n      \"column\": \"family\",\n      \"properties\": {\n        \"dtype\": \"category\",\n        \"num_unique_values\": 1,\n        \"samples\": [\n          \"Coronaviridae\"\n        ],\n        \"semantic_type\": \"\",\n        \"description\": \"\"\n      }\n    },\n    {\n      \"column\": \"genus\",\n      \"properties\": {\n        \"dtype\": \"category\",\n        \"num_unique_values\": 1,\n        \"samples\": [\n          \"Betacoronavirus\"\n        ],\n        \"semantic_type\": \"\",\n        \"description\": \"\"\n      }\n    },\n    {\n      \"column\": \"species\",\n      \"properties\": {\n        \"dtype\": \"category\",\n        \"num_unique_values\": 1,\n        \"samples\": [\n          \"Severe acute respiratory syndrome-related coronavirus\"\n        ],\n        \"semantic_type\": \"\",\n        \"description\": \"\"\n      }\n    },\n    {\n      \"column\": \"strandedness\",\n      \"properties\": {\n        \"dtype\": \"category\",\n        \"num_unique_values\": 1,\n        \"samples\": [\n          \"+ssRNA\"\n        ],\n        \"semantic_type\": \"\",\n        \"description\": \"\"\n      }\n    }\n  ]\n}"
            }
          },
          "metadata": {},
          "execution_count": 12
        }
      ],
      "source": [
        "# Load the PalmDB virus ID to virus taxonomy mapping\n",
        "# Note: Only the rep_ID will occur in the reference index\n",
        "u_tax_csv = \"ID_to_taxonomy_mapping.csv\"\n",
        "tax_df = pd.read_csv(u_tax_csv)\n",
        "\n",
        "# Find the reference IDs for SARS-CoV proteins\n",
        "tax_df[tax_df[\"species\"].str.contains(\"Severe acute respiratory syndrome\")]"
      ]
    },
    {
      "cell_type": "code",
      "execution_count": 13,
      "id": "ee39163d-3f40-41fa-be8c-0b68ed7123b7",
      "metadata": {
        "id": "ee39163d-3f40-41fa-be8c-0b68ed7123b7",
        "colab": {
          "base_uri": "https://localhost:8080/",
          "height": 735
        },
        "outputId": "bb05914d-4f1e-4f90-8492-153919e54564"
      },
      "outputs": [
        {
          "output_type": "display_data",
          "data": {
            "text/plain": [
              "<Figure size 600x700 with 1 Axes>"
            ],
            "image/png": "[encoded data removed]"
          },
          "metadata": {
            "image/png": {
              "width": 560,
              "height": 718
            }
          }
        }
      ],
      "source": [
        "fig, ax = plt.subplots(figsize=(6, 7))\n",
        "fontsize = 16\n",
        "width = 0.75\n",
        "\n",
        "# Since these were bulk sequencing samples, adata.obs.index is equivalent to the samples (SRR) files that were aligned\n",
        "samples = np.sort(adata.obs.index.values)\n",
        "\n",
        "# These labels match the ordered sample list\n",
        "x_labels = ['Infected 1', 'Infected 2', 'Infected 3', 'Control 1', 'Control 2', 'Control 3']\n",
        "\n",
        "# Target virus IDs to plot (here, SARS-CoV)\n",
        "target_ids = tax_df[tax_df[\"species\"].str.contains(\"Severe acute respiratory syndrome-related coronavirus\")][\"rep_ID\"].unique()\n",
        "\n",
        "# Plot total raw counts\n",
        "counts = []\n",
        "labels = samples\n",
        "for sample in samples:\n",
        "    counts.append(adata.X[adata.obs.index == sample, adata.var.index.isin(target_ids)].sum())\n",
        "\n",
        "x = np.arange(len(labels))\n",
        "\n",
        "ax.bar(x, counts, width=width, color=\"#003049\", edgecolor=\"black\")\n",
        "\n",
        "ax.set_yscale(\"symlog\")\n",
        "ax.set_ylabel(\"kallisto (raw counts for SARS-CoV)\", fontsize=fontsize)\n",
        "# ax.set_xlabel(\"Sample\", fontsize=fontsize)\n",
        "\n",
        "ax.set_xticks(x, x_labels, rotation=45, ha=\"right\")\n",
        "\n",
        "ax.tick_params(axis=\"both\", labelsize=fontsize)\n",
        "ax.set_title(f\"SARS-CoV-2 infected human\\niPSC-derived cardiomyocytes\", fontsize=fontsize+2)\n",
        "\n",
        "ax.grid(True, which=\"both\", color=\"lightgray\", ls=\"--\", lw=1)\n",
        "ax.set_axisbelow(True)\n",
        "\n",
        "# Save figure\n",
        "plt.savefig(\"sars_cov_rdrp_count.png\", dpi=300, bbox_inches=\"tight\")\n",
        "\n",
        "fig.show()"
      ]
    },
    {
      "cell_type": "code",
      "source": [
        "counts"
      ],
      "metadata": {
        "id": "uonrQm_2dyGi",
        "colab": {
          "base_uri": "https://localhost:8080/"
        },
        "outputId": "0eb1a30c-6419-4cbd-95cf-eb0b33e6418d"
      },
      "id": "uonrQm_2dyGi",
      "execution_count": 14,
      "outputs": [
        {
          "output_type": "execute_result",
          "data": {
            "text/plain": [
              "[534.0, 836.0, 642.0, 0.0, 0.0, 0.0]"
            ]
          },
          "metadata": {},
          "execution_count": 14
        }
      ]
    },
    {
      "cell_type": "code",
      "execution_count": 14,
      "id": "416e45a5-03b8-46a2-a66e-8267eb468996",
      "metadata": {
        "id": "416e45a5-03b8-46a2-a66e-8267eb468996"
      },
      "outputs": [],
      "source": []
    }
  ],
  "metadata": {
    "kernelspec": {
      "display_name": "Python 3",
      "name": "python3"
    },
    "language_info": {
      "codemirror_mode": {
        "name": "ipython",
        "version": 3
      },
      "file_extension": ".py",
      "mimetype": "text/x-python",
      "name": "python",
      "nbconvert_exporter": "python",
      "pygments_lexer": "ipython3",
      "version": "3.9.12"
    },
    "colab": {
      "provenance": []
    }
  },
  "nbformat": 4,
  "nbformat_minor": 5
}
