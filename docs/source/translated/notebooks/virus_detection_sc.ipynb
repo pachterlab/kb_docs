{
  "cells": [
    {
      "cell_type": "markdown",
      "metadata": {
        "id": "view-in-github",
        "colab_type": "text"
      },
      "source": [
        "<a href=\"https://colab.research.google.com/github/pachterlab/kb_docs/blob/main/docs/source/translated/notebooks/virus_detection_sc.ipynb\" target=\"_parent\"><img src=\"https://colab.research.google.com/assets/colab-badge.svg\" alt=\"Open In Colab\"/></a>"
      ]
    },
    {
      "cell_type": "markdown",
      "metadata": {
        "id": "QJ4RRMMh5jrx"
      },
      "source": [
        "# Viral proteins in single-cell RNA seq data\n",
        "\n",
        "[Open in Google Colab](https://colab.research.google.com/github/pachterlab/kb_docs/blob/main/docs/source/translated/notebooks/virus_detection_sc.ipynb)\n",
        "\n",
        "In this tutorial, we will align single-cell RNA sequencing data collected from Dengue virus (DENV)-infected CEM.NK$^{R}$ cells as well as PBMC data collected from a patient suffering from DENV (during and after infection) to viral RdRP protein sequences. Let's see if we can detect DENV RdRP-like sequences as expected.\n",
        "  \n",
        "**Data references:**  \n",
        "RNA seq data:  \n",
        "https://www.nature.com/articles/s41598-020-65939-5  \n",
        "https://www.ncbi.nlm.nih.gov/Traces/study/?acc=PRJNA613041&o=acc_s%3Aa  \n",
        "PalmDB viral protein reference database:  \n",
        "https://www.nature.com/articles/s41586-021-04332-2  \n",
        "  \n",
        "Written by: Laura Luebbert (last updated: 11/13/2024)"
      ]
    },
    {
      "cell_type": "code",
      "execution_count": null,
      "metadata": {
        "id": "mgAUw-9v57ri"
      },
      "outputs": [],
      "source": [
        "# Number of threads to use during alignments\n",
        "threads = 2"
      ]
    },
    {
      "cell_type": "markdown",
      "metadata": {
        "id": "qUs7Ws2i57_P"
      },
      "source": [
        "## Install software"
      ]
    },
    {
      "cell_type": "code",
      "execution_count": null,
      "metadata": {
        "id": "Gtw_iwVw1HlG"
      },
      "outputs": [],
      "source": [
        "!pip install -q kb_python ffq gget anndata==0.10.9"
      ]
    },
    {
      "cell_type": "markdown",
      "metadata": {
        "id": "65h4VS7M4vMQ"
      },
      "source": [
        "## Download raw sequencing data\n",
        "Here, we will download the data from DENV1 infected CEM.NK^R cells (SRR11321027) and the uninfected control (SRR11321026) as well as PBMC data collected from a patient experiencing a DENV infection at fever day -2 (SRR11321526) and 180 (baseline post-infection) (SRR11321528):"
      ]
    },
    {
      "cell_type": "code",
      "execution_count": null,
      "metadata": {
        "id": "gpF91CmE4rGa"
      },
      "outputs": [],
      "source": [
        "import json\n",
        "\n",
        "## Get the FTP download links for raw data using ffq and store the results in a json file\n",
        "!ffq SRR11321027 SRR11321026 SRR11321526 SRR11321528 \\\n",
        "    --ftp \\\n",
        "    -o ffq.json\n",
        "\n",
        "## Load ffq output\n",
        "f = open(\"ffq.json\")\n",
        "data_json = json.load(f)\n",
        "f.close()\n",
        "\n",
        "## Download raw data using FTP links fetched by ffq\n",
        "# NOTE: To decrease the runtime and required disk space of this example notebook,\n",
        "# we will only download the first [gb_to_download] GB of each fastq file\n",
        "gb_to_download = 5\n",
        "\n",
        "# Convert GB to bytes\n",
        "max_bytes = gb_to_download * 1073741824\n",
        "# Download data\n",
        "for dataset in data_json:\n",
        "    url = dataset[\"url\"]\n",
        "    # (Remove the `-r 0-$max_bytes` argument to download the complete fastq files)\n",
        "    !curl -r 0-$max_bytes -O $url"
      ]
    },
    {
      "cell_type": "markdown",
      "metadata": {
        "id": "MAJynMPM5SM1"
      },
      "source": [
        "## Download the protein reference\n",
        "In this case, we are using an optimized version of the [PalmDB database](https://github.com/ababaian/palmdb). The database was optimized for the detection of viral proteins from RNA sequencing data as described in [this manuscript](https://www.biorxiv.org/content/10.1101/2023.12.11.571168) and the files are stored in the [accompanying repository](https://github.com/pachterlab/LSCHWCP_2023/tree/main)."
      ]
    },
    {
      "cell_type": "code",
      "execution_count": null,
      "metadata": {
        "id": "OQkmK3_A4ukY"
      },
      "outputs": [],
      "source": [
        "# Download the ID to taxonomy mapping\n",
        "!wget https://raw.githubusercontent.com/pachterlab/LSCHWCP_2023/main/PalmDB/ID_to_taxonomy_mapping.csv\n",
        "# Download the customized transcripts to gene mapping\n",
        "!wget https://raw.githubusercontent.com/pachterlab/LSCHWCP_2023/main/PalmDB/palmdb_clustered_t2g.txt\n",
        "# Download the RdRP amino acid sequences\n",
        "!wget https://raw.githubusercontent.com/pachterlab/LSCHWCP_2023/main/PalmDB/palmdb_rdrp_seqs.fa"
      ]
    },
    {
      "cell_type": "markdown",
      "metadata": {
        "id": "dkxnEJ_R5Wic"
      },
      "source": [
        "## Build a reference index from the viral protein sequences and mask host (here, human) sequences\n",
        "\n",
        "In addition to building a reference index from the protein sequences, we also want to mask host (in this case, human) sequences.\n",
        "\n",
        "Here, we are downloading a precomputed PalmDB reference index for use with `kb` in which the human genome and transcriptome were masked. You can find all available precomputed reference indeces [here](https://github.com/pachterlab/LSCHWCP_2023/tree/main/precomputed_refs)."
      ]
    },
    {
      "cell_type": "code",
      "execution_count": null,
      "metadata": {
        "id": "mbweBkX95V50"
      },
      "outputs": [],
      "source": [
        "# Download precomputed index with masked human genome and transcriptome\n",
        "!wget https://data.caltech.edu/records/sh33z-hrx98/files/palmdb_human_dlist_cdna_dna.idx?download=1\n",
        "!mv palmdb_human_dlist_cdna_dna.idx?download=1 palmdb_human_dlist_cdna_dna.idx"
      ]
    },
    {
      "cell_type": "markdown",
      "metadata": {
        "id": "IvBtruP75arB"
      },
      "source": [
        "**Alternatively, you can compute the PalmDB reference index yourself (and define a different host species):**\n",
        "\n",
        "The [`--aa` argument](https://kallisto.readthedocs.io/en/latest/translated/pseudoalignment.html) tells `kb` that this is an amino acid reference.\n",
        "\n",
        "The [`--d-list` argument](https://kallisto.readthedocs.io/en/latest/index/index_generation.html#the-d-list) is the path to the host genome/transcriptome. These sequences will be masked in the index. Here, we are using gget to fetch the latest human genome and transcriptome from Ensembl.\n",
        "\n",
        "We are using `--workflow custom` here since we do not have a .gtf file for the PalmDB fasta file.\n",
        "\n",
        "Building the index will take some time (~20 min), since the human genome is quite large."
      ]
    },
    {
      "cell_type": "code",
      "execution_count": null,
      "metadata": {
        "id": "UZHjX2Nk5bIg"
      },
      "outputs": [],
      "source": [
        "# # Build a PalmDB reference index and mask the human genome and transcriptome from scratch\n",
        "\n",
        "# # Download the human reference genome and transcriptome from Ensembl\n",
        "# # Replace 'homo_sapiens' here and the genome/transcriptome file names below if the host is a different species\n",
        "# !gget ref -w cdna,dna -d homo_sapiens\n",
        "\n",
        "# # Concatenate human genome and transcriptome into one file\n",
        "# !cat Homo_sapiens.GRCh38.cdna.all.fa.gz Homo_sapiens.GRCh38.dna.primary_assembly.fa.gz > Homo_sapiens.GRCh38.cdna_dna.fa.gz\n",
        "\n",
        "# %%time\n",
        "# !kb ref \\\n",
        "#   --workflow custom \\\n",
        "#   --aa \\\n",
        "#   --d-list Homo_sapiens.GRCh38.cdna_dna.fa.gz \\\n",
        "#   -t $threads \\\n",
        "#   -i palmdb_human_dlist_cdna_dna.idx \\\n",
        "#   palmdb_rdrp_seqs.fa"
      ]
    },
    {
      "cell_type": "markdown",
      "metadata": {
        "id": "32vGfz8A5ek8"
      },
      "source": [
        "## Align data using kallisto translated search"
      ]
    },
    {
      "cell_type": "markdown",
      "metadata": {
        "id": "4-jFMSkhRsG-"
      },
      "source": [
        "Create a batch.txt file so we can run all fastq files simultaneously (to learn more about batch files, see Box 7 in the [Protocols paper](https://www.biorxiv.org/content/10.1101/2023.11.21.568164v2.full.pdf)) (to keep track of which cell barcodes belonged to which SRR file, we will activate the `--batch-barcodes` option in the alignment step below):"
      ]
    },
    {
      "cell_type": "code",
      "source": [
        "%%time\n",
        "import numpy as np\n",
        "\n",
        "samples = [\n",
        "    'SRR11321526',\n",
        "    'SRR11321528',\n",
        "    'SRR11321027',\n",
        "    'SRR11321026'\n",
        "    ]\n",
        "\n",
        "# NOTE: To decrease the runtime of this example notebook,\n",
        "# we will only align the top [n_seq_to_keep] sequences in each fastq file\n",
        "n_seq_to_keep = 20000000\n",
        "print(f\"Number of reads kept per fastq file: {n_seq_to_keep:,}\")\n",
        "\n",
        "with open(\"batch.txt\", \"w\") as batch_file:\n",
        "  for sample in samples:\n",
        "    R1 = f\"/content/{sample}_1.fastq.gz\"\n",
        "    R2 = f\"/content/{sample}_2.fastq.gz\"\n",
        "\n",
        "    # Shorten fastq files (skip this step during a real analysis)\n",
        "    n_rows_to_keep = n_seq_to_keep * 4\n",
        "    R1_short = R1.split(\".fastq.gz\")[0] + \"_short.fastq\"\n",
        "    R2_short = R2.split(\".fastq.gz\")[0] + \"_short.fastq\"\n",
        "    !zcat $R1 | head -$n_rows_to_keep > $R1_short && gzip $R1_short\n",
        "    !zcat $R2 | head -$n_rows_to_keep > $R2_short && gzip $R2_short\n",
        "\n",
        "    # Write batch file in the following format:\n",
        "    # sample_name \\t R1_filepath \\t R2_filepath\n",
        "    batch_file.write(sample + \"\\t\" + R1_short + \".gz\" + \"\\t\" + R2_short + \".gz\" + \"\\n\")"
      ],
      "metadata": {
        "id": "2AvXxtpVPXQn"
      },
      "execution_count": null,
      "outputs": []
    },
    {
      "cell_type": "markdown",
      "metadata": {
        "id": "c3U4P5S9Ruwd"
      },
      "source": [
        "#### Align fastqs using kallisto translated search:  \n",
        "The [`-x` argument](https://kallisto.readthedocs.io/en/latest/sc/technologies.html) tells `kb` where to find the barcodes and UMIs in the data. Here, we set it to `10xv2` because this data was generated \"using the Chromium Single-Cell 5′ Reagent version 2 kit.\""
      ]
    },
    {
      "cell_type": "code",
      "execution_count": null,
      "metadata": {
        "id": "rBYMNRyB5c_p"
      },
      "outputs": [],
      "source": [
        "%%time\n",
        "\n",
        "!kb count \\\n",
        "    --verbose \\\n",
        "    --aa \\\n",
        "    -x 10xv2 \\\n",
        "    -t $threads \\\n",
        "    -i palmdb_human_dlist_cdna_dna.idx \\\n",
        "    -g palmdb_clustered_t2g.txt \\\n",
        "    --h5ad \\\n",
        "    -o kb_output \\\n",
        "    --batch-barcodes \\\n",
        "    batch.txt"
      ]
    },
    {
      "cell_type": "markdown",
      "metadata": {
        "id": "GbDSsHhAflCV"
      },
      "source": [
        "## Load the generated count matrix"
      ]
    },
    {
      "cell_type": "code",
      "execution_count": null,
      "metadata": {
        "id": "YZ6-jEGrfkYZ"
      },
      "outputs": [],
      "source": [
        "import anndata\n",
        "import numpy as np\n",
        "import pandas as pd\n",
        "import os\n",
        "import matplotlib.pyplot as plt\n",
        "import matplotlib.colors\n",
        "%config InlineBackend.figure_format='retina'\n",
        "\n",
        "def nd(arr):\n",
        "    \"\"\"\n",
        "    Function to transform numpy matrix to nd array.\n",
        "    \"\"\"\n",
        "    return np.asarray(arr).reshape(-1)"
      ]
    },
    {
      "cell_type": "code",
      "execution_count": null,
      "metadata": {
        "id": "kFJxX2zHfqdX"
      },
      "outputs": [],
      "source": [
        "# Open count matrix (AnnData object in h5ad format)\n",
        "adata = anndata.read_h5ad(\"kb_output/counts_unfiltered/adata.h5ad\")\n",
        "adata"
      ]
    },
    {
      "cell_type": "code",
      "execution_count": null,
      "metadata": {
        "id": "AuvxCcPAIzwS"
      },
      "outputs": [],
      "source": [
        "# 'barcode' here includes batch/sample barcode (first 16 characters) + cell barcode\n",
        "adata.obs"
      ]
    },
    {
      "cell_type": "markdown",
      "metadata": {
        "id": "9nizoS6gJ-br"
      },
      "source": [
        "Add column showing which SRR file each cell came from using the sample barcodes:"
      ]
    },
    {
      "cell_type": "code",
      "execution_count": null,
      "metadata": {
        "id": "sgJJzhNbjeOb"
      },
      "outputs": [],
      "source": [
        "# Load the sample/batch barcodes\n",
        "b_file = open(\"kb_output/matrix.sample.barcodes\")\n",
        "barcodes = b_file.read().splitlines()\n",
        "b_file.close()\n",
        "\n",
        "# Load the sample/batch names\n",
        "s_file = open(\"kb_output/matrix.cells\")\n",
        "samples = s_file.read().splitlines()\n",
        "s_file.close()\n",
        "\n",
        "# Create dataframe that maps sample barcodes to sample names\n",
        "bc2sample_df = pd.DataFrame()\n",
        "bc2sample_df[\"sample_barcode\"] = barcodes\n",
        "bc2sample_df[\"srr\"] = samples\n",
        "\n",
        "# Add sample name to AnnData object\n",
        "adata.obs[\"barcode\"] = adata.obs.index.values\n",
        "adata.obs[\"sample_barcode\"] = [bc[:-16] for bc in adata.obs.index.values]\n",
        "adata.obs[\"cell_barcode\"] = [bc[-16:] for bc in adata.obs.index.values]\n",
        "adata.obs = adata.obs.merge(bc2sample_df, on=\"sample_barcode\", how=\"left\").set_index(\"cell_barcode\", drop=False)\n",
        "adata.obs"
      ]
    },
    {
      "cell_type": "markdown",
      "metadata": {
        "id": "op9ug7dweqrn"
      },
      "source": [
        "## Plot counts for Dengue virus (DENV) in each sample"
      ]
    },
    {
      "cell_type": "code",
      "execution_count": null,
      "metadata": {
        "id": "3DEvs9O1cWZv"
      },
      "outputs": [],
      "source": [
        "# Load the PalmDB virus ID to virus taxonomy mapping\n",
        "u_tax_csv = \"ID_to_taxonomy_mapping.csv\"\n",
        "tax_df = pd.read_csv(u_tax_csv)\n",
        "\n",
        "# Find the reference IDs for Dengue virus RdRPs\n",
        "# Note: Only the rep_ID (representative ID) will occur in the count matrix\n",
        "tax_df[tax_df[\"species\"].str.contains(\"Dengue virus\")]"
      ]
    },
    {
      "cell_type": "markdown",
      "metadata": {
        "id": "6odi5dNHju6_"
      },
      "source": [
        "Create bar plot showing raw counts for DENV:"
      ]
    },
    {
      "cell_type": "code",
      "execution_count": null,
      "metadata": {
        "id": "f4hZ8fXSeshE"
      },
      "outputs": [],
      "source": [
        "fig, ax = plt.subplots(figsize=(6, 7))\n",
        "fontsize = 16\n",
        "width = 0.75\n",
        "\n",
        "samples = [\n",
        "    'SRR11321526',\n",
        "    'SRR11321528',\n",
        "    'SRR11321027',\n",
        "    'SRR11321026'\n",
        "    ]\n",
        "\n",
        "# Label corresponding to each SRR library (samples)\n",
        "x_labels = [\n",
        "    'Patient PBMC\\n(fever day -2)',\n",
        "    'Patient PBMC\\n(post-infection control)',\n",
        "    'DENV-infected CEM.NK$^R$',\n",
        "    'Uninfected\\nControl (CEM.NK$^R$)'\n",
        "    ]\n",
        "\n",
        "# Target virus IDs to plot (here, Dengue virus)\n",
        "target_virus = \"Dengue virus\"\n",
        "target_ids = tax_df[tax_df[\"species\"].str.contains(target_virus)][\"rep_ID\"].unique()\n",
        "\n",
        "counts = []\n",
        "labels = samples\n",
        "for sample in samples:\n",
        "    counts.append(adata.X[adata.obs[\"srr\"].str.contains(sample), adata.var.index.isin(target_ids)].sum())\n",
        "\n",
        "x = np.arange(len(labels))\n",
        "\n",
        "ax.bar(x, counts, width=width, color=\"#003049\", edgecolor=\"black\")\n",
        "\n",
        "ax.set_yscale(\"symlog\")\n",
        "ax.set_ylabel(\"kallisto (raw counts for Dengue virus)\", fontsize=fontsize)\n",
        "# ax.set_xlabel(\"Sample\", fontsize=fontsize)\n",
        "\n",
        "ax.set_xticks(x, x_labels, rotation=45, ha=\"right\")\n",
        "\n",
        "ax.tick_params(axis=\"both\", labelsize=fontsize)\n",
        "\n",
        "ax.grid(True, which=\"both\", color=\"lightgray\", ls=\"--\", lw=1)\n",
        "ax.set_axisbelow(True)\n",
        "\n",
        "# Save figure\n",
        "plt.savefig(\"denv_rdrp_count.png\", dpi=300, bbox_inches=\"tight\")\n",
        "\n",
        "fig.show()"
      ]
    },
    {
      "cell_type": "code",
      "execution_count": null,
      "metadata": {
        "id": "C4ICRE-1lPtn"
      },
      "outputs": [],
      "source": [
        "# These counts are low since we only aligned a small subset of the data\n",
        "counts"
      ]
    },
    {
      "cell_type": "code",
      "execution_count": null,
      "metadata": {
        "id": "x8lisCHssgV_"
      },
      "outputs": [],
      "source": []
    }
  ],
  "metadata": {
    "colab": {
      "provenance": [],
      "machine_shape": "hm",
      "authorship_tag": "ABX9TyOLI3dvVKGT13uccyazLKRU",
      "include_colab_link": true
    },
    "kernelspec": {
      "display_name": "Python 3",
      "name": "python3"
    },
    "language_info": {
      "name": "python"
    }
  },
  "nbformat": 4,
  "nbformat_minor": 0
}