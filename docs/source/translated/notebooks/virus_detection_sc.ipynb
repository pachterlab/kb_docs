{
  "cells": [
    {
      "cell_type": "markdown",
      "metadata": {
        "id": "view-in-github",
        "colab_type": "text"
      },
      "source": [
        "<a href=\"https://colab.research.google.com/github/pachterlab/kb_docs/blob/main/docs/source/translated/notebooks/virus_detection_sc.ipynb\" target=\"_parent\"><img src=\"https://colab.research.google.com/assets/colab-badge.svg\" alt=\"Open In Colab\"/></a>"
      ]
    },
    {
      "cell_type": "markdown",
      "metadata": {
        "id": "QJ4RRMMh5jrx"
      },
      "source": [
        "# Viral proteins in single-cell RNA seq data\n",
        "\n",
        "[Open in Google Colab](https://colab.research.google.com/github/pachterlab/kb_docs/blob/main/docs/source/translated/notebooks/virus_detection_sc.ipynb)\n",
        "\n",
        "In this tutorial, we will align single-cell RNA sequencing data collected from Dengue virus (DENV)-infected CEM.NK$^{R}$ cells as well as PBMC data collected from a patient suffering from DENV (during and after infection) to viral RdRP protein sequences. Let's see if we can detect DENV RdRP-like sequences as expected.\n",
        "  \n",
        "**Data references:**  \n",
        "RNA seq data:  \n",
        "https://www.nature.com/articles/s41598-020-65939-5  \n",
        "https://www.ncbi.nlm.nih.gov/Traces/study/?acc=PRJNA613041&o=acc_s%3Aa  \n",
        "PalmDB viral protein reference database:  \n",
        "https://www.nature.com/articles/s41586-021-04332-2  \n",
        "  \n",
        "Written by: Laura Luebbert (last updated: 11/06/2024)"
      ]
    },
    {
      "cell_type": "code",
      "execution_count": 1,
      "metadata": {
        "id": "mgAUw-9v57ri"
      },
      "outputs": [],
      "source": [
        "# Number of threads to use during alignments\n",
        "threads = 2"
      ]
    },
    {
      "cell_type": "markdown",
      "metadata": {
        "id": "qUs7Ws2i57_P"
      },
      "source": [
        "## Install software"
      ]
    },
    {
      "cell_type": "code",
      "execution_count": 2,
      "metadata": {
        "colab": {
          "base_uri": "https://localhost:8080/"
        },
        "id": "Gtw_iwVw1HlG",
        "outputId": "58da4b18-f4eb-4535-d224-56b5ae24bba1"
      },
      "outputs": [
        {
          "output_type": "stream",
          "name": "stdout",
          "text": [
            "\u001b[2K     \u001b[90m━━━━━━━━━━━━━━━━━━━━━━━━━━━━━━━━━━━━━━━━\u001b[0m \u001b[32m4.8/4.8 MB\u001b[0m \u001b[31m15.6 MB/s\u001b[0m eta \u001b[36m0:00:00\u001b[0m\n",
            "\u001b[?25h  Preparing metadata (setup.py) ... \u001b[?25l\u001b[?25hdone\n",
            "  Preparing metadata (setup.py) ... \u001b[?25l\u001b[?25hdone\n",
            "\u001b[2K   \u001b[90m━━━━━━━━━━━━━━━━━━━━━━━━━━━━━━━━━━━━━━━━\u001b[0m \u001b[32m36.5/36.5 MB\u001b[0m \u001b[31m17.4 MB/s\u001b[0m eta \u001b[36m0:00:00\u001b[0m\n",
            "\u001b[2K   \u001b[90m━━━━━━━━━━━━━━━━━━━━━━━━━━━━━━━━━━━━━━━━\u001b[0m \u001b[32m43.1/43.1 MB\u001b[0m \u001b[31m13.2 MB/s\u001b[0m eta \u001b[36m0:00:00\u001b[0m\n",
            "\u001b[2K   \u001b[90m━━━━━━━━━━━━━━━━━━━━━━━━━━━━━━━━━━━━━━━━\u001b[0m \u001b[32m129.0/129.0 kB\u001b[0m \u001b[31m7.6 MB/s\u001b[0m eta \u001b[36m0:00:00\u001b[0m\n",
            "\u001b[2K   \u001b[90m━━━━━━━━━━━━━━━━━━━━━━━━━━━━━━━━━━━━━━━━\u001b[0m \u001b[32m3.2/3.2 MB\u001b[0m \u001b[31m53.6 MB/s\u001b[0m eta \u001b[36m0:00:00\u001b[0m\n",
            "\u001b[2K   \u001b[90m━━━━━━━━━━━━━━━━━━━━━━━━━━━━━━━━━━━━━━━━\u001b[0m \u001b[32m34.4/34.4 MB\u001b[0m \u001b[31m6.6 MB/s\u001b[0m eta \u001b[36m0:00:00\u001b[0m\n",
            "\u001b[2K   \u001b[90m━━━━━━━━━━━━━━━━━━━━━━━━━━━━━━━━━━━━━━━━\u001b[0m \u001b[32m50.9/50.9 MB\u001b[0m \u001b[31m6.4 MB/s\u001b[0m eta \u001b[36m0:00:00\u001b[0m\n",
            "\u001b[2K   \u001b[90m━━━━━━━━━━━━━━━━━━━━━━━━━━━━━━━━━━━━━━━━\u001b[0m \u001b[32m2.1/2.1 MB\u001b[0m \u001b[31m17.4 MB/s\u001b[0m eta \u001b[36m0:00:00\u001b[0m\n",
            "\u001b[2K   \u001b[90m━━━━━━━━━━━━━━━━━━━━━━━━━━━━━━━━━━━━━━━━\u001b[0m \u001b[32m50.1/50.1 kB\u001b[0m \u001b[31m1.5 MB/s\u001b[0m eta \u001b[36m0:00:00\u001b[0m\n",
            "\u001b[2K   \u001b[90m━━━━━━━━━━━━━━━━━━━━━━━━━━━━━━━━━━━━━━━━\u001b[0m \u001b[32m1.6/1.6 MB\u001b[0m \u001b[31m19.0 MB/s\u001b[0m eta \u001b[36m0:00:00\u001b[0m\n",
            "\u001b[2K   \u001b[90m━━━━━━━━━━━━━━━━━━━━━━━━━━━━━━━━━━━━━━━━\u001b[0m \u001b[32m56.9/56.9 kB\u001b[0m \u001b[31m2.9 MB/s\u001b[0m eta \u001b[36m0:00:00\u001b[0m\n",
            "\u001b[2K   \u001b[90m━━━━━━━━━━━━━━━━━━━━━━━━━━━━━━━━━━━━━━━━\u001b[0m \u001b[32m22.0/22.0 MB\u001b[0m \u001b[31m14.7 MB/s\u001b[0m eta \u001b[36m0:00:00\u001b[0m\n",
            "\u001b[2K   \u001b[90m━━━━━━━━━━━━━━━━━━━━━━━━━━━━━━━━━━━━━━━━\u001b[0m \u001b[32m88.8/88.8 kB\u001b[0m \u001b[31m5.2 MB/s\u001b[0m eta \u001b[36m0:00:00\u001b[0m\n",
            "\u001b[2K   \u001b[90m━━━━━━━━━━━━━━━━━━━━━━━━━━━━━━━━━━━━━━━━\u001b[0m \u001b[32m40.6/40.6 kB\u001b[0m \u001b[31m1.8 MB/s\u001b[0m eta \u001b[36m0:00:00\u001b[0m\n",
            "\u001b[2K   \u001b[90m━━━━━━━━━━━━━━━━━━━━━━━━━━━━━━━━━━━━━━━━\u001b[0m \u001b[32m83.6/83.6 kB\u001b[0m \u001b[31m3.4 MB/s\u001b[0m eta \u001b[36m0:00:00\u001b[0m\n",
            "\u001b[?25h  Building wheel for loompy (setup.py) ... \u001b[?25l\u001b[?25hdone\n",
            "  Building wheel for session-info (setup.py) ... \u001b[?25l\u001b[?25hdone\n"
          ]
        }
      ],
      "source": [
        "!pip install -q kb_python ffq gget"
      ]
    },
    {
      "cell_type": "markdown",
      "metadata": {
        "id": "65h4VS7M4vMQ"
      },
      "source": [
        "## Download raw sequencing data"
      ]
    },
    {
      "cell_type": "code",
      "execution_count": null,
      "metadata": {
        "colab": {
          "base_uri": "https://localhost:8080/"
        },
        "id": "gpF91CmE4rGa",
        "outputId": "5674ee39-e17d-4f2b-f6ce-f94038413cf7"
      },
      "outputs": [
        {
          "output_type": "stream",
          "name": "stdout",
          "text": [
            "[2024-11-06 20:59:30,901]    INFO Parsing run SRR11321027\n",
            "[2024-11-06 20:59:32,568]    INFO Parsing run SRR11321026\n",
            "[2024-11-06 20:59:33,994]    INFO Parsing run SRR11321527\n",
            "[2024-11-06 20:59:35,379]    INFO Parsing run SRR11321526\n",
            "[2024-11-06 20:59:36,787]    INFO Parsing run SRR11321528\n",
            "  % Total    % Received % Xferd  Average Speed   Time    Time     Time  Current\n",
            "                                 Dload  Upload   Total   Spent    Left  Speed\n",
            " 42 28.1G   42 11.9G    0     0  35.5M      0  0:13:28  0:05:45  0:07:43 45.3M"
          ]
        }
      ],
      "source": [
        "import json\n",
        "import glob\n",
        "\n",
        "# Get the FTP download links for raw data using ffq and store the results in a json file\n",
        "# Here, we will download the data from DENV1 infected CEM.NK^R cells (SRR11321027) and the uninfected control (SRR11321026)\n",
        "# as well as PBMC data collected from a patient experiencing a DENV infection at fever day -1 (SRR11321527) and -2 (SRR11321526) and 180 (baseline post-infection) (SRR11321528)\n",
        "!ffq SRR11321027 SRR11321026 SRR11321527 SRR11321526 SRR11321528 \\\n",
        "    --ftp \\\n",
        "    -o ffq.json\n",
        "\n",
        "# Load ffq output\n",
        "f = open(\"ffq.json\")\n",
        "data_json = json.load(f)\n",
        "f.close()\n",
        "\n",
        "# Download raw data using FTP links fetched by ffq\n",
        "for dataset in data_json:\n",
        "    url = dataset[\"url\"]\n",
        "    !curl -O $url"
      ]
    },
    {
      "cell_type": "markdown",
      "metadata": {
        "id": "MAJynMPM5SM1"
      },
      "source": [
        "## Download the protein reference\n",
        "In this case, we are using an optimized version of the [PalmDB database](https://github.com/ababaian/palmdb). The database was optimized for the detection of viral proteins from RNA sequencing data as described in [this manuscript](https://www.biorxiv.org/content/10.1101/2023.12.11.571168) and the files are stored in the [accompanying repository](https://github.com/pachterlab/LSCHWCP_2023/tree/main)."
      ]
    },
    {
      "cell_type": "code",
      "execution_count": null,
      "metadata": {
        "id": "OQkmK3_A4ukY"
      },
      "outputs": [],
      "source": [
        "# Download the ID to taxonomy mapping\n",
        "!wget https://raw.githubusercontent.com/pachterlab/LSCHWCP_2023/main/PalmDB/ID_to_taxonomy_mapping.csv\n",
        "# Download the customized transcripts to gene mapping\n",
        "!wget https://raw.githubusercontent.com/pachterlab/LSCHWCP_2023/main/PalmDB/palmdb_clustered_t2g.txt\n",
        "# Download the RdRP amino acid sequences\n",
        "!wget https://raw.githubusercontent.com/pachterlab/LSCHWCP_2023/main/PalmDB/palmdb_rdrp_seqs.fa"
      ]
    },
    {
      "cell_type": "markdown",
      "metadata": {
        "id": "dkxnEJ_R5Wic"
      },
      "source": [
        "## Build a reference index from the viral protein sequences and mask host (here, human) sequences\n",
        "\n",
        "In addition to building a reference index from the protein sequences, we also want to mask host (in this case, human) sequences.\n",
        "\n",
        "Here, we are downloading a precomputed PalmDB reference index for use with `kb` in which the human genome and transcriptome were masked. You can find all available precomputed reference indeces [here](https://github.com/pachterlab/LSCHWCP_2023/tree/main/precomputed_refs)."
      ]
    },
    {
      "cell_type": "code",
      "execution_count": null,
      "metadata": {
        "id": "mbweBkX95V50"
      },
      "outputs": [],
      "source": [
        "# Download precomputed index with masked human genome and transcriptome\n",
        "!wget https://data.caltech.edu/records/sh33z-hrx98/files/palmdb_human_dlist_cdna_dna.idx?download=1\n",
        "!mv palmdb_human_dlist_cdna_dna.idx?download=1 palmdb_human_dlist_cdna_dna.idx"
      ]
    },
    {
      "cell_type": "markdown",
      "metadata": {
        "id": "IvBtruP75arB"
      },
      "source": [
        "**Alternatively, you can compute the PalmDB reference index yourself (and define a different host species):**\n",
        "\n",
        "The [`--aa` argument](https://kallisto.readthedocs.io/en/latest/translated/pseudoalignment.html) tells `kb` that this is an amino acid reference.\n",
        "\n",
        "The [`--d-list` argument](https://kallisto.readthedocs.io/en/latest/index/index_generation.html#the-d-list) is the path to the host genome/transcriptome. These sequences will be masked in the index. Here, we are using gget to fetch the latest human genome and transcriptome from Ensembl.\n",
        "\n",
        "We are using `--workflow custom` here since we do not have a .gtf file for the PalmDB fasta file.\n",
        "\n",
        "Building the index will take some time (~20 min), since the human genome is quite large."
      ]
    },
    {
      "cell_type": "code",
      "execution_count": null,
      "metadata": {
        "id": "UZHjX2Nk5bIg"
      },
      "outputs": [],
      "source": [
        "# # Build a PalmDB reference index and mask the human genome and transcriptome from scratch\n",
        "\n",
        "# # Download the human reference genome and transcriptome from Ensembl\n",
        "# # Replace 'homo_sapiens' here and the genome/transcriptome file names below if the host is a different species\n",
        "# !gget ref -w cdna,dna -d homo_sapiens\n",
        "\n",
        "# # Concatenate human genome and transcriptome into one file\n",
        "# !cat Homo_sapiens.GRCh38.cdna.all.fa.gz Homo_sapiens.GRCh38.dna.primary_assembly.fa.gz > Homo_sapiens.GRCh38.cdna_dna.fa.gz\n",
        "\n",
        "# %%time\n",
        "# !kb ref \\\n",
        "#   --workflow custom \\\n",
        "#   --aa \\\n",
        "#   --d-list Homo_sapiens.GRCh38.cdna_dna.fa.gz \\\n",
        "#   -t $threads \\\n",
        "#   -i palmdb_human_dlist_cdna_dna.idx \\\n",
        "#   palmdb_rdrp_seqs.fa"
      ]
    },
    {
      "cell_type": "markdown",
      "metadata": {
        "id": "32vGfz8A5ek8"
      },
      "source": [
        "## Align data using kallisto translated search"
      ]
    },
    {
      "cell_type": "markdown",
      "metadata": {
        "id": "4-jFMSkhRsG-"
      },
      "source": [
        "Create a batch file so we can run all fastq files simultaneously (to learn more about batch files, see Box 7 in the [Protocols paper](https://www.biorxiv.org/content/10.1101/2023.11.21.568164v2.full.pdf)) (to keep track of which cell barcodes belonged to which SRR file, we will activate the `--batch-barcodes` option in the alignment step below):"
      ]
    },
    {
      "cell_type": "code",
      "execution_count": null,
      "metadata": {
        "id": "fKX1tBnBRqM4"
      },
      "outputs": [],
      "source": [
        "import numpy as np\n",
        "\n",
        "# To decrease the runtime of this example tutorial,\n",
        "# we will only align the top [n_seq_to_keep] sequences in each fastq file\n",
        "n_seq_to_keep = 10000000\n",
        "\n",
        "with open(\"batch.txt\", \"w\") as batch_file:\n",
        "  for filename in np.sort(glob.glob(\"*.fastq.gz\")):\n",
        "    # Shorten fastq (only keep top [n_seq_to_keep] reads)\n",
        "    n_rows_to_keep = n_seq_to_keep * 4\n",
        "    filename_short = filename.split(\".fastq.gz\")[0] + \"_short.fastq\"\n",
        "    !zcat $filename | head -$n_rows_to_keep > $filename_short\n",
        "\n",
        "    # Write batch.txt file\n",
        "    sample_name = filename.split(\"/\")[-1].split(\".\")[0]\n",
        "    batch_file.write(sample_name + \"\\t\" +  filename_short + \"\\n\")"
      ]
    },
    {
      "cell_type": "markdown",
      "metadata": {
        "id": "c3U4P5S9Ruwd"
      },
      "source": [
        "Align fastqs using kallisto translated search:  \n",
        "The [`-x` argument](https://kallisto.readthedocs.io/en/latest/sc/technologies.html) tells `kb` where to find the barcodes and UMIs in the data. Here, we set it to `10xv2` because this data was generated \"using the Chromium Single-Cell 5′ Reagent version 2 kit.\""
      ]
    },
    {
      "cell_type": "code",
      "execution_count": null,
      "metadata": {
        "id": "rBYMNRyB5c_p"
      },
      "outputs": [],
      "source": [
        "%%time\n",
        "\n",
        "!kb count \\\n",
        "    --aa \\\n",
        "    -x 10xv2 \\\n",
        "    -t $threads \\\n",
        "    -i palmdb_human_dlist_cdna_dna.idx \\\n",
        "    -g palmdb_clustered_t2g.txt \\\n",
        "    --h5ad \\\n",
        "    -o kb_output \\\n",
        "    --batch-barcodes \\\n",
        "    batch.txt"
      ]
    },
    {
      "cell_type": "markdown",
      "source": [
        "# Load the generated count matrix"
      ],
      "metadata": {
        "id": "GbDSsHhAflCV"
      }
    },
    {
      "cell_type": "code",
      "source": [
        "!pip install -q kb_python\n",
        "\n",
        "import anndata\n",
        "import numpy as np\n",
        "import pandas as pd\n",
        "import os\n",
        "import matplotlib.pyplot as plt\n",
        "import matplotlib.colors\n",
        "%config InlineBackend.figure_format='retina'\n",
        "\n",
        "def nd(arr):\n",
        "    \"\"\"\n",
        "    Function to transform numpy matrix to nd array.\n",
        "    \"\"\"\n",
        "    return np.asarray(arr).reshape(-1)"
      ],
      "metadata": {
        "id": "YZ6-jEGrfkYZ"
      },
      "execution_count": null,
      "outputs": []
    },
    {
      "cell_type": "code",
      "source": [
        "# Open count matrix (AnnData object in h5ad format)\n",
        "# adata = anndata.read_h5ad(\"kb_output/counts_unfiltered/adata.h5ad\")\n",
        "adata = anndata.read_h5ad(\"counts_unfiltered/adata.h5ad\")\n",
        "adata"
      ],
      "metadata": {
        "id": "kFJxX2zHfqdX"
      },
      "execution_count": null,
      "outputs": []
    },
    {
      "cell_type": "code",
      "source": [
        "# 'barcode' here includes batch/sample barcode (first 16 characters) + cell barcode\n",
        "adata.obs"
      ],
      "metadata": {
        "id": "AuvxCcPAIzwS"
      },
      "execution_count": null,
      "outputs": []
    },
    {
      "cell_type": "markdown",
      "source": [
        "Add column showing which SRR file each cell came from using the sample barcodes:"
      ],
      "metadata": {
        "id": "9nizoS6gJ-br"
      }
    },
    {
      "cell_type": "code",
      "source": [
        "# Load the sample/batch barcodes\n",
        "# b_file = open(\"kb_output/matrix.sample.barcodes\")\n",
        "b_file = open(\"matrix.sample.barcodes\")\n",
        "barcodes = b_file.read().splitlines()\n",
        "b_file.close()\n",
        "\n",
        "# Load the sample/batch names\n",
        "# s_file = open(\"kb_output/matrix.cells\")\n",
        "s_file = open(\"matrix.cells\")\n",
        "samples = s_file.read().splitlines()\n",
        "s_file.close()\n",
        "\n",
        "# Create dataframe that maps sample barcodes to sample names\n",
        "bc2sample_df = pd.DataFrame()\n",
        "bc2sample_df[\"sample_barcode\"] = barcodes\n",
        "bc2sample_df[\"srr\"] = samples\n",
        "\n",
        "# Add sample name to AnnData object\n",
        "adata.obs[\"barcode\"] = adata.obs.index.values\n",
        "adata.obs[\"sample_barcode\"] = [bc[:-16] for bc in adata.obs.index.values]\n",
        "adata.obs[\"cell_barcode\"] = [bc[-16:] for bc in adata.obs.index.values]\n",
        "adata.obs = adata.obs.merge(bc2sample_df, on=\"sample_barcode\", how=\"left\").set_index(\"cell_barcode\", drop=False)\n",
        "adata.obs"
      ],
      "metadata": {
        "id": "sgJJzhNbjeOb"
      },
      "execution_count": null,
      "outputs": []
    },
    {
      "cell_type": "markdown",
      "source": [
        "# Plot counts for Dengue virus (DENV) in each sample"
      ],
      "metadata": {
        "id": "op9ug7dweqrn"
      }
    },
    {
      "cell_type": "code",
      "source": [
        "# Load the PalmDB virus ID to virus taxonomy mapping\n",
        "u_tax_csv = \"ID_to_taxonomy_mapping.csv\"\n",
        "tax_df = pd.read_csv(u_tax_csv)\n",
        "\n",
        "# Find the reference IDs for Dengue virus RdRPs\n",
        "# Note: Only the rep_ID (representative ID) will occur in the count matrix\n",
        "tax_df[tax_df[\"species\"].str.contains(\"Dengue virus\")]"
      ],
      "metadata": {
        "id": "3DEvs9O1cWZv"
      },
      "execution_count": null,
      "outputs": []
    },
    {
      "cell_type": "markdown",
      "source": [
        "Create bar plot showing raw counts for DENV:"
      ],
      "metadata": {
        "id": "6odi5dNHju6_"
      }
    },
    {
      "cell_type": "code",
      "source": [
        "fig, ax = plt.subplots(figsize=(6, 7))\n",
        "fontsize = 16\n",
        "width = 0.75\n",
        "\n",
        "samples = [\n",
        "    'SRR11321527',\n",
        "    'SRR11321526',\n",
        "    'SRR11321528',\n",
        "    'SRR11321027',\n",
        "    'SRR11321026'\n",
        "    ]\n",
        "# Label corresponding to each SRR library\n",
        "x_labels = [\n",
        "    'Patient PBMC\\n(fever day -1)',\n",
        "    'Patient PBMC\\n(fever day -2)',\n",
        "    'Patient PBMC\\n(post-infection control)',\n",
        "    'DENV-infected CEM.NK$^R$',\n",
        "    'Uninfected\\nControl (CEM.NK$^R$)'\n",
        "    ]\n",
        "\n",
        "# Target virus IDs to plot (here, Dengue virus)\n",
        "target_virus = \"Dengue virus\"\n",
        "target_ids = tax_df[tax_df[\"species\"].str.contains(target_virus)][\"rep_ID\"].unique()\n",
        "\n",
        "counts = []\n",
        "labels = samples\n",
        "for sample in samples:\n",
        "    counts.append(adata.X[adata.obs[\"srr\"].str.contains(sample), adata.var.index.isin(target_ids)].sum())\n",
        "\n",
        "x = np.arange(len(labels))\n",
        "\n",
        "ax.bar(x, counts, width=width, color=\"#003049\", edgecolor=\"black\")\n",
        "\n",
        "ax.set_yscale(\"symlog\")\n",
        "ax.set_ylabel(\"kallisto (raw counts for Dengue virus)\", fontsize=fontsize)\n",
        "# ax.set_xlabel(\"Sample\", fontsize=fontsize)\n",
        "\n",
        "ax.set_xticks(x, x_labels, rotation=45, ha=\"right\")\n",
        "\n",
        "ax.tick_params(axis=\"both\", labelsize=fontsize)\n",
        "\n",
        "ax.grid(True, which=\"both\", color=\"lightgray\", ls=\"--\", lw=1)\n",
        "ax.set_axisbelow(True)\n",
        "\n",
        "# Save figure\n",
        "plt.savefig(\"denv_rdrp_count.png\", dpi=300, bbox_inches=\"tight\")\n",
        "\n",
        "fig.show()"
      ],
      "metadata": {
        "id": "f4hZ8fXSeshE"
      },
      "execution_count": null,
      "outputs": []
    },
    {
      "cell_type": "code",
      "source": [],
      "metadata": {
        "id": "NOqwF1AwL5oM"
      },
      "execution_count": null,
      "outputs": []
    }
  ],
  "metadata": {
    "colab": {
      "provenance": [],
      "authorship_tag": "ABX9TyMci6U9uFEMQE1U5+DxYyNC",
      "include_colab_link": true
    },
    "kernelspec": {
      "display_name": "Python 3",
      "name": "python3"
    },
    "language_info": {
      "name": "python"
    }
  },
  "nbformat": 4,
  "nbformat_minor": 0
}