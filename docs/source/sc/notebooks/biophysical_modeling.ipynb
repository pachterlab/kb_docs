{
 "cells": [
  {
   "cell_type": "markdown",
   "metadata": {
    "id": "bB4YPLlWBdsI"
   },
   "source": [
    "# Nascent and Mature RNA quantification"
   ]
  },
  {
   "cell_type": "markdown",
   "metadata": {
    "id": "ijU_u6uj3Sio"
   },
   "source": [
    "Producing nascent and mature RNA quantification can be used in some biophysics models that require both unspliced and spliced mRNA count modalities. Some of our biophysics models are here: https://biophysics.readthedocs.io/en/latest/\n",
    "\n",
    "We output and AnnData object with spliced/unspliced layers, filter it based of a UMI count threshold, and save it in the form of a loom object.\n",
    "\n",
    "Notebook authored by Delaney K. Sullivan.\n",
    "\n",
    "Please cite the following:\n",
    "\n",
    "* Melsted P, Booeshaghi AS, Liu L, Gao F, Lu L, Min KHJ, et al. Modular, efficient and constant-memory single-cell RNA-seq preprocessing. Nat Biotechnol. 2021 Jul;39(7):813–8.\n",
    "\n",
    "* Sullivan DK, Hjörleifsson KE, Swarna NP, Oakes C, Holley G, Melsted P, Pachter L. Accurate quantification of nascent and mature RNAs from single-cell and single-nucleus RNA-seq [Internet]. Nucleic Acids Research. 2025 Jan;53(1):gkae1137\n",
    "\n",
    "* Sullivan DK, Min KH (Joseph), Hjörleifsson KE, Luebbert L, Holley G, Moses L, et al. kallisto, bustools, and kb-python for quantifying bulk, single-cell, and single-nucleus RNA-seq. Nat Protoc. 2025;20:587–607.\n",
    "\n",
    "Note: The output can also be directly used in RNA velocity workflows. However, to read about some of our critiques of RNA velocity, please see the following publication:\n",
    "\n",
    "* Gorin G, Fang M, Chari T, Pachter L. RNA velocity unraveled. PLoS Computational Biology. 18(9):e1010492.\n"
   ]
  },
  {
   "cell_type": "markdown",
   "metadata": {
    "id": "4ptOROSxBx8n"
   },
   "source": [
    "## Setup"
   ]
  },
  {
   "cell_type": "code",
   "execution_count": 1,
   "metadata": {
    "id": "kvkIiCNZoYqX"
   },
   "outputs": [],
   "source": [
    "# This is  used to time the running of the notebook\n",
    "import time\n",
    "start_time = time.time()"
   ]
  },
  {
   "cell_type": "markdown",
   "metadata": {
    "id": "NZQem291oeod"
   },
   "source": [
    "### Install python packages"
   ]
  },
  {
   "cell_type": "code",
   "execution_count": 2,
   "metadata": {
    "colab": {
     "base_uri": "https://localhost:8080/"
    },
    "id": "I3C-RiGJBdsN",
    "outputId": "a4a4d27e-58b2-4f31-e7e0-20c3059bc48a"
   },
   "outputs": [
    {
     "name": "stdout",
     "output_type": "stream",
     "text": [
      "\u001b[2K   \u001b[90m━━━━━━━━━━━━━━━━━━━━━━━━━━━━━━━━━━━━━━━━\u001b[0m \u001b[32m2.1/2.1 MB\u001b[0m \u001b[31m24.2 MB/s\u001b[0m eta \u001b[36m0:00:00\u001b[0m\n",
      "\u001b[2K   \u001b[90m━━━━━━━━━━━━━━━━━━━━━━━━━━━━━━━━━━━━━━━━\u001b[0m \u001b[32m4.4/4.4 MB\u001b[0m \u001b[31m60.6 MB/s\u001b[0m eta \u001b[36m0:00:00\u001b[0m\n",
      "\u001b[2K   \u001b[90m━━━━━━━━━━━━━━━━━━━━━━━━━━━━━━━━━━━━━━━━\u001b[0m \u001b[32m1.1/1.1 MB\u001b[0m \u001b[31m23.5 MB/s\u001b[0m eta \u001b[36m0:00:00\u001b[0m\n",
      "\u001b[2K   \u001b[90m━━━━━━━━━━━━━━━━━━━━━━━━━━━━━━━━━━━━━━━━\u001b[0m \u001b[32m144.5/144.5 kB\u001b[0m \u001b[31m7.4 MB/s\u001b[0m eta \u001b[36m0:00:00\u001b[0m\n",
      "\u001b[2K   \u001b[90m━━━━━━━━━━━━━━━━━━━━━━━━━━━━━━━━━━━━━━━━\u001b[0m \u001b[32m61.4/61.4 kB\u001b[0m \u001b[31m3.9 MB/s\u001b[0m eta \u001b[36m0:00:00\u001b[0m\n",
      "\u001b[2K   \u001b[90m━━━━━━━━━━━━━━━━━━━━━━━━━━━━━━━━━━━━━━━━\u001b[0m \u001b[32m58.2/58.2 kB\u001b[0m \u001b[31m1.7 MB/s\u001b[0m eta \u001b[36m0:00:00\u001b[0m\n",
      "\u001b[2K   \u001b[90m━━━━━━━━━━━━━━━━━━━━━━━━━━━━━━━━━━━━━━━━\u001b[0m \u001b[32m69.4/69.4 kB\u001b[0m \u001b[31m4.3 MB/s\u001b[0m eta \u001b[36m0:00:00\u001b[0m\n",
      "\u001b[2K     \u001b[90m━━━━━━━━━━━━━━━━━━━━━━━━━━━━━━━━━━━━━━━━\u001b[0m \u001b[32m49.6/49.6 kB\u001b[0m \u001b[31m3.0 MB/s\u001b[0m eta \u001b[36m0:00:00\u001b[0m\n",
      "\u001b[?25h  Preparing metadata (setup.py) ... \u001b[?25l\u001b[?25hdone\n",
      "\u001b[2K   \u001b[90m━━━━━━━━━━━━━━━━━━━━━━━━━━━━━━━━━━━━━━━━\u001b[0m \u001b[32m40.8/40.8 kB\u001b[0m \u001b[31m3.1 MB/s\u001b[0m eta \u001b[36m0:00:00\u001b[0m\n",
      "\u001b[?25h  Building wheel for loompy (setup.py) ... \u001b[?25l\u001b[?25hdone\n",
      "\u001b[2K     \u001b[90m━━━━━━━━━━━━━━━━━━━━━━━━━━━━━━━━━━━━━━━\u001b[0m \u001b[32m198.9/198.9 kB\u001b[0m \u001b[31m5.9 MB/s\u001b[0m eta \u001b[36m0:00:00\u001b[0m\n",
      "\u001b[?25h  Preparing metadata (setup.py) ... \u001b[?25l\u001b[?25hdone\n",
      "\u001b[2K   \u001b[90m━━━━━━━━━━━━━━━━━━━━━━━━━━━━━━━━━━━━━━━━\u001b[0m \u001b[32m26.5/26.5 MB\u001b[0m \u001b[31m87.1 MB/s\u001b[0m eta \u001b[36m0:00:00\u001b[0m\n",
      "\u001b[?25h  Building wheel for velocyto (setup.py) ... \u001b[?25l\u001b[?25hdone\n",
      "\u001b[2K   \u001b[90m━━━━━━━━━━━━━━━━━━━━━━━━━━━━━━━━━━━━━━━━\u001b[0m \u001b[32m196.8/196.8 kB\u001b[0m \u001b[31m4.6 MB/s\u001b[0m eta \u001b[36m0:00:00\u001b[0m\n",
      "\u001b[2K   \u001b[90m━━━━━━━━━━━━━━━━━━━━━━━━━━━━━━━━━━━━━━━━\u001b[0m \u001b[32m36.5/36.5 MB\u001b[0m \u001b[31m59.5 MB/s\u001b[0m eta \u001b[36m0:00:00\u001b[0m\n",
      "\u001b[2K   \u001b[90m━━━━━━━━━━━━━━━━━━━━━━━━━━━━━━━━━━━━━━━━\u001b[0m \u001b[32m3.3/3.3 MB\u001b[0m \u001b[31m98.7 MB/s\u001b[0m eta \u001b[36m0:00:00\u001b[0m\n",
      "\u001b[2K   \u001b[90m━━━━━━━━━━━━━━━━━━━━━━━━━━━━━━━━━━━━━━━━\u001b[0m \u001b[32m50.9/50.9 MB\u001b[0m \u001b[31m21.2 MB/s\u001b[0m eta \u001b[36m0:00:00\u001b[0m\n",
      "\u001b[?25hCPU times: user 14.7 s, sys: 3.66 s, total: 18.4 s\n",
      "Wall time: 1min 17s\n"
     ]
    }
   ],
   "source": [
    "%%time\n",
    "!pip install --quiet scanpy python-igraph pybiomart\n",
    "!pip install --quiet matplotlib\n",
    "!pip install --quiet scikit-learn\n",
    "!pip install --quiet numpy\n",
    "!pip install --quiet scipy\n",
    "!pip install --quiet loompy\n",
    "\n",
    "!pip install --quiet kb-python==0.29.5"
   ]
  },
  {
   "cell_type": "markdown",
   "metadata": {
    "id": "iknPcgk9BdsO"
   },
   "source": [
    "### Download the scRNA-seq data"
   ]
  },
  {
   "cell_type": "markdown",
   "metadata": {
    "id": "HjOdRPXiRamc"
   },
   "source": [
    "Human week 10 fetal forebrain (10x2 single-cell) dataset (SRR6470906) subsetted to 50 million reads"
   ]
  },
  {
   "cell_type": "code",
   "execution_count": 2,
   "metadata": {
    "colab": {
     "base_uri": "https://localhost:8080/"
    },
    "id": "c8NrCgS4BdsO",
    "outputId": "15870170-b5cd-4c6d-99f0-b64e750d128b"
   },
   "outputs": [
    {
     "name": "stdout",
     "output_type": "stream",
     "text": [
      "CPU times: user 869 ms, sys: 144 ms, total: 1.01 s\n",
      "Wall time: 1min 14s\n"
     ]
    }
   ],
   "source": [
    "%%time\n",
    "!wget -q https://github.com/pachterlab/data/releases/download/v1/human_10x_R1.fastq.gz\n",
    "!wget -q https://github.com/pachterlab/data/releases/download/v1/human_10x_R2.fastq.gz"
   ]
  },
  {
   "cell_type": "markdown",
   "metadata": {
    "id": "MkyfIwyiBdsO"
   },
   "source": [
    "## Downloading a pre-built index with kb ref"
   ]
  },
  {
   "cell_type": "markdown",
   "metadata": {
    "id": "2WGMSyafBdsO"
   },
   "source": [
    "We download an index with --workflow=nac which includes the nascent and mature transcriptome.\n",
    "\n",
    "If we were to build the index from scratch (given a reference FASTA and GTF), we'd run the following:\n",
    "\n",
    "`kb ref -i index.idx -g t2g.txt --workflow=nac -f1 f1.fa -f2 f2.fa -c1 cdna.txt -c2 nascent.txt human_reference_path.fa human_gtf_path.gtf`\n",
    "\n",
    "\n",
    "\n"
   ]
  },
  {
   "cell_type": "code",
   "execution_count": 3,
   "metadata": {
    "colab": {
     "base_uri": "https://localhost:8080/"
    },
    "id": "e3MoXNJEBdsP",
    "outputId": "8678d518-36a1-42b6-c6f0-676433de751b"
   },
   "outputs": [
    {
     "name": "stdout",
     "output_type": "stream",
     "text": [
      "[2025-06-12 02:01:10,700]    INFO [download] Downloading files for human (nac workflow) from https://github.com/pachterlab/kallisto-transcriptome-indices/releases/download/v1/human_index_nac.tar.xz to tmp/human_index_nac.tar.xz\n",
      "100%|██████████████████████████████████████| 1.84G/1.84G [00:45<00:00, 42.9MB/s]\n",
      "[2025-06-12 02:01:56,631]    INFO [download] Extracting files from tmp/human_index_nac.tar.xz\n",
      "CPU times: user 2.83 s, sys: 554 ms, total: 3.38 s\n",
      "Wall time: 3min 48s\n"
     ]
    }
   ],
   "source": [
    "%%time\n",
    "!kb ref --workflow=nac -d human -i index.idx -g t2g.txt -c1 cdna.txt -c2 nascent.txt"
   ]
  },
  {
   "cell_type": "markdown",
   "metadata": {
    "id": "FgSsCx_QBdsP"
   },
   "source": [
    "## Pseudoaligning the scRNA-seq data to the index with kb count"
   ]
  },
  {
   "cell_type": "markdown",
   "metadata": {
    "id": "GpidimvzUd72"
   },
   "source": [
    "Note: We pseudoalign the reads using --workflow=nac which enables us to obtain nascent, mature, and ambiguous RNA classifications (in contrats, in our single-nucleus RNA-seq tutorial, we used a standard workflow for mapping reads to the nac index type because we didn't care about resolving nascent, mature, and ambiguous status)."
   ]
  },
  {
   "cell_type": "code",
   "execution_count": 6,
   "metadata": {
    "colab": {
     "base_uri": "https://localhost:8080/"
    },
    "id": "0JuntjFQBdsP",
    "outputId": "e6e719b5-ff26-4948-d7a1-0e7751924525"
   },
   "outputs": [
    {
     "name": "stdout",
     "output_type": "stream",
     "text": [
      "[2025-06-12 02:09:36,391]    INFO [count_nac] Using index index.idx to generate BUS file to . from\n",
      "[2025-06-12 02:09:36,392]    INFO [count_nac]         human_10x_R1.fastq.gz\n",
      "[2025-06-12 02:09:36,392]    INFO [count_nac]         human_10x_R2.fastq.gz\n",
      "[2025-06-12 02:25:34,972]    INFO [count_nac] Sorting BUS file ./output.bus to ./tmp/output.s.bus\n",
      "[2025-06-12 02:25:47,403]    INFO [count_nac] On-list not provided\n",
      "[2025-06-12 02:25:47,403]    INFO [count_nac] Copying pre-packaged 10XV2 on-list to .\n",
      "[2025-06-12 02:25:47,483]    INFO [count_nac] Inspecting BUS file ./tmp/output.s.bus\n",
      "[2025-06-12 02:25:51,092]    INFO [count_nac] Correcting BUS records in ./tmp/output.s.bus to ./tmp/output.s.c.bus with on-list ./10x_version2_whitelist.txt\n",
      "[2025-06-12 02:25:59,310]    INFO [count_nac] Sorting BUS file ./tmp/output.s.c.bus to ./output.unfiltered.bus\n",
      "[2025-06-12 02:26:08,945]    INFO [count_nac] Generating count matrix ./counts_unfiltered/cells_x_genes from BUS file ./output.unfiltered.bus\n",
      "[2025-06-12 02:26:34,910]    INFO [count_nac] Writing gene names to file ./counts_unfiltered/cells_x_genes.genes.names.txt\n",
      "[2025-06-12 02:26:35,244] WARNING [count_nac] 13914 gene IDs do not have corresponding valid gene names. These genes will use their gene IDs instead.\n",
      "[2025-06-12 02:26:35,278]    INFO [count_nac] Reading matrix ./counts_unfiltered/cells_x_genes.mature.mtx\n",
      "[2025-06-12 02:26:36,931]    INFO [count_nac] Reading matrix ./counts_unfiltered/cells_x_genes.nascent.mtx\n",
      "[2025-06-12 02:26:39,154]    INFO [count_nac] Reading matrix ./counts_unfiltered/cells_x_genes.ambiguous.mtx\n",
      "[2025-06-12 02:26:43,044]    INFO [count_nac] Combining matrices\n",
      "[2025-06-12 02:26:43,254]    INFO [count_nac] Writing matrices to h5ad ./counts_unfiltered/adata.h5ad\n",
      "CPU times: user 10.3 s, sys: 1.74 s, total: 12 s\n",
      "Wall time: 17min 13s\n"
     ]
    }
   ],
   "source": [
    "%%time\n",
    "# This step runs `kb` to pseudoalign the reads, and then generate the cells x gene matrix in h5ad format.\n",
    "!kb count -i index.idx -g t2g.txt -x 10XV2 --h5ad -t 2 --workflow=nac \\\n",
    "-c1 cdna.txt -c2 nascent.txt human_10x_R1.fastq.gz human_10x_R2.fastq.gz"
   ]
  },
  {
   "cell_type": "markdown",
   "metadata": {},
   "source": [
    "## Setup python imports"
   ]
  },
  {
   "cell_type": "code",
   "execution_count": 171,
   "metadata": {},
   "outputs": [],
   "source": [
    "import anndata\n",
    "import numpy as np\n",
    "import matplotlib\n",
    "import matplotlib.pyplot as plt\n",
    "import scanpy as sc\n",
    "import scipy\n",
    "import sklearn"
   ]
  },
  {
   "cell_type": "markdown",
   "metadata": {
    "id": "sZmv_OiIqEdw"
   },
   "source": [
    "## Setup the AnnData matrix layers"
   ]
  },
  {
   "cell_type": "markdown",
   "metadata": {
    "id": "wZyzW1VWqpPy"
   },
   "source": [
    "First, the *cells x genes* matrices are imported into an H5AD-formatted [Anndata](https://icb-anndata.readthedocs-hosted.com/en/stable/anndata.AnnData.html) matrix. Anndata is a convenient format for storing single-cell count matrices in Python. It contains three layers: ambiguous, mature, and nascent.\n",
    "\n",
    "We'll sum up the mature+ambiguous to be the 'spliced' layer and consider the nascent to be 'unspliced'."
   ]
  },
  {
   "cell_type": "code",
   "execution_count": 153,
   "metadata": {
    "colab": {
     "base_uri": "https://localhost:8080/"
    },
    "id": "ktUFMcJ1qdj0",
    "outputId": "414dd84e-2aeb-4d3d-e6e7-fb86f6116445"
   },
   "outputs": [
    {
     "data": {
      "text/plain": [
       "AnnData object with n_obs × n_vars = 197056 × 39546\n",
       "    layers: 'ambiguous', 'mature', 'nascent'"
      ]
     },
     "execution_count": 153,
     "metadata": {},
     "output_type": "execute_result"
    }
   ],
   "source": [
    "# import data\n",
    "adata = anndata.read_h5ad('counts_unfiltered/adata.h5ad')\n",
    "adata"
   ]
  },
  {
   "cell_type": "code",
   "execution_count": 154,
   "metadata": {},
   "outputs": [],
   "source": [
    "import numpy as np\n",
    "\n",
    "# Create 'spliced' by summing 'mature' and 'ambiguous'\n",
    "adata.layers['spliced'] = adata.layers['mature'] + adata.layers['ambiguous']\n",
    "adata.X = adata.layers['spliced']\n",
    "\n",
    "# Rename 'nascent' to 'unspliced'\n",
    "adata.layers['unspliced'] = adata.layers['nascent']\n",
    "\n",
    "# Delete the original layers\n",
    "del adata.layers['mature']\n",
    "del adata.layers['ambiguous']\n",
    "del adata.layers['nascent']\n",
    "\n",
    "\n",
    "# Make the 'ambiguous' layer contain nothing (since this layer usually isn't used)\n",
    "adata.layers['ambiguous'] = np.zeros(adata.shape, dtype=adata.X.dtype)"
   ]
  },
  {
   "cell_type": "code",
   "execution_count": 155,
   "metadata": {},
   "outputs": [
    {
     "data": {
      "text/plain": [
       "AnnData object with n_obs × n_vars = 197056 × 39546\n",
       "    layers: 'spliced', 'unspliced', 'ambiguous'"
      ]
     },
     "execution_count": 155,
     "metadata": {},
     "output_type": "execute_result"
    }
   ],
   "source": [
    "adata"
   ]
  },
  {
   "cell_type": "code",
   "execution_count": 156,
   "metadata": {},
   "outputs": [
    {
     "data": {
      "image/png": "[encoded data removed]",
      "text/plain": [
       "<Figure size 1000x700 with 1 Axes>"
      ]
     },
     "metadata": {},
     "output_type": "display_data"
    }
   ],
   "source": [
    "cutoff = 1000\n",
    "knee = np.sort((np.array(adata.X.sum(axis=1))).flatten())[::-1]\n",
    "cell_set = np.arange(len(knee))\n",
    "num_cells = cell_set[knee > cutoff][::-1][0]\n",
    "\n",
    "fig, ax = plt.subplots(figsize=(10, 7))\n",
    "\n",
    "\n",
    "ax.loglog(knee, cell_set, linewidth=5, color=\"g\")\n",
    "ax.axvline(x=cutoff, linewidth=3, color=\"k\")\n",
    "\n",
    "\n",
    "ax.axhline(y=num_cells, linewidth=3, color=\"k\")\n",
    "\n",
    "ax.set_xlabel(\"UMI Counts\")\n",
    "ax.set_ylabel(\"Set of Barcodes\")\n",
    "\n",
    "plt.grid(True, which=\"both\")\n",
    "plt.show()"
   ]
  },
  {
   "cell_type": "code",
   "execution_count": 157,
   "metadata": {},
   "outputs": [],
   "source": [
    "# Compute the total spliced UMI count per cell\n",
    "spliced_umis = np.array(adata.layers['spliced'].sum(axis=1)).flatten()\n",
    "\n",
    "# Create a boolean mask for cells with > 1000 spliced UMIs\n",
    "cell_mask = spliced_umis > 1000\n",
    "\n",
    "# Subset the AnnData object\n",
    "adata = adata[cell_mask]"
   ]
  },
  {
   "cell_type": "markdown",
   "metadata": {},
   "source": [
    "## Save the final Anndata as a Loom file"
   ]
  },
  {
   "cell_type": "code",
   "execution_count": 158,
   "metadata": {},
   "outputs": [],
   "source": [
    "adata.write_loom('final.loom')"
   ]
  }
 ],
 "metadata": {
  "accelerator": "GPU",
  "colab": {
   "provenance": []
  },
  "kernelspec": {
   "display_name": "Python (myenv)",
   "language": "python",
   "name": "swiftseq_analysis"
  },
  "language_info": {
   "codemirror_mode": {
    "name": "ipython",
    "version": 3
   },
   "file_extension": ".py",
   "mimetype": "text/x-python",
   "name": "python",
   "nbconvert_exporter": "python",
   "pygments_lexer": "ipython3",
   "version": "3.10.16"
  }
 },
 "nbformat": 4,
 "nbformat_minor": 1
}
